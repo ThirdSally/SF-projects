{
 "cells": [
  {
   "cell_type": "markdown",
   "metadata": {
    "papermill": {
     "duration": 0.149967,
     "end_time": "2021-06-20T21:12:42.523943",
     "exception": false,
     "start_time": "2021-06-20T21:12:42.373976",
     "status": "completed"
    },
    "tags": []
   },
   "source": [
    "# Car Price prediction"
   ]
  },
  {
   "cell_type": "markdown",
   "metadata": {
    "papermill": {
     "duration": 0.145472,
     "end_time": "2021-06-20T21:12:42.815392",
     "exception": false,
     "start_time": "2021-06-20T21:12:42.669920",
     "status": "completed"
    },
    "tags": []
   },
   "source": [
    "![cars](http://1.bp.blogspot.com/-Iq9Y1Ex6M8I/VkpRygq69EI/AAAAAAAAD6o/SaUWI7QtPqk/s1600/Audi-RS-5-BMW-M3-Mercedes-C-63-AMG-1200x800-731268a2f334fcee%2B%25281%2529.jpg)"
   ]
  },
  {
   "cell_type": "markdown",
   "metadata": {
    "papermill": {
     "duration": 0.145663,
     "end_time": "2021-06-20T21:12:43.106178",
     "exception": false,
     "start_time": "2021-06-20T21:12:42.960515",
     "status": "completed"
    },
    "tags": []
   },
   "source": [
    "## Прогнозирование стоимости автомобиля по характеристикам\n",
    "Необходимо построить модель, которая будет распознавать изображения и обрабатывать текст."
   ]
  },
  {
   "cell_type": "code",
   "execution_count": 1,
   "metadata": {
    "execution": {
     "iopub.execute_input": "2021-06-20T21:12:53.851107Z",
     "iopub.status.busy": "2021-06-20T21:12:53.847316Z",
     "iopub.status.idle": "2021-06-20T21:13:01.657201Z",
     "shell.execute_reply": "2021-06-20T21:13:01.656166Z",
     "shell.execute_reply.started": "2021-06-20T20:09:57.495932Z"
    },
    "papermill": {
     "duration": 7.965501,
     "end_time": "2021-06-20T21:13:01.657322",
     "exception": false,
     "start_time": "2021-06-20T21:12:53.691821",
     "status": "completed"
    },
    "tags": []
   },
   "outputs": [
    {
     "name": "stdout",
     "output_type": "stream",
     "text": [
      "Collecting pymorphy2\n",
      "  Downloading pymorphy2-0.9.1-py3-none-any.whl (55 kB)\n",
      "Collecting docopt>=0.6\n",
      "  Downloading docopt-0.6.2.tar.gz (25 kB)\n",
      "Collecting pymorphy2-dicts-ru<3.0,>=2.4\n",
      "  Downloading pymorphy2_dicts_ru-2.4.417127.4579844-py2.py3-none-any.whl (8.2 MB)\n",
      "Collecting dawg-python>=0.7.1\n",
      "  Downloading DAWG_Python-0.7.2-py2.py3-none-any.whl (11 kB)\n",
      "Building wheels for collected packages: docopt\n",
      "  Building wheel for docopt (setup.py): started\n",
      "  Building wheel for docopt (setup.py): finished with status 'done'\n",
      "  Created wheel for docopt: filename=docopt-0.6.2-py2.py3-none-any.whl size=13709 sha256=383c38ae85af9a693592987b3694253229fc14fda2ffeb9372ce341910aabdfc\n",
      "  Stored in directory: c:\\users\\assem\\appdata\\local\\pip\\cache\\wheels\\56\\ea\\58\\ead137b087d9e326852a851351d1debf4ada529b6ac0ec4e8c\n",
      "Successfully built docopt\n",
      "Installing collected packages: pymorphy2-dicts-ru, docopt, dawg-python, pymorphy2\n",
      "Successfully installed dawg-python-0.7.2 docopt-0.6.2 pymorphy2-0.9.1 pymorphy2-dicts-ru-2.4.417127.4579844\n"
     ]
    }
   ],
   "source": [
    "!pip install pymorphy2"
   ]
  },
  {
   "cell_type": "code",
   "execution_count": 2,
   "metadata": {
    "_kg_hide-input": true,
    "execution": {
     "iopub.execute_input": "2021-06-20T21:13:01.983698Z",
     "iopub.status.busy": "2021-06-20T21:13:01.982831Z",
     "iopub.status.idle": "2021-06-20T21:13:01.985305Z",
     "shell.execute_reply": "2021-06-20T21:13:01.984749Z",
     "shell.execute_reply.started": "2021-06-20T20:10:04.401822Z"
    },
    "papermill": {
     "duration": 0.167224,
     "end_time": "2021-06-20T21:13:01.985398",
     "exception": false,
     "start_time": "2021-06-20T21:13:01.818174",
     "status": "completed"
    },
    "tags": []
   },
   "outputs": [],
   "source": [
    "#!pip install -q tensorflow==2.3"
   ]
  },
  {
   "cell_type": "code",
   "execution_count": 3,
   "metadata": {
    "_kg_hide-input": true,
    "execution": {
     "iopub.execute_input": "2021-06-20T21:13:02.348129Z",
     "iopub.status.busy": "2021-06-20T21:13:02.344943Z",
     "iopub.status.idle": "2021-06-20T21:13:07.655273Z",
     "shell.execute_reply": "2021-06-20T21:13:07.654735Z",
     "shell.execute_reply.started": "2021-06-20T20:10:04.408699Z"
    },
    "papermill": {
     "duration": 5.475233,
     "end_time": "2021-06-20T21:13:07.655383",
     "exception": false,
     "start_time": "2021-06-20T21:13:02.180150",
     "status": "completed"
    },
    "tags": []
   },
   "outputs": [],
   "source": [
    "#аугментации изображений\n",
    "!pip install albumentations -q"
   ]
  },
  {
   "cell_type": "code",
   "execution_count": null,
   "metadata": {
    "_cell_guid": "b1076dfc-b9ad-4769-8c92-a6c4dae69d19",
    "_kg_hide-input": true,
    "_uuid": "8f2839f25d086af736a60e9eeb907d3b93b6e0e5",
    "execution": {
     "iopub.execute_input": "2021-06-20T21:13:07.999271Z",
     "iopub.status.busy": "2021-06-20T21:13:07.996906Z",
     "iopub.status.idle": "2021-06-20T21:13:15.361420Z",
     "shell.execute_reply": "2021-06-20T21:13:15.360347Z",
     "shell.execute_reply.started": "2021-06-20T20:10:09.706923Z"
    },
    "papermill": {
     "duration": 7.543998,
     "end_time": "2021-06-20T21:13:15.361535",
     "exception": false,
     "start_time": "2021-06-20T21:13:07.817537",
     "status": "completed"
    },
    "tags": []
   },
   "outputs": [
    {
     "name": "stderr",
     "output_type": "stream",
     "text": [
      "[nltk_data] Downloading package stopwords to\n",
      "[nltk_data]     C:\\Users\\assem\\AppData\\Roaming\\nltk_data...\n",
      "[nltk_data]   Package stopwords is already up-to-date!\n"
     ]
    }
   ],
   "source": [
    "# This Python 3 environment comes with many helpful analytics libraries installed\n",
    "# It is defined by the kaggle/python Docker image: https://github.com/kaggle/docker-python\n",
    "# For example, here's several helpful packages to load\n",
    "\n",
    "import random\n",
    "import numpy as np # linear algebra\n",
    "import pandas as pd # data processing, CSV file I/O (e.g. pd.read_csv)\n",
    "import os\n",
    "import sys\n",
    "import PIL\n",
    "import cv2\n",
    "import re\n",
    "import seaborn as sns\n",
    "\n",
    "import nltk\n",
    "nltk.download(\"stopwords\")\n",
    "from nltk.corpus import stopwords\n",
    "from string import punctuation\n",
    "from nltk.tokenize import word_tokenize\n",
    "from pymorphy2 import MorphAnalyzer\n",
    "\n",
    "\n",
    "# Input data files are available in the read-only \"../input/\" directory\n",
    "# For example, running this (by clicking run or pressing Shift+Enter) will list all files under the input directory\n",
    "\n",
    "from catboost import CatBoostRegressor\n",
    "from sklearn.model_selection import train_test_split\n",
    "from sklearn.preprocessing import MinMaxScaler\n",
    "from sklearn.feature_selection import f_regression, mutual_info_regression\n",
    "\n",
    "# # keras\n",
    "import tensorflow as tf\n",
    "import tensorflow.keras.layers as L\n",
    "from tensorflow.keras.models import Model, Sequential\n",
    "from tensorflow.keras.preprocessing.text import Tokenizer\n",
    "from tensorflow.keras.preprocessing import sequence\n",
    "from tensorflow.keras.callbacks import ModelCheckpoint, EarlyStopping, Callback\n",
    "import keras.backend as K\n",
    "import albumentations\n",
    "\n",
    "# plt\n",
    "import matplotlib.pyplot as plt\n",
    "#увеличим дефолтный размер графиков\n",
    "from pylab import rcParams\n",
    "rcParams['figure.figsize'] = 10, 5\n",
    "#графики в svg выглядят более четкими\n",
    "%config InlineBackend.figure_format = 'svg' \n",
    "%matplotlib inline\n",
    "\n",
    "# You can write up to 5GB to the current directory (/kaggle/working/) that gets preserved as output when you create a version using \"Save & Run All\" \n",
    "# You can also write temporary files to /kaggle/temp/, but they won't be saved outside of the current session"
   ]
  },
  {
   "cell_type": "code",
   "execution_count": null,
   "metadata": {
    "papermill": {
     "duration": 0.160559,
     "end_time": "2021-06-20T21:13:15.684957",
     "exception": false,
     "start_time": "2021-06-20T21:13:15.524398",
     "status": "completed"
    },
    "tags": []
   },
   "outputs": [],
   "source": []
  },
  {
   "cell_type": "code",
   "execution_count": null,
   "metadata": {
    "execution": {
     "iopub.execute_input": "2021-06-20T21:13:16.038065Z",
     "iopub.status.busy": "2021-06-20T21:13:16.030493Z",
     "iopub.status.idle": "2021-06-20T21:13:16.068940Z",
     "shell.execute_reply": "2021-06-20T21:13:16.068472Z",
     "shell.execute_reply.started": "2021-06-20T20:10:17.105053Z"
    },
    "papermill": {
     "duration": 0.223536,
     "end_time": "2021-06-20T21:13:16.069036",
     "exception": false,
     "start_time": "2021-06-20T21:13:15.845500",
     "status": "completed"
    },
    "tags": []
   },
   "outputs": [],
   "source": [
    "pd.set_option('display.max_rows', 50)  \n",
    "pd.set_option('display.max_columns', 50)\n",
    "\n",
    "# определяем функции\n",
    "\n",
    "'''функция для подсчета пропущенных значений и их процента от общего числа значений'''\n",
    "\n",
    "\n",
    "def missing_table(df):\n",
    "    mis_val = df.isnull().sum()\n",
    "    percent = 100 * df.isnull().sum() / len(df)\n",
    "    mis_table = pd.DataFrame({\n",
    "        'Missing Values': mis_val,\n",
    "        '% of Total Values': percent\n",
    "    })\n",
    "    return mis_table\n",
    "\n",
    "\n",
    "\n",
    "'''функция, выводящая средние показатели: mean, median, mode'''\n",
    "\n",
    "\n",
    "def mid_val(df, column):\n",
    "    median = df[column].median()\n",
    "    mode = df[column].mode()\n",
    "    mean = df[column].mean()\n",
    "    return display(\n",
    "        pd.DataFrame({\n",
    "            'Признак': column,\n",
    "            'Медиана': median,\n",
    "            'Среднее': mean,\n",
    "            'Мода': mode\n",
    "        }))\n",
    "\n",
    "\n",
    "\n",
    "'''функция, выводящая все уникальные значения и их количество'''\n",
    "\n",
    "\n",
    "def cat_values(df, column):\n",
    "    display(pd.DataFrame(df[column].value_counts(dropna=True)))\n",
    "    s = sns.catplot(x=column, kind=\"count\", palette=\"Blues\", data=df)\n",
    "    s.set_xticklabels(rotation=90)\n",
    "\n",
    "\n",
    "    \n",
    "'''функция для вывода краткой описательной статистики'''\n",
    "\n",
    "\n",
    "def desc_stat(df, column):\n",
    "    minimum = df[column].min()\n",
    "    maximum = df[column].max()\n",
    "    IQR = df[column].quantile(0.75) - df[column].quantile(0.25)\n",
    "    perc25 = df[column].quantile(0.25)\n",
    "    perc75 = df[column].quantile(0.75)\n",
    "    print(\n",
    "        'Минимальное значение: {}'.format(minimum),\n",
    "        '\\nМаксимальное значение: {}'.format(maximum),\n",
    "        '\\n25-й перцентиль: {}'.format(perc25),\n",
    "        '\\n75-й перцентиль: {}'.format(perc75), '\\nIQR: {}'.format(IQR),\n",
    "        '\\nГраницы выбросов: [{f}, {l}]'.format(f=perc25 - 1.5 * IQR,\n",
    "                                                l=perc75 + 1.5 * IQR))\n",
    "\n",
    "\n",
    "'''функция, определяющая границы выбросов'''\n",
    "\n",
    "\n",
    "def outliers_iqr(ys):\n",
    "    quartile_1, quartile_3 = np.percentile(ys, [10, 90])\n",
    "    iqr = quartile_3 - quartile_1\n",
    "    lower_bound = quartile_1 - (iqr * 1.5)\n",
    "    upper_bound = quartile_3 + (iqr * 1.5)\n",
    "    return lower_bound, upper_bound\n",
    "\n",
    "\n",
    "\n",
    "'''функция для опеределения средней стоимости автомобиля по категориям признака'''\n",
    "\n",
    "\n",
    "def mean_price_by(df, column):\n",
    "    return df.groupby([column])[['price'\n",
    "                                    ]].mean().sort_values(['price'],\n",
    "                                                          ascending=False)\n",
    "\n",
    "\n",
    "'''функция, определяющая распределение средней стоимости автомобиля относительно его возраста'''\n",
    "\n",
    "\n",
    "def price_by(df, column):\n",
    "    return df.groupby(\n",
    "        df[column])['price'].mean().to_frame().reset_index().sort_values(\n",
    "            by=[column]).plot.line(x=column, y='price')\n",
    "\n",
    "\n",
    "'''функция для построения графика зависимости от целевого признака'''\n",
    "\n",
    "\n",
    "def price_plot(df, column):\n",
    "    return sns.lmplot(x=column,\n",
    "                      y=\"price\",\n",
    "                      data=df,\n",
    "                      markers=[\"o\"],\n",
    "                      palette=\"Set1\")\n",
    "\n",
    "\n",
    "'''функция, определяющая среднюю абсолютную ошибку в процентах'''\n",
    "\n",
    "\n",
    "def mape(y_true, y_pred):\n",
    "    return np.mean(np.abs((y_pred - y_true) / y_true))\n",
    "\n",
    "\n",
    "from sklearn.metrics import make_scorer\n",
    "# отмечаем функцию для скоринга\n",
    "mape_score = make_scorer(mape, greater_is_better=False)\n",
    "\n",
    "\n",
    "# функция для указания возраста автомобиля\n",
    "\n",
    "\n",
    "def ownership_length(row):\n",
    "    y_list = ['лет', 'год']\n",
    "    m_list = ['месяцев','месяца']\n",
    "    months = []\n",
    "    if 'указано' in row:\n",
    "        return 0\n",
    "    else:\n",
    "        row_list = row.split()\n",
    "        for i in row_list:\n",
    "            if i in y_list:\n",
    "                index = row_list.index(i)\n",
    "                months.append(12*int(row_list[index-1]))\n",
    "            elif i in m_list:\n",
    "                index = row_list.index(i)\n",
    "                months.append(int(row_list[index-1]))\n",
    "                return sum(months)\n",
    "    \n",
    "    \n",
    "    \n",
    "    ######### получние облака слов ##################\n",
    "from wordcloud import WordCloud, STOPWORDS\n",
    "\n",
    "# Получение списка всех слов в корпусе\n",
    "def get_corpus(data):\n",
    "    corpus = []\n",
    "    for phrase in data:\n",
    "        for word in phrase.split():\n",
    "            corpus.append(word)\n",
    "    return corpus\n",
    "\n",
    "# Получение текстовой строки из списка слов\n",
    "def str_corpus(corpus):\n",
    "    str_corpus = ''\n",
    "    for i in corpus:\n",
    "        str_corpus += ' ' + i\n",
    "    str_corpus = str_corpus.strip()\n",
    "    return str_corpus\n",
    "\n",
    "# Получение облака слов\n",
    "def get_wordCloud(corpus):\n",
    "    wordCloud = WordCloud(background_color='white',\n",
    "                              stopwords=russian_stopwords,\n",
    "                              width=3000,\n",
    "                              height=2500,\n",
    "                              max_words=200,\n",
    "                              random_state=42\n",
    "                         ).generate(str_corpus(corpus))\n",
    "    return wordCloud"
   ]
  },
  {
   "cell_type": "code",
   "execution_count": null,
   "metadata": {
    "_kg_hide-input": true,
    "execution": {
     "iopub.execute_input": "2021-06-20T21:13:16.397719Z",
     "iopub.status.busy": "2021-06-20T21:13:16.396826Z",
     "iopub.status.idle": "2021-06-20T21:13:16.401701Z",
     "shell.execute_reply": "2021-06-20T21:13:16.401096Z",
     "shell.execute_reply.started": "2021-06-20T20:10:17.166499Z"
    },
    "papermill": {
     "duration": 0.17221,
     "end_time": "2021-06-20T21:13:16.401827",
     "exception": false,
     "start_time": "2021-06-20T21:13:16.229617",
     "status": "completed"
    },
    "tags": []
   },
   "outputs": [],
   "source": [
    "print('Python       :', sys.version.split('\\n')[0])\n",
    "print('Numpy        :', np.__version__)\n",
    "print('Tensorflow   :', tf.__version__)"
   ]
  },
  {
   "cell_type": "code",
   "execution_count": null,
   "metadata": {
    "_kg_hide-input": true,
    "execution": {
     "iopub.execute_input": "2021-06-20T21:13:16.731046Z",
     "iopub.status.busy": "2021-06-20T21:13:16.730276Z",
     "iopub.status.idle": "2021-06-20T21:13:16.732757Z",
     "shell.execute_reply": "2021-06-20T21:13:16.733281Z",
     "shell.execute_reply.started": "2021-06-20T20:10:17.177171Z"
    },
    "papermill": {
     "duration": 0.169372,
     "end_time": "2021-06-20T21:13:16.733395",
     "exception": false,
     "start_time": "2021-06-20T21:13:16.564023",
     "status": "completed"
    },
    "tags": []
   },
   "outputs": [],
   "source": [
    "def mape(y_true, y_pred):\n",
    "    return np.mean(np.abs((y_pred-y_true)/y_true))"
   ]
  },
  {
   "cell_type": "code",
   "execution_count": null,
   "metadata": {
    "_kg_hide-input": true,
    "execution": {
     "iopub.execute_input": "2021-06-20T21:13:17.061142Z",
     "iopub.status.busy": "2021-06-20T21:13:17.060323Z",
     "iopub.status.idle": "2021-06-20T21:13:17.063195Z",
     "shell.execute_reply": "2021-06-20T21:13:17.062659Z",
     "shell.execute_reply.started": "2021-06-20T20:10:17.185404Z"
    },
    "papermill": {
     "duration": 0.168516,
     "end_time": "2021-06-20T21:13:17.063285",
     "exception": false,
     "start_time": "2021-06-20T21:13:16.894769",
     "status": "completed"
    },
    "tags": []
   },
   "outputs": [],
   "source": [
    "# всегда фиксируйте RANDOM_SEED, чтобы ваши эксперименты были воспроизводимы!\n",
    "RANDOM_SEED = 42\n",
    "np.random.seed(RANDOM_SEED)"
   ]
  },
  {
   "cell_type": "code",
   "execution_count": null,
   "metadata": {
    "_kg_hide-input": true,
    "execution": {
     "iopub.execute_input": "2021-06-20T21:13:17.392747Z",
     "iopub.status.busy": "2021-06-20T21:13:17.391976Z",
     "iopub.status.idle": "2021-06-20T21:13:19.735955Z",
     "shell.execute_reply": "2021-06-20T21:13:19.735317Z",
     "shell.execute_reply.started": "2021-06-20T20:10:17.194802Z"
    },
    "papermill": {
     "duration": 2.51092,
     "end_time": "2021-06-20T21:13:19.736064",
     "exception": false,
     "start_time": "2021-06-20T21:13:17.225144",
     "status": "completed"
    },
    "tags": []
   },
   "outputs": [],
   "source": [
    "!pip freeze > requirements.txt"
   ]
  },
  {
   "cell_type": "markdown",
   "metadata": {
    "papermill": {
     "duration": 0.161372,
     "end_time": "2021-06-20T21:13:20.058910",
     "exception": false,
     "start_time": "2021-06-20T21:13:19.897538",
     "status": "completed"
    },
    "tags": []
   },
   "source": [
    "# DATA"
   ]
  },
  {
   "cell_type": "markdown",
   "metadata": {
    "papermill": {
     "duration": 0.265053,
     "end_time": "2021-06-20T21:13:20.569718",
     "exception": false,
     "start_time": "2021-06-20T21:13:20.304665",
     "status": "completed"
    },
    "tags": []
   },
   "source": [
    "Посмотрим на типы признаков:\n",
    "\n",
    "* bodyType - категориальный\n",
    "* brand - категориальный\n",
    "* color - категориальный\n",
    "* description - текстовый\n",
    "* engineDisplacement - числовой, представленный как текст\n",
    "* enginePower - числовой, представленный как текст\n",
    "* fuelType - категориальный\n",
    "* mileage - числовой\n",
    "* modelDate - числовой\n",
    "* model_info - категориальный\n",
    "* name - категориальный, желательно сократить размерность\n",
    "* numberOfDoors - категориальный\n",
    "* price - числовой, целевой\n",
    "* productionDate - числовой\n",
    "* sell_id - изображение (файл доступен по адресу, основанному на sell_id)\n",
    "* vehicleConfiguration - не используется (комбинация других столбцов)\n",
    "* vehicleTransmission - категориальный\n",
    "* Владельцы - категориальный\n",
    "* Владение - числовой, представленный как текст\n",
    "* ПТС - категориальный\n",
    "* Привод - категориальный\n",
    "* Руль - категориальный"
   ]
  },
  {
   "cell_type": "code",
   "execution_count": null,
   "metadata": {
    "_cell_guid": "79c7e3d0-c299-4dcb-8224-4455121ee9b0",
    "_uuid": "d629ff2d2480ee46fbb7e2d37f6b5fab8052498a",
    "execution": {
     "iopub.execute_input": "2021-06-20T21:13:20.923855Z",
     "iopub.status.busy": "2021-06-20T21:13:20.923327Z",
     "iopub.status.idle": "2021-06-20T21:13:21.238819Z",
     "shell.execute_reply": "2021-06-20T21:13:21.237664Z",
     "shell.execute_reply.started": "2021-06-20T20:10:19.637820Z"
    },
    "papermill": {
     "duration": 0.484472,
     "end_time": "2021-06-20T21:13:21.238930",
     "exception": false,
     "start_time": "2021-06-20T21:13:20.754458",
     "status": "completed"
    },
    "tags": []
   },
   "outputs": [],
   "source": [
    "train = pd.read_csv('train.csv')\n",
    "test = pd.read_csv('test.csv')\n",
    "sample_submission = pd.read_csv('sample_submission.csv')"
   ]
  },
  {
   "cell_type": "code",
   "execution_count": null,
   "metadata": {
    "execution": {
     "iopub.execute_input": "2021-06-20T21:13:21.688599Z",
     "iopub.status.busy": "2021-06-20T21:13:21.687718Z",
     "iopub.status.idle": "2021-06-20T21:13:21.708755Z",
     "shell.execute_reply": "2021-06-20T21:13:21.709757Z",
     "shell.execute_reply.started": "2021-06-20T20:10:19.946961Z"
    },
    "papermill": {
     "duration": 0.307851,
     "end_time": "2021-06-20T21:13:21.709923",
     "exception": false,
     "start_time": "2021-06-20T21:13:21.402072",
     "status": "completed"
    },
    "tags": []
   },
   "outputs": [],
   "source": [
    "train.info()"
   ]
  },
  {
   "cell_type": "code",
   "execution_count": null,
   "metadata": {
    "execution": {
     "iopub.execute_input": "2021-06-20T21:13:22.254237Z",
     "iopub.status.busy": "2021-06-20T21:13:22.253393Z",
     "iopub.status.idle": "2021-06-20T21:13:22.334021Z",
     "shell.execute_reply": "2021-06-20T21:13:22.335046Z",
     "shell.execute_reply.started": "2021-06-20T20:10:19.978551Z"
    },
    "papermill": {
     "duration": 0.363234,
     "end_time": "2021-06-20T21:13:22.335231",
     "exception": false,
     "start_time": "2021-06-20T21:13:21.971997",
     "status": "completed"
    },
    "tags": []
   },
   "outputs": [],
   "source": [
    "train.nunique()"
   ]
  },
  {
   "cell_type": "markdown",
   "metadata": {
    "papermill": {
     "duration": 0.162333,
     "end_time": "2021-06-20T21:13:22.731957",
     "exception": false,
     "start_time": "2021-06-20T21:13:22.569624",
     "status": "completed"
    },
    "tags": []
   },
   "source": [
    "# Model 1: Создадим \"наивную\" модель \n",
    "Эта модель будет предсказывать среднюю цену по модели и году выпуска. \n",
    "C ней будем сравнивать другие модели.\n",
    "\n"
   ]
  },
  {
   "cell_type": "code",
   "execution_count": null,
   "metadata": {
    "execution": {
     "iopub.execute_input": "2021-06-20T21:13:23.065980Z",
     "iopub.status.busy": "2021-06-20T21:13:23.062459Z",
     "iopub.status.idle": "2021-06-20T21:13:23.070406Z",
     "shell.execute_reply": "2021-06-20T21:13:23.069947Z",
     "shell.execute_reply.started": "2021-06-20T20:10:20.048690Z"
    },
    "papermill": {
     "duration": 0.176986,
     "end_time": "2021-06-20T21:13:23.070497",
     "exception": false,
     "start_time": "2021-06-20T21:13:22.893511",
     "status": "completed"
    },
    "tags": []
   },
   "outputs": [],
   "source": [
    "# split данных\n",
    "data_train, data_test = train_test_split(train, test_size=0.15, shuffle=True, random_state=RANDOM_SEED)"
   ]
  },
  {
   "cell_type": "code",
   "execution_count": null,
   "metadata": {
    "execution": {
     "iopub.execute_input": "2021-06-20T21:13:23.404912Z",
     "iopub.status.busy": "2021-06-20T21:13:23.404367Z",
     "iopub.status.idle": "2021-06-20T21:13:26.872052Z",
     "shell.execute_reply": "2021-06-20T21:13:26.871168Z",
     "shell.execute_reply.started": "2021-06-20T20:10:20.060589Z"
    },
    "papermill": {
     "duration": 3.639639,
     "end_time": "2021-06-20T21:13:26.872184",
     "exception": false,
     "start_time": "2021-06-20T21:13:23.232545",
     "status": "completed"
    },
    "tags": []
   },
   "outputs": [],
   "source": [
    "# Наивная модель\n",
    "predicts = []\n",
    "for index, row in pd.DataFrame(data_test[['model_info', 'productionDate']]).iterrows():\n",
    "    query = f\"model_info == '{row[0]}' and productionDate == '{row[1]}'\"\n",
    "    predicts.append(data_train.query(query)['price'].median())\n",
    "\n",
    "# заполним не найденные совпадения\n",
    "predicts = pd.DataFrame(predicts)\n",
    "predicts = predicts.fillna(predicts.median())\n",
    "\n",
    "# округлим\n",
    "predicts = (predicts // 1000) * 1000\n",
    "\n",
    "#оцениваем точность\n",
    "print(f\"Точность наивной модели по метрике MAPE: {(mape(data_test['price'], predicts.values[:, 0]))*100:0.2f}%\")"
   ]
  },
  {
   "cell_type": "markdown",
   "metadata": {
    "papermill": {
     "duration": 0.164587,
     "end_time": "2021-06-20T21:13:27.212075",
     "exception": false,
     "start_time": "2021-06-20T21:13:27.047488",
     "status": "completed"
    },
    "tags": []
   },
   "source": [
    "# EDA"
   ]
  },
  {
   "cell_type": "code",
   "execution_count": null,
   "metadata": {
    "execution": {
     "iopub.execute_input": "2021-06-20T21:13:27.544469Z",
     "iopub.status.busy": "2021-06-20T21:13:27.543866Z",
     "iopub.status.idle": "2021-06-20T21:13:27.547857Z",
     "shell.execute_reply": "2021-06-20T21:13:27.547448Z",
     "shell.execute_reply.started": "2021-06-20T20:10:23.616279Z"
    },
    "papermill": {
     "duration": 0.173593,
     "end_time": "2021-06-20T21:13:27.547947",
     "exception": false,
     "start_time": "2021-06-20T21:13:27.374354",
     "status": "completed"
    },
    "tags": []
   },
   "outputs": [],
   "source": [
    "ttrain = train.copy()"
   ]
  },
  {
   "cell_type": "code",
   "execution_count": null,
   "metadata": {
    "execution": {
     "iopub.execute_input": "2021-06-20T21:13:27.886810Z",
     "iopub.status.busy": "2021-06-20T21:13:27.886243Z",
     "iopub.status.idle": "2021-06-20T21:13:27.901603Z",
     "shell.execute_reply": "2021-06-20T21:13:27.901163Z",
     "shell.execute_reply.started": "2021-06-20T20:10:23.624584Z"
    },
    "papermill": {
     "duration": 0.191032,
     "end_time": "2021-06-20T21:13:27.901697",
     "exception": false,
     "start_time": "2021-06-20T21:13:27.710665",
     "status": "completed"
    },
    "tags": []
   },
   "outputs": [],
   "source": [
    "ttrain.head()"
   ]
  },
  {
   "cell_type": "code",
   "execution_count": null,
   "metadata": {
    "execution": {
     "iopub.execute_input": "2021-06-20T21:13:28.242240Z",
     "iopub.status.busy": "2021-06-20T21:13:28.241295Z",
     "iopub.status.idle": "2021-06-20T21:13:28.254346Z",
     "shell.execute_reply": "2021-06-20T21:13:28.255304Z",
     "shell.execute_reply.started": "2021-06-20T20:10:23.678077Z"
    },
    "papermill": {
     "duration": 0.189406,
     "end_time": "2021-06-20T21:13:28.255448",
     "exception": false,
     "start_time": "2021-06-20T21:13:28.066042",
     "status": "completed"
    },
    "tags": []
   },
   "outputs": [],
   "source": [
    "ttrain.info()"
   ]
  },
  {
   "cell_type": "markdown",
   "metadata": {
    "papermill": {
     "duration": 0.16413,
     "end_time": "2021-06-20T21:13:28.587529",
     "exception": false,
     "start_time": "2021-06-20T21:13:28.423399",
     "status": "completed"
    },
    "tags": []
   },
   "source": [
    "Большая часть признаков - категориальные.  \n",
    "Проверим все переменные и после расставим по видам"
   ]
  },
  {
   "cell_type": "code",
   "execution_count": null,
   "metadata": {
    "execution": {
     "iopub.execute_input": "2021-06-20T21:13:28.927521Z",
     "iopub.status.busy": "2021-06-20T21:13:28.926709Z",
     "iopub.status.idle": "2021-06-20T21:13:28.946865Z",
     "shell.execute_reply": "2021-06-20T21:13:28.946444Z",
     "shell.execute_reply.started": "2021-06-20T20:10:23.727891Z"
    },
    "papermill": {
     "duration": 0.196736,
     "end_time": "2021-06-20T21:13:28.946961",
     "exception": false,
     "start_time": "2021-06-20T21:13:28.750225",
     "status": "completed"
    },
    "tags": []
   },
   "outputs": [],
   "source": [
    "missing_table(ttrain)"
   ]
  },
  {
   "cell_type": "markdown",
   "metadata": {
    "papermill": {
     "duration": 0.163552,
     "end_time": "2021-06-20T21:13:29.275015",
     "exception": false,
     "start_time": "2021-06-20T21:13:29.111463",
     "status": "completed"
    },
    "tags": []
   },
   "source": [
    "Пропущенные значения замечены только в двух признаках, однако у нас они могут маскироваться под повторяющиеся строки, проверим\n",
    "А сейчас проверим датасет на наличие дубликатов"
   ]
  },
  {
   "cell_type": "code",
   "execution_count": null,
   "metadata": {
    "execution": {
     "iopub.execute_input": "2021-06-20T21:13:29.607538Z",
     "iopub.status.busy": "2021-06-20T21:13:29.606939Z",
     "iopub.status.idle": "2021-06-20T21:13:29.614252Z",
     "shell.execute_reply": "2021-06-20T21:13:29.613795Z",
     "shell.execute_reply.started": "2021-06-20T20:10:23.788495Z"
    },
    "papermill": {
     "duration": 0.175131,
     "end_time": "2021-06-20T21:13:29.614341",
     "exception": false,
     "start_time": "2021-06-20T21:13:29.439210",
     "status": "completed"
    },
    "tags": []
   },
   "outputs": [],
   "source": [
    "ttrain['sell_id'].nunique() == len(ttrain)"
   ]
  },
  {
   "cell_type": "markdown",
   "metadata": {
    "papermill": {
     "duration": 0.163531,
     "end_time": "2021-06-20T21:13:29.941839",
     "exception": false,
     "start_time": "2021-06-20T21:13:29.778308",
     "status": "completed"
    },
    "tags": []
   },
   "source": [
    "Дубликатов нет, просмотрим целевую переменную и после пойдем по порядку"
   ]
  },
  {
   "cell_type": "markdown",
   "metadata": {
    "papermill": {
     "duration": 0.168363,
     "end_time": "2021-06-20T21:13:30.277387",
     "exception": false,
     "start_time": "2021-06-20T21:13:30.109024",
     "status": "completed"
    },
    "tags": []
   },
   "source": [
    "## price"
   ]
  },
  {
   "cell_type": "code",
   "execution_count": null,
   "metadata": {
    "execution": {
     "iopub.execute_input": "2021-06-20T21:13:30.611436Z",
     "iopub.status.busy": "2021-06-20T21:13:30.610730Z",
     "iopub.status.idle": "2021-06-20T21:13:30.996976Z",
     "shell.execute_reply": "2021-06-20T21:13:30.997416Z",
     "shell.execute_reply.started": "2021-06-20T20:10:23.808821Z"
    },
    "papermill": {
     "duration": 0.555456,
     "end_time": "2021-06-20T21:13:30.997537",
     "exception": false,
     "start_time": "2021-06-20T21:13:30.442081",
     "status": "completed"
    },
    "tags": []
   },
   "outputs": [],
   "source": [
    "sns.distplot(ttrain['price'])"
   ]
  },
  {
   "cell_type": "code",
   "execution_count": null,
   "metadata": {
    "execution": {
     "iopub.execute_input": "2021-06-20T21:13:31.506179Z",
     "iopub.status.busy": "2021-06-20T21:13:31.503279Z",
     "iopub.status.idle": "2021-06-20T21:13:31.679191Z",
     "shell.execute_reply": "2021-06-20T21:13:31.679634Z",
     "shell.execute_reply.started": "2021-06-20T20:10:24.183092Z"
    },
    "papermill": {
     "duration": 0.463386,
     "end_time": "2021-06-20T21:13:31.679756",
     "exception": false,
     "start_time": "2021-06-20T21:13:31.216370",
     "status": "completed"
    },
    "tags": []
   },
   "outputs": [],
   "source": [
    "sns.boxplot(x=ttrain['price'])"
   ]
  },
  {
   "cell_type": "markdown",
   "metadata": {
    "papermill": {
     "duration": 0.172086,
     "end_time": "2021-06-20T21:13:32.023654",
     "exception": false,
     "start_time": "2021-06-20T21:13:31.851568",
     "status": "completed"
    },
    "tags": []
   },
   "source": [
    "Распределение логнормальное, выбросов много"
   ]
  },
  {
   "cell_type": "markdown",
   "metadata": {
    "papermill": {
     "duration": 0.174512,
     "end_time": "2021-06-20T21:13:32.370417",
     "exception": false,
     "start_time": "2021-06-20T21:13:32.195905",
     "status": "completed"
    },
    "tags": []
   },
   "source": [
    "## bodyType"
   ]
  },
  {
   "cell_type": "code",
   "execution_count": null,
   "metadata": {
    "execution": {
     "iopub.execute_input": "2021-06-20T21:13:32.753618Z",
     "iopub.status.busy": "2021-06-20T21:13:32.752355Z",
     "iopub.status.idle": "2021-06-20T21:13:32.993529Z",
     "shell.execute_reply": "2021-06-20T21:13:32.993944Z",
     "shell.execute_reply.started": "2021-06-20T20:10:24.480317Z"
    },
    "papermill": {
     "duration": 0.423542,
     "end_time": "2021-06-20T21:13:32.994062",
     "exception": false,
     "start_time": "2021-06-20T21:13:32.570520",
     "status": "completed"
    },
    "tags": []
   },
   "outputs": [],
   "source": [
    "cat_values(ttrain, 'bodyType')"
   ]
  },
  {
   "cell_type": "code",
   "execution_count": null,
   "metadata": {
    "execution": {
     "iopub.execute_input": "2021-06-20T21:13:33.356470Z",
     "iopub.status.busy": "2021-06-20T21:13:33.355495Z",
     "iopub.status.idle": "2021-06-20T21:13:33.365959Z",
     "shell.execute_reply": "2021-06-20T21:13:33.365538Z",
     "shell.execute_reply.started": "2021-06-20T20:10:24.733811Z"
    },
    "papermill": {
     "duration": 0.197112,
     "end_time": "2021-06-20T21:13:33.366052",
     "exception": false,
     "start_time": "2021-06-20T21:13:33.168940",
     "status": "completed"
    },
    "tags": []
   },
   "outputs": [],
   "source": [
    "mean_price_by(ttrain, 'bodyType')"
   ]
  },
  {
   "cell_type": "markdown",
   "metadata": {
    "papermill": {
     "duration": 0.17509,
     "end_time": "2021-06-20T21:13:33.718414",
     "exception": false,
     "start_time": "2021-06-20T21:13:33.543324",
     "status": "completed"
    },
    "tags": []
   },
   "source": [
    "Видим, что количество дверей все же влияет на цену ощутимо, тут оставляем всё как есть."
   ]
  },
  {
   "cell_type": "markdown",
   "metadata": {
    "papermill": {
     "duration": 0.175139,
     "end_time": "2021-06-20T21:13:34.068433",
     "exception": false,
     "start_time": "2021-06-20T21:13:33.893294",
     "status": "completed"
    },
    "tags": []
   },
   "source": [
    "## brand"
   ]
  },
  {
   "cell_type": "code",
   "execution_count": null,
   "metadata": {
    "execution": {
     "iopub.execute_input": "2021-06-20T21:13:34.431317Z",
     "iopub.status.busy": "2021-06-20T21:13:34.430037Z",
     "iopub.status.idle": "2021-06-20T21:13:34.564348Z",
     "shell.execute_reply": "2021-06-20T21:13:34.564760Z",
     "shell.execute_reply.started": "2021-06-20T20:10:24.759503Z"
    },
    "papermill": {
     "duration": 0.321513,
     "end_time": "2021-06-20T21:13:34.564878",
     "exception": false,
     "start_time": "2021-06-20T21:13:34.243365",
     "status": "completed"
    },
    "tags": []
   },
   "outputs": [],
   "source": [
    "cat_values(ttrain, 'brand')"
   ]
  },
  {
   "cell_type": "code",
   "execution_count": null,
   "metadata": {
    "execution": {
     "iopub.execute_input": "2021-06-20T21:13:34.926763Z",
     "iopub.status.busy": "2021-06-20T21:13:34.925928Z",
     "iopub.status.idle": "2021-06-20T21:13:34.933907Z",
     "shell.execute_reply": "2021-06-20T21:13:34.934439Z",
     "shell.execute_reply.started": "2021-06-20T20:10:24.908618Z"
    },
    "papermill": {
     "duration": 0.190237,
     "end_time": "2021-06-20T21:13:34.934552",
     "exception": false,
     "start_time": "2021-06-20T21:13:34.744315",
     "status": "completed"
    },
    "tags": []
   },
   "outputs": [],
   "source": [
    "mean_price_by(ttrain, 'brand')"
   ]
  },
  {
   "cell_type": "markdown",
   "metadata": {
    "papermill": {
     "duration": 0.181117,
     "end_time": "2021-06-20T21:13:35.337029",
     "exception": false,
     "start_time": "2021-06-20T21:13:35.155912",
     "status": "completed"
    },
    "tags": []
   },
   "source": [
    "Интересно, в наших данных представлены всего три немецких бренда  \n",
    "AUDI является аутсайдером и по популярности, и по средней стоимости автомобилей"
   ]
  },
  {
   "cell_type": "markdown",
   "metadata": {
    "papermill": {
     "duration": 0.177883,
     "end_time": "2021-06-20T21:13:35.691714",
     "exception": false,
     "start_time": "2021-06-20T21:13:35.513831",
     "status": "completed"
    },
    "tags": []
   },
   "source": [
    "## color"
   ]
  },
  {
   "cell_type": "code",
   "execution_count": null,
   "metadata": {
    "execution": {
     "iopub.execute_input": "2021-06-20T21:13:36.055890Z",
     "iopub.status.busy": "2021-06-20T21:13:36.055233Z",
     "iopub.status.idle": "2021-06-20T21:13:36.278203Z",
     "shell.execute_reply": "2021-06-20T21:13:36.278622Z",
     "shell.execute_reply.started": "2021-06-20T20:10:24.925480Z"
    },
    "papermill": {
     "duration": 0.41011,
     "end_time": "2021-06-20T21:13:36.278740",
     "exception": false,
     "start_time": "2021-06-20T21:13:35.868630",
     "status": "completed"
    },
    "tags": []
   },
   "outputs": [],
   "source": [
    "cat_values(ttrain, 'color')"
   ]
  },
  {
   "cell_type": "code",
   "execution_count": null,
   "metadata": {
    "execution": {
     "iopub.execute_input": "2021-06-20T21:13:36.645103Z",
     "iopub.status.busy": "2021-06-20T21:13:36.644212Z",
     "iopub.status.idle": "2021-06-20T21:13:36.653383Z",
     "shell.execute_reply": "2021-06-20T21:13:36.653757Z",
     "shell.execute_reply.started": "2021-06-20T20:10:25.158288Z"
    },
    "papermill": {
     "duration": 0.195212,
     "end_time": "2021-06-20T21:13:36.653874",
     "exception": false,
     "start_time": "2021-06-20T21:13:36.458662",
     "status": "completed"
    },
    "tags": []
   },
   "outputs": [],
   "source": [
    "mean_price_by(ttrain,'color')"
   ]
  },
  {
   "cell_type": "markdown",
   "metadata": {
    "papermill": {
     "duration": 0.179344,
     "end_time": "2021-06-20T21:13:37.013865",
     "exception": false,
     "start_time": "2021-06-20T21:13:36.834521",
     "status": "completed"
    },
    "tags": []
   },
   "source": [
    "Интересные результаты, посмотрела:  \n",
    "гендиректор «Подбор Авто» Денис Еременко: «На нашем рынке все устроено так же: машины ярких цветов стоят в среднем дороже, нежели черные, белые или серые. Но только в том случае, если это не автомобиль из такси, которые часто бывают как раз желтого цвета»"
   ]
  },
  {
   "cell_type": "code",
   "execution_count": null,
   "metadata": {
    "execution": {
     "iopub.execute_input": "2021-06-20T21:13:37.381118Z",
     "iopub.status.busy": "2021-06-20T21:13:37.380233Z",
     "iopub.status.idle": "2021-06-20T21:13:37.385866Z",
     "shell.execute_reply": "2021-06-20T21:13:37.385280Z",
     "shell.execute_reply.started": "2021-06-20T20:10:25.175913Z"
    },
    "papermill": {
     "duration": 0.19247,
     "end_time": "2021-06-20T21:13:37.385983",
     "exception": false,
     "start_time": "2021-06-20T21:13:37.193513",
     "status": "completed"
    },
    "tags": []
   },
   "outputs": [],
   "source": [
    "ttrain[ttrain['color'] == 'жёлтый']['price'].mean()"
   ]
  },
  {
   "cell_type": "markdown",
   "metadata": {
    "papermill": {
     "duration": 0.181007,
     "end_time": "2021-06-20T21:13:37.751176",
     "exception": false,
     "start_time": "2021-06-20T21:13:37.570169",
     "status": "completed"
    },
    "tags": []
   },
   "source": [
    "Что ж, в этом случае без сюрпризов согласно мнению эксперта"
   ]
  },
  {
   "cell_type": "markdown",
   "metadata": {
    "papermill": {
     "duration": 0.179641,
     "end_time": "2021-06-20T21:13:38.110120",
     "exception": false,
     "start_time": "2021-06-20T21:13:37.930479",
     "status": "completed"
    },
    "tags": []
   },
   "source": [
    "## description"
   ]
  },
  {
   "cell_type": "code",
   "execution_count": null,
   "metadata": {
    "execution": {
     "iopub.execute_input": "2021-06-20T21:13:38.477001Z",
     "iopub.status.busy": "2021-06-20T21:13:38.476177Z",
     "iopub.status.idle": "2021-06-20T21:13:38.480386Z",
     "shell.execute_reply": "2021-06-20T21:13:38.479928Z",
     "shell.execute_reply.started": "2021-06-20T20:10:25.186433Z"
    },
    "papermill": {
     "duration": 0.190844,
     "end_time": "2021-06-20T21:13:38.480492",
     "exception": false,
     "start_time": "2021-06-20T21:13:38.289648",
     "status": "completed"
    },
    "tags": []
   },
   "outputs": [],
   "source": [
    "ttrain['description']"
   ]
  },
  {
   "cell_type": "markdown",
   "metadata": {
    "papermill": {
     "duration": 0.179706,
     "end_time": "2021-06-20T21:13:38.848604",
     "exception": false,
     "start_time": "2021-06-20T21:13:38.668898",
     "status": "completed"
    },
    "tags": []
   },
   "source": [
    "Тексты объявлений. В прошлой работе я создавала признак, который покажет, явлется ли продавец дилером или нет  \n",
    "Попробуем сделать то же самое, и проверить влияет ли это на стоимость автомобиля"
   ]
  },
  {
   "cell_type": "markdown",
   "metadata": {
    "papermill": {
     "duration": 0.179939,
     "end_time": "2021-06-20T21:13:39.208469",
     "exception": false,
     "start_time": "2021-06-20T21:13:39.028530",
     "status": "completed"
    },
    "tags": []
   },
   "source": [
    "## engineDisplacement"
   ]
  },
  {
   "cell_type": "code",
   "execution_count": null,
   "metadata": {
    "execution": {
     "iopub.execute_input": "2021-06-20T21:13:39.580895Z",
     "iopub.status.busy": "2021-06-20T21:13:39.580183Z",
     "iopub.status.idle": "2021-06-20T21:13:39.583749Z",
     "shell.execute_reply": "2021-06-20T21:13:39.583345Z",
     "shell.execute_reply.started": "2021-06-20T20:10:25.198471Z"
    },
    "papermill": {
     "duration": 0.194953,
     "end_time": "2021-06-20T21:13:39.583838",
     "exception": false,
     "start_time": "2021-06-20T21:13:39.388885",
     "status": "completed"
    },
    "tags": []
   },
   "outputs": [],
   "source": [
    "engine_words = ttrain['engineDisplacement'].apply(lambda x: x.split(' ')[1])\n",
    "engine_words.value_counts()"
   ]
  },
  {
   "cell_type": "code",
   "execution_count": null,
   "metadata": {
    "execution": {
     "iopub.execute_input": "2021-06-20T21:13:39.952660Z",
     "iopub.status.busy": "2021-06-20T21:13:39.951943Z",
     "iopub.status.idle": "2021-06-20T21:13:39.954924Z",
     "shell.execute_reply": "2021-06-20T21:13:39.955394Z",
     "shell.execute_reply.started": "2021-06-20T20:10:25.228256Z"
    },
    "papermill": {
     "duration": 0.189173,
     "end_time": "2021-06-20T21:13:39.955553",
     "exception": false,
     "start_time": "2021-06-20T21:13:39.766380",
     "status": "completed"
    },
    "tags": []
   },
   "outputs": [],
   "source": [
    "len(engine_words) == len(ttrain)"
   ]
  },
  {
   "cell_type": "markdown",
   "metadata": {
    "papermill": {
     "duration": 0.182788,
     "end_time": "2021-06-20T21:13:40.319814",
     "exception": false,
     "start_time": "2021-06-20T21:13:40.137026",
     "status": "completed"
    },
    "tags": []
   },
   "source": [
    "Приставка LTR роли в стоимости цены не играет, можем выкинуть ее, и оставим числовой признак - объем двигателя"
   ]
  },
  {
   "cell_type": "markdown",
   "metadata": {
    "papermill": {
     "duration": 0.180954,
     "end_time": "2021-06-20T21:13:40.681740",
     "exception": false,
     "start_time": "2021-06-20T21:13:40.500786",
     "status": "completed"
    },
    "tags": []
   },
   "source": [
    "## enginePower"
   ]
  },
  {
   "cell_type": "code",
   "execution_count": null,
   "metadata": {
    "execution": {
     "iopub.execute_input": "2021-06-20T21:13:41.055102Z",
     "iopub.status.busy": "2021-06-20T21:13:41.054308Z",
     "iopub.status.idle": "2021-06-20T21:13:41.058164Z",
     "shell.execute_reply": "2021-06-20T21:13:41.057728Z",
     "shell.execute_reply.started": "2021-06-20T20:10:25.243236Z"
    },
    "papermill": {
     "duration": 0.195818,
     "end_time": "2021-06-20T21:13:41.058258",
     "exception": false,
     "start_time": "2021-06-20T21:13:40.862440",
     "status": "completed"
    },
    "tags": []
   },
   "outputs": [],
   "source": [
    "engine_p = ttrain['enginePower'].apply(lambda x: x.split(' ')[1])\n",
    "engine_p.value_counts()"
   ]
  },
  {
   "cell_type": "markdown",
   "metadata": {
    "papermill": {
     "duration": 0.181482,
     "end_time": "2021-06-20T21:13:41.423928",
     "exception": false,
     "start_time": "2021-06-20T21:13:41.242446",
     "status": "completed"
    },
    "tags": []
   },
   "source": [
    "Приставка N12 также везде, избавимся от нее и переведем в формат целых чисел"
   ]
  },
  {
   "cell_type": "markdown",
   "metadata": {
    "papermill": {
     "duration": 0.183864,
     "end_time": "2021-06-20T21:13:41.793134",
     "exception": false,
     "start_time": "2021-06-20T21:13:41.609270",
     "status": "completed"
    },
    "tags": []
   },
   "source": [
    "## fuelType"
   ]
  },
  {
   "cell_type": "code",
   "execution_count": null,
   "metadata": {
    "execution": {
     "iopub.execute_input": "2021-06-20T21:13:42.206737Z",
     "iopub.status.busy": "2021-06-20T21:13:42.205786Z",
     "iopub.status.idle": "2021-06-20T21:13:42.442577Z",
     "shell.execute_reply": "2021-06-20T21:13:42.443594Z",
     "shell.execute_reply.started": "2021-06-20T20:10:25.259598Z"
    },
    "papermill": {
     "duration": 0.470857,
     "end_time": "2021-06-20T21:13:42.443766",
     "exception": false,
     "start_time": "2021-06-20T21:13:41.972909",
     "status": "completed"
    },
    "tags": []
   },
   "outputs": [],
   "source": [
    "cat_values(ttrain, 'fuelType')"
   ]
  },
  {
   "cell_type": "code",
   "execution_count": null,
   "metadata": {
    "execution": {
     "iopub.execute_input": "2021-06-20T21:13:42.887104Z",
     "iopub.status.busy": "2021-06-20T21:13:42.886245Z",
     "iopub.status.idle": "2021-06-20T21:13:42.895531Z",
     "shell.execute_reply": "2021-06-20T21:13:42.895051Z",
     "shell.execute_reply.started": "2021-06-20T20:10:25.432506Z"
    },
    "papermill": {
     "duration": 0.198043,
     "end_time": "2021-06-20T21:13:42.895622",
     "exception": false,
     "start_time": "2021-06-20T21:13:42.697579",
     "status": "completed"
    },
    "tags": []
   },
   "outputs": [],
   "source": [
    "mean_price_by(ttrain, 'fuelType')"
   ]
  },
  {
   "cell_type": "markdown",
   "metadata": {
    "papermill": {
     "duration": 0.181792,
     "end_time": "2021-06-20T21:13:43.259928",
     "exception": false,
     "start_time": "2021-06-20T21:13:43.078136",
     "status": "completed"
    },
    "tags": []
   },
   "source": [
    "Бензин, очевидно, самый популярный, и самый дешевый в среднем"
   ]
  },
  {
   "cell_type": "markdown",
   "metadata": {
    "papermill": {
     "duration": 0.181601,
     "end_time": "2021-06-20T21:13:43.623798",
     "exception": false,
     "start_time": "2021-06-20T21:13:43.442197",
     "status": "completed"
    },
    "tags": []
   },
   "source": [
    "## mileage"
   ]
  },
  {
   "cell_type": "code",
   "execution_count": null,
   "metadata": {
    "execution": {
     "iopub.execute_input": "2021-06-20T21:13:43.993033Z",
     "iopub.status.busy": "2021-06-20T21:13:43.992496Z",
     "iopub.status.idle": "2021-06-20T21:13:44.148420Z",
     "shell.execute_reply": "2021-06-20T21:13:44.147700Z",
     "shell.execute_reply.started": "2021-06-20T20:10:25.447872Z"
    },
    "papermill": {
     "duration": 0.341697,
     "end_time": "2021-06-20T21:13:44.148525",
     "exception": false,
     "start_time": "2021-06-20T21:13:43.806828",
     "status": "completed"
    },
    "tags": []
   },
   "outputs": [],
   "source": [
    "price_by(ttrain,'mileage')"
   ]
  },
  {
   "cell_type": "code",
   "execution_count": null,
   "metadata": {
    "execution": {
     "iopub.execute_input": "2021-06-20T21:13:44.531834Z",
     "iopub.status.busy": "2021-06-20T21:13:44.531001Z",
     "iopub.status.idle": "2021-06-20T21:13:45.549791Z",
     "shell.execute_reply": "2021-06-20T21:13:45.550282Z",
     "shell.execute_reply.started": "2021-06-20T20:10:25.608404Z"
    },
    "papermill": {
     "duration": 1.215646,
     "end_time": "2021-06-20T21:13:45.550408",
     "exception": false,
     "start_time": "2021-06-20T21:13:44.334762",
     "status": "completed"
    },
    "tags": []
   },
   "outputs": [],
   "source": [
    "price_plot(ttrain,'mileage')"
   ]
  },
  {
   "cell_type": "markdown",
   "metadata": {
    "papermill": {
     "duration": 0.212986,
     "end_time": "2021-06-20T21:13:45.979068",
     "exception": false,
     "start_time": "2021-06-20T21:13:45.766082",
     "status": "completed"
    },
    "tags": []
   },
   "source": [
    "Тут все без сюрпризов, количество миль обратно пропорционально цене"
   ]
  },
  {
   "cell_type": "markdown",
   "metadata": {
    "papermill": {
     "duration": 0.213123,
     "end_time": "2021-06-20T21:13:46.437195",
     "exception": false,
     "start_time": "2021-06-20T21:13:46.224072",
     "status": "completed"
    },
    "tags": []
   },
   "source": [
    "## modelDate"
   ]
  },
  {
   "cell_type": "code",
   "execution_count": null,
   "metadata": {
    "execution": {
     "iopub.execute_input": "2021-06-20T21:13:46.868488Z",
     "iopub.status.busy": "2021-06-20T21:13:46.867641Z",
     "iopub.status.idle": "2021-06-20T21:13:47.002233Z",
     "shell.execute_reply": "2021-06-20T21:13:47.002651Z",
     "shell.execute_reply.started": "2021-06-20T20:10:26.661978Z"
    },
    "papermill": {
     "duration": 0.353021,
     "end_time": "2021-06-20T21:13:47.002768",
     "exception": false,
     "start_time": "2021-06-20T21:13:46.649747",
     "status": "completed"
    },
    "tags": []
   },
   "outputs": [],
   "source": [
    "price_by(ttrain, 'modelDate')"
   ]
  },
  {
   "cell_type": "markdown",
   "metadata": {
    "papermill": {
     "duration": 0.214628,
     "end_time": "2021-06-20T21:13:47.431652",
     "exception": false,
     "start_time": "2021-06-20T21:13:47.217024",
     "status": "completed"
    },
    "tags": []
   },
   "source": [
    "Кривая неровная, видимо, среди старых моделей есть коллекционные, но зависимость явно прямая"
   ]
  },
  {
   "cell_type": "markdown",
   "metadata": {
    "papermill": {
     "duration": 0.21455,
     "end_time": "2021-06-20T21:13:47.859666",
     "exception": false,
     "start_time": "2021-06-20T21:13:47.645116",
     "status": "completed"
    },
    "tags": []
   },
   "source": [
    "## model_info"
   ]
  },
  {
   "cell_type": "code",
   "execution_count": null,
   "metadata": {
    "execution": {
     "iopub.execute_input": "2021-06-20T21:13:48.302748Z",
     "iopub.status.busy": "2021-06-20T21:13:48.301945Z",
     "iopub.status.idle": "2021-06-20T21:13:48.305685Z",
     "shell.execute_reply": "2021-06-20T21:13:48.305258Z",
     "shell.execute_reply.started": "2021-06-20T20:10:26.826406Z"
    },
    "papermill": {
     "duration": 0.226137,
     "end_time": "2021-06-20T21:13:48.305780",
     "exception": false,
     "start_time": "2021-06-20T21:13:48.079643",
     "status": "completed"
    },
    "tags": []
   },
   "outputs": [],
   "source": [
    "ttrain['model_info'].value_counts()"
   ]
  },
  {
   "cell_type": "code",
   "execution_count": null,
   "metadata": {
    "execution": {
     "iopub.execute_input": "2021-06-20T21:13:48.741338Z",
     "iopub.status.busy": "2021-06-20T21:13:48.740482Z",
     "iopub.status.idle": "2021-06-20T21:13:48.751018Z",
     "shell.execute_reply": "2021-06-20T21:13:48.750493Z",
     "shell.execute_reply.started": "2021-06-20T20:10:26.839113Z"
    },
    "papermill": {
     "duration": 0.231176,
     "end_time": "2021-06-20T21:13:48.751123",
     "exception": false,
     "start_time": "2021-06-20T21:13:48.519947",
     "status": "completed"
    },
    "tags": []
   },
   "outputs": [],
   "source": [
    "mean_price_by(ttrain, 'model_info')"
   ]
  },
  {
   "cell_type": "markdown",
   "metadata": {
    "papermill": {
     "duration": 0.214855,
     "end_time": "2021-06-20T21:13:49.180860",
     "exception": false,
     "start_time": "2021-06-20T21:13:48.966005",
     "status": "completed"
    },
    "tags": []
   },
   "source": [
    "Итак, видов моделей в датасете - 118"
   ]
  },
  {
   "cell_type": "markdown",
   "metadata": {
    "papermill": {
     "duration": 0.214291,
     "end_time": "2021-06-20T21:13:49.610553",
     "exception": false,
     "start_time": "2021-06-20T21:13:49.396262",
     "status": "completed"
    },
    "tags": []
   },
   "source": [
    "## name"
   ]
  },
  {
   "cell_type": "code",
   "execution_count": null,
   "metadata": {
    "execution": {
     "iopub.execute_input": "2021-06-20T21:13:50.049844Z",
     "iopub.status.busy": "2021-06-20T21:13:50.049048Z",
     "iopub.status.idle": "2021-06-20T21:13:50.052766Z",
     "shell.execute_reply": "2021-06-20T21:13:50.052247Z",
     "shell.execute_reply.started": "2021-06-20T20:10:26.859255Z"
    },
    "papermill": {
     "duration": 0.227384,
     "end_time": "2021-06-20T21:13:50.052857",
     "exception": false,
     "start_time": "2021-06-20T21:13:49.825473",
     "status": "completed"
    },
    "tags": []
   },
   "outputs": [],
   "source": [
    "ttrain['name'].value_counts()"
   ]
  },
  {
   "cell_type": "markdown",
   "metadata": {
    "papermill": {
     "duration": 0.214801,
     "end_time": "2021-06-20T21:13:50.481467",
     "exception": false,
     "start_time": "2021-06-20T21:13:50.266666",
     "status": "completed"
    },
    "tags": []
   },
   "source": [
    "Признак названия составной, состоит из объема двигателя, количества лошадиных сил, привода  \n",
    "Возможно, признак нам будет не нужен"
   ]
  },
  {
   "cell_type": "markdown",
   "metadata": {
    "papermill": {
     "duration": 0.215884,
     "end_time": "2021-06-20T21:13:50.911437",
     "exception": false,
     "start_time": "2021-06-20T21:13:50.695553",
     "status": "completed"
    },
    "tags": []
   },
   "source": [
    "## numberOfDoors"
   ]
  },
  {
   "cell_type": "code",
   "execution_count": null,
   "metadata": {
    "execution": {
     "iopub.execute_input": "2021-06-20T21:13:51.350847Z",
     "iopub.status.busy": "2021-06-20T21:13:51.349915Z",
     "iopub.status.idle": "2021-06-20T21:13:51.492229Z",
     "shell.execute_reply": "2021-06-20T21:13:51.492660Z",
     "shell.execute_reply.started": "2021-06-20T20:10:26.874627Z"
    },
    "papermill": {
     "duration": 0.366736,
     "end_time": "2021-06-20T21:13:51.492781",
     "exception": false,
     "start_time": "2021-06-20T21:13:51.126045",
     "status": "completed"
    },
    "tags": []
   },
   "outputs": [],
   "source": [
    "cat_values(ttrain, 'numberOfDoors')"
   ]
  },
  {
   "cell_type": "code",
   "execution_count": null,
   "metadata": {
    "execution": {
     "iopub.execute_input": "2021-06-20T21:13:51.933253Z",
     "iopub.status.busy": "2021-06-20T21:13:51.932348Z",
     "iopub.status.idle": "2021-06-20T21:13:51.941566Z",
     "shell.execute_reply": "2021-06-20T21:13:51.941141Z",
     "shell.execute_reply.started": "2021-06-20T20:10:27.028386Z"
    },
    "papermill": {
     "duration": 0.232541,
     "end_time": "2021-06-20T21:13:51.941658",
     "exception": false,
     "start_time": "2021-06-20T21:13:51.709117",
     "status": "completed"
    },
    "tags": []
   },
   "outputs": [],
   "source": [
    "mean_price_by(ttrain, 'numberOfDoors')"
   ]
  },
  {
   "cell_type": "markdown",
   "metadata": {
    "papermill": {
     "duration": 0.230768,
     "end_time": "2021-06-20T21:13:52.392545",
     "exception": false,
     "start_time": "2021-06-20T21:13:52.161777",
     "status": "completed"
    },
    "tags": []
   },
   "source": [
    "Количество дверей в машине - важный для целевой переменной признак, оставляем без изменений  \n",
    "Видим, что в среднем самые дорогие машины - двудверные. Это обычно спорткары, тут тоже без сюрпризов"
   ]
  },
  {
   "cell_type": "markdown",
   "metadata": {
    "papermill": {
     "duration": 0.247468,
     "end_time": "2021-06-20T21:13:52.890135",
     "exception": false,
     "start_time": "2021-06-20T21:13:52.642667",
     "status": "completed"
    },
    "tags": []
   },
   "source": [
    "## productionDate"
   ]
  },
  {
   "cell_type": "code",
   "execution_count": null,
   "metadata": {
    "execution": {
     "iopub.execute_input": "2021-06-20T21:13:53.806024Z",
     "iopub.status.busy": "2021-06-20T21:13:53.805250Z",
     "iopub.status.idle": "2021-06-20T21:13:54.122867Z",
     "shell.execute_reply": "2021-06-20T21:13:54.123906Z",
     "shell.execute_reply.started": "2021-06-20T20:10:27.045047Z"
    },
    "papermill": {
     "duration": 0.893669,
     "end_time": "2021-06-20T21:13:54.124077",
     "exception": false,
     "start_time": "2021-06-20T21:13:53.230408",
     "status": "completed"
    },
    "tags": []
   },
   "outputs": [],
   "source": [
    "price_by(ttrain, 'productionDate')"
   ]
  },
  {
   "cell_type": "markdown",
   "metadata": {
    "papermill": {
     "duration": 0.219926,
     "end_time": "2021-06-20T21:13:54.636364",
     "exception": false,
     "start_time": "2021-06-20T21:13:54.416438",
     "status": "completed"
    },
    "tags": []
   },
   "source": [
    "В признаке даты производства машины наблюдается схожая картина как и у признака создания модели машины: до 2000-х график скачет, после - видна плавная прямая зависимость новизны машины и ее цены"
   ]
  },
  {
   "cell_type": "markdown",
   "metadata": {
    "papermill": {
     "duration": 0.21915,
     "end_time": "2021-06-20T21:13:55.074880",
     "exception": false,
     "start_time": "2021-06-20T21:13:54.855730",
     "status": "completed"
    },
    "tags": []
   },
   "source": [
    "## vehicleConfiguration"
   ]
  },
  {
   "cell_type": "code",
   "execution_count": null,
   "metadata": {
    "execution": {
     "iopub.execute_input": "2021-06-20T21:13:55.530022Z",
     "iopub.status.busy": "2021-06-20T21:13:55.529493Z",
     "iopub.status.idle": "2021-06-20T21:13:55.534836Z",
     "shell.execute_reply": "2021-06-20T21:13:55.534389Z",
     "shell.execute_reply.started": "2021-06-20T20:10:27.208556Z"
    },
    "papermill": {
     "duration": 0.231302,
     "end_time": "2021-06-20T21:13:55.534923",
     "exception": false,
     "start_time": "2021-06-20T21:13:55.303621",
     "status": "completed"
    },
    "tags": []
   },
   "outputs": [],
   "source": [
    "ttrain['vehicleConfiguration']"
   ]
  },
  {
   "cell_type": "markdown",
   "metadata": {
    "papermill": {
     "duration": 0.219194,
     "end_time": "2021-06-20T21:13:55.972950",
     "exception": false,
     "start_time": "2021-06-20T21:13:55.753756",
     "status": "completed"
    },
    "tags": []
   },
   "source": [
    "Признак - сбор названия кузова и трансмиссии  \n",
    "При оценке значимости проверим, нужен ли он нам"
   ]
  },
  {
   "cell_type": "markdown",
   "metadata": {
    "papermill": {
     "duration": 0.218521,
     "end_time": "2021-06-20T21:13:56.410703",
     "exception": false,
     "start_time": "2021-06-20T21:13:56.192182",
     "status": "completed"
    },
    "tags": []
   },
   "source": [
    "## vehicleTransmission"
   ]
  },
  {
   "cell_type": "code",
   "execution_count": null,
   "metadata": {
    "execution": {
     "iopub.execute_input": "2021-06-20T21:13:56.860667Z",
     "iopub.status.busy": "2021-06-20T21:13:56.859733Z",
     "iopub.status.idle": "2021-06-20T21:13:57.000450Z",
     "shell.execute_reply": "2021-06-20T21:13:57.000864Z",
     "shell.execute_reply.started": "2021-06-20T20:10:27.218543Z"
    },
    "papermill": {
     "duration": 0.369412,
     "end_time": "2021-06-20T21:13:57.000980",
     "exception": false,
     "start_time": "2021-06-20T21:13:56.631568",
     "status": "completed"
    },
    "tags": []
   },
   "outputs": [],
   "source": [
    "cat_values(ttrain, 'vehicleTransmission')"
   ]
  },
  {
   "cell_type": "code",
   "execution_count": null,
   "metadata": {
    "execution": {
     "iopub.execute_input": "2021-06-20T21:13:57.451856Z",
     "iopub.status.busy": "2021-06-20T21:13:57.451013Z",
     "iopub.status.idle": "2021-06-20T21:13:57.460764Z",
     "shell.execute_reply": "2021-06-20T21:13:57.460337Z",
     "shell.execute_reply.started": "2021-06-20T20:10:27.379739Z"
    },
    "papermill": {
     "duration": 0.237837,
     "end_time": "2021-06-20T21:13:57.460858",
     "exception": false,
     "start_time": "2021-06-20T21:13:57.223021",
     "status": "completed"
    },
    "tags": []
   },
   "outputs": [],
   "source": [
    "mean_price_by(ttrain, 'vehicleTransmission')"
   ]
  },
  {
   "cell_type": "markdown",
   "metadata": {
    "papermill": {
     "duration": 0.22233,
     "end_time": "2021-06-20T21:13:57.905278",
     "exception": false,
     "start_time": "2021-06-20T21:13:57.682948",
     "status": "completed"
    },
    "tags": []
   },
   "source": [
    "Автоматическая и роботизированная коробки передач являются лидерами по популярности и средней стоимости автомобиля.  \n",
    "Влияние на целевую переменную хорошо прослеживается, оставляем без изменений"
   ]
  },
  {
   "cell_type": "markdown",
   "metadata": {
    "papermill": {
     "duration": 0.22201,
     "end_time": "2021-06-20T21:13:58.355967",
     "exception": false,
     "start_time": "2021-06-20T21:13:58.133957",
     "status": "completed"
    },
    "tags": []
   },
   "source": [
    "## Владельцы"
   ]
  },
  {
   "cell_type": "code",
   "execution_count": null,
   "metadata": {
    "execution": {
     "iopub.execute_input": "2021-06-20T21:13:58.809900Z",
     "iopub.status.busy": "2021-06-20T21:13:58.808989Z",
     "iopub.status.idle": "2021-06-20T21:13:58.943111Z",
     "shell.execute_reply": "2021-06-20T21:13:58.943539Z",
     "shell.execute_reply.started": "2021-06-20T20:10:27.397603Z"
    },
    "papermill": {
     "duration": 0.366099,
     "end_time": "2021-06-20T21:13:58.943660",
     "exception": false,
     "start_time": "2021-06-20T21:13:58.577561",
     "status": "completed"
    },
    "tags": []
   },
   "outputs": [],
   "source": [
    "cat_values(ttrain, 'Владельцы')"
   ]
  },
  {
   "cell_type": "code",
   "execution_count": null,
   "metadata": {
    "execution": {
     "iopub.execute_input": "2021-06-20T21:13:59.413371Z",
     "iopub.status.busy": "2021-06-20T21:13:59.412525Z",
     "iopub.status.idle": "2021-06-20T21:13:59.415943Z",
     "shell.execute_reply": "2021-06-20T21:13:59.416424Z",
     "shell.execute_reply.started": "2021-06-20T20:10:27.554778Z"
    },
    "papermill": {
     "duration": 0.248924,
     "end_time": "2021-06-20T21:13:59.416537",
     "exception": false,
     "start_time": "2021-06-20T21:13:59.167613",
     "status": "completed"
    },
    "tags": []
   },
   "outputs": [],
   "source": [
    "ttrain[ttrain['Владельцы'].isna() == True]"
   ]
  },
  {
   "cell_type": "markdown",
   "metadata": {
    "papermill": {
     "duration": 0.251715,
     "end_time": "2021-06-20T21:13:59.903551",
     "exception": false,
     "start_time": "2021-06-20T21:13:59.651836",
     "status": "completed"
    },
    "tags": []
   },
   "source": [
    "Мы видим, что возраст машины составляет 20 лет, однако в графе \"Владение\" указан меньший срок. Можем предположить, что эта графа указывает владение последним хозяином.  \n",
    "Значит, у машины строкой 4994 был точно не один владелец, заменим пропущенное значение самым частым."
   ]
  },
  {
   "cell_type": "code",
   "execution_count": null,
   "metadata": {
    "execution": {
     "iopub.execute_input": "2021-06-20T21:14:00.392399Z",
     "iopub.status.busy": "2021-06-20T21:14:00.391244Z",
     "iopub.status.idle": "2021-06-20T21:14:00.393820Z",
     "shell.execute_reply": "2021-06-20T21:14:00.394245Z",
     "shell.execute_reply.started": "2021-06-20T20:10:27.579547Z"
    },
    "papermill": {
     "duration": 0.250674,
     "end_time": "2021-06-20T21:14:00.394373",
     "exception": false,
     "start_time": "2021-06-20T21:14:00.143699",
     "status": "completed"
    },
    "tags": []
   },
   "outputs": [],
   "source": [
    "ttrain['Владельцы'] = ttrain['Владельцы'].fillna(ttrain['Владельцы'].mode()[0])"
   ]
  },
  {
   "cell_type": "code",
   "execution_count": null,
   "metadata": {
    "execution": {
     "iopub.execute_input": "2021-06-20T21:14:00.850854Z",
     "iopub.status.busy": "2021-06-20T21:14:00.850142Z",
     "iopub.status.idle": "2021-06-20T21:14:00.853692Z",
     "shell.execute_reply": "2021-06-20T21:14:00.853274Z",
     "shell.execute_reply.started": "2021-06-20T20:10:27.591085Z"
    },
    "papermill": {
     "duration": 0.233917,
     "end_time": "2021-06-20T21:14:00.853783",
     "exception": false,
     "start_time": "2021-06-20T21:14:00.619866",
     "status": "completed"
    },
    "tags": []
   },
   "outputs": [],
   "source": [
    "ttrain['Владельцы'][1]"
   ]
  },
  {
   "cell_type": "code",
   "execution_count": null,
   "metadata": {
    "execution": {
     "iopub.execute_input": "2021-06-20T21:14:01.314311Z",
     "iopub.status.busy": "2021-06-20T21:14:01.313467Z",
     "iopub.status.idle": "2021-06-20T21:14:01.325149Z",
     "shell.execute_reply": "2021-06-20T21:14:01.324711Z",
     "shell.execute_reply.started": "2021-06-20T20:10:27.601327Z"
    },
    "papermill": {
     "duration": 0.243232,
     "end_time": "2021-06-20T21:14:01.325244",
     "exception": false,
     "start_time": "2021-06-20T21:14:01.082012",
     "status": "completed"
    },
    "tags": []
   },
   "outputs": [],
   "source": [
    "ttrain[ttrain['Владельцы'] == '2\\xa0владельца'][['Владение', 'productionDate']]"
   ]
  },
  {
   "cell_type": "markdown",
   "metadata": {
    "papermill": {
     "duration": 0.225293,
     "end_time": "2021-06-20T21:14:01.805486",
     "exception": false,
     "start_time": "2021-06-20T21:14:01.580193",
     "status": "completed"
    },
    "tags": []
   },
   "source": [
    "Для облегчения читабельности попробуем сократить запись лишь на полное количество лет"
   ]
  },
  {
   "cell_type": "markdown",
   "metadata": {
    "papermill": {
     "duration": 0.225158,
     "end_time": "2021-06-20T21:14:02.256910",
     "exception": false,
     "start_time": "2021-06-20T21:14:02.031752",
     "status": "completed"
    },
    "tags": []
   },
   "source": [
    "## Владение"
   ]
  },
  {
   "cell_type": "markdown",
   "metadata": {
    "papermill": {
     "duration": 0.224436,
     "end_time": "2021-06-20T21:14:02.707113",
     "exception": false,
     "start_time": "2021-06-20T21:14:02.482677",
     "status": "completed"
    },
    "tags": []
   },
   "source": [
    "Мы знаем, что в этом признаке 64% пропущенных значений.  \n",
    "Прежде чем выкинуть весь признак, посмотрим, чем он может быть полезен."
   ]
  },
  {
   "cell_type": "code",
   "execution_count": null,
   "metadata": {
    "execution": {
     "iopub.execute_input": "2021-06-20T21:14:03.181474Z",
     "iopub.status.busy": "2021-06-20T21:14:03.180652Z",
     "iopub.status.idle": "2021-06-20T21:14:03.183627Z",
     "shell.execute_reply": "2021-06-20T21:14:03.183205Z",
     "shell.execute_reply.started": "2021-06-20T20:10:27.621504Z"
    },
    "papermill": {
     "duration": 0.248393,
     "end_time": "2021-06-20T21:14:03.183722",
     "exception": false,
     "start_time": "2021-06-20T21:14:02.935329",
     "status": "completed"
    },
    "tags": []
   },
   "outputs": [],
   "source": [
    "# заполним пропущенные значения другой категорией в признаке \"Владение\"\n",
    "\n",
    "ttrain['Владение'] = ttrain['Владение'].fillna('Не указано')"
   ]
  },
  {
   "cell_type": "code",
   "execution_count": null,
   "metadata": {
    "execution": {
     "iopub.execute_input": "2021-06-20T21:14:03.647626Z",
     "iopub.status.busy": "2021-06-20T21:14:03.646874Z",
     "iopub.status.idle": "2021-06-20T21:14:03.650502Z",
     "shell.execute_reply": "2021-06-20T21:14:03.650051Z",
     "shell.execute_reply.started": "2021-06-20T20:10:27.629001Z"
    },
    "papermill": {
     "duration": 0.242497,
     "end_time": "2021-06-20T21:14:03.650600",
     "exception": false,
     "start_time": "2021-06-20T21:14:03.408103",
     "status": "completed"
    },
    "tags": []
   },
   "outputs": [],
   "source": [
    "ttrain['Владение'] = ttrain['Владение'].apply(lambda x: ownership_length(x))"
   ]
  },
  {
   "cell_type": "code",
   "execution_count": null,
   "metadata": {
    "execution": {
     "iopub.execute_input": "2021-06-20T21:14:04.120273Z",
     "iopub.status.busy": "2021-06-20T21:14:04.119354Z",
     "iopub.status.idle": "2021-06-20T21:14:04.136180Z",
     "shell.execute_reply": "2021-06-20T21:14:04.136828Z",
     "shell.execute_reply.started": "2021-06-20T20:10:27.649115Z"
    },
    "papermill": {
     "duration": 0.260587,
     "end_time": "2021-06-20T21:14:04.137030",
     "exception": false,
     "start_time": "2021-06-20T21:14:03.876443",
     "status": "completed"
    },
    "tags": []
   },
   "outputs": [],
   "source": [
    "mean_price_by(ttrain, 'Владение')"
   ]
  },
  {
   "cell_type": "code",
   "execution_count": null,
   "metadata": {
    "execution": {
     "iopub.execute_input": "2021-06-20T21:14:04.798102Z",
     "iopub.status.busy": "2021-06-20T21:14:04.797260Z",
     "iopub.status.idle": "2021-06-20T21:14:04.806957Z",
     "shell.execute_reply": "2021-06-20T21:14:04.807429Z",
     "shell.execute_reply.started": "2021-06-20T20:10:56.183051Z"
    },
    "papermill": {
     "duration": 0.284111,
     "end_time": "2021-06-20T21:14:04.807543",
     "exception": false,
     "start_time": "2021-06-20T21:14:04.523432",
     "status": "completed"
    },
    "tags": []
   },
   "outputs": [],
   "source": [
    "mean_price_by(ttrain, 'Владение')"
   ]
  },
  {
   "cell_type": "markdown",
   "metadata": {
    "papermill": {
     "duration": 0.237128,
     "end_time": "2021-06-20T21:14:05.271154",
     "exception": false,
     "start_time": "2021-06-20T21:14:05.034026",
     "status": "completed"
    },
    "tags": []
   },
   "source": [
    "У нас сильно выбиваются сроки владения в 16, 18, 11, 27 лет.\n",
    "\n",
    "Хотелось бы перевести признак в числовой формат, но не вижу какой-то закономерности для замещения определенным значением.  \n",
    "И пропущенных значений больше половины, указать моду как замену, тоже не вариант.  \n",
    "Оставлю признак категориальным."
   ]
  },
  {
   "cell_type": "markdown",
   "metadata": {
    "papermill": {
     "duration": 0.225619,
     "end_time": "2021-06-20T21:14:05.722096",
     "exception": false,
     "start_time": "2021-06-20T21:14:05.496477",
     "status": "completed"
    },
    "tags": []
   },
   "source": [
    "## ПТС"
   ]
  },
  {
   "cell_type": "code",
   "execution_count": null,
   "metadata": {
    "execution": {
     "iopub.execute_input": "2021-06-20T21:14:06.184200Z",
     "iopub.status.busy": "2021-06-20T21:14:06.183262Z",
     "iopub.status.idle": "2021-06-20T21:14:06.316111Z",
     "shell.execute_reply": "2021-06-20T21:14:06.316543Z",
     "shell.execute_reply.started": "2021-06-20T20:10:57.057788Z"
    },
    "papermill": {
     "duration": 0.368586,
     "end_time": "2021-06-20T21:14:06.316667",
     "exception": false,
     "start_time": "2021-06-20T21:14:05.948081",
     "status": "completed"
    },
    "tags": []
   },
   "outputs": [],
   "source": [
    "cat_values(ttrain, 'ПТС')"
   ]
  },
  {
   "cell_type": "code",
   "execution_count": null,
   "metadata": {
    "execution": {
     "iopub.execute_input": "2021-06-20T21:14:06.779881Z",
     "iopub.status.busy": "2021-06-20T21:14:06.779028Z",
     "iopub.status.idle": "2021-06-20T21:14:06.787275Z",
     "shell.execute_reply": "2021-06-20T21:14:06.786810Z",
     "shell.execute_reply.started": "2021-06-20T20:10:57.394975Z"
    },
    "papermill": {
     "duration": 0.2412,
     "end_time": "2021-06-20T21:14:06.787365",
     "exception": false,
     "start_time": "2021-06-20T21:14:06.546165",
     "status": "completed"
    },
    "tags": []
   },
   "outputs": [],
   "source": [
    "mean_price_by(ttrain, 'ПТС')"
   ]
  },
  {
   "cell_type": "markdown",
   "metadata": {
    "papermill": {
     "duration": 0.227635,
     "end_time": "2021-06-20T21:14:07.243511",
     "exception": false,
     "start_time": "2021-06-20T21:14:07.015876",
     "status": "completed"
    },
    "tags": []
   },
   "source": [
    "Дубликаты в датасете составляют 10% от количества оригинала ПТС  \n",
    "Разница средней стоимости между ними почти двукратная"
   ]
  },
  {
   "cell_type": "markdown",
   "metadata": {
    "papermill": {
     "duration": 0.227414,
     "end_time": "2021-06-20T21:14:07.699036",
     "exception": false,
     "start_time": "2021-06-20T21:14:07.471622",
     "status": "completed"
    },
    "tags": []
   },
   "source": [
    "## Привод"
   ]
  },
  {
   "cell_type": "code",
   "execution_count": null,
   "metadata": {
    "execution": {
     "iopub.execute_input": "2021-06-20T21:14:08.166656Z",
     "iopub.status.busy": "2021-06-20T21:14:08.165812Z",
     "iopub.status.idle": "2021-06-20T21:14:08.328658Z",
     "shell.execute_reply": "2021-06-20T21:14:08.329079Z",
     "shell.execute_reply.started": "2021-06-20T20:10:58.327888Z"
    },
    "papermill": {
     "duration": 0.401943,
     "end_time": "2021-06-20T21:14:08.329219",
     "exception": false,
     "start_time": "2021-06-20T21:14:07.927276",
     "status": "completed"
    },
    "tags": []
   },
   "outputs": [],
   "source": [
    "cat_values(ttrain, 'Привод')"
   ]
  },
  {
   "cell_type": "code",
   "execution_count": null,
   "metadata": {
    "execution": {
     "iopub.execute_input": "2021-06-20T21:14:08.796755Z",
     "iopub.status.busy": "2021-06-20T21:14:08.795898Z",
     "iopub.status.idle": "2021-06-20T21:14:08.803970Z",
     "shell.execute_reply": "2021-06-20T21:14:08.804494Z",
     "shell.execute_reply.started": "2021-06-20T20:10:58.581438Z"
    },
    "papermill": {
     "duration": 0.243808,
     "end_time": "2021-06-20T21:14:08.804609",
     "exception": false,
     "start_time": "2021-06-20T21:14:08.560801",
     "status": "completed"
    },
    "tags": []
   },
   "outputs": [],
   "source": [
    "mean_price_by(ttrain, 'Привод')"
   ]
  },
  {
   "cell_type": "markdown",
   "metadata": {
    "papermill": {
     "duration": 0.231015,
     "end_time": "2021-06-20T21:14:09.267489",
     "exception": false,
     "start_time": "2021-06-20T21:14:09.036474",
     "status": "completed"
    },
    "tags": []
   },
   "source": [
    "Тут таблица рейтингов совпадает как в популярности, так и по средней стоимости: полный привод лидирует, и за ним идут задний и передний"
   ]
  },
  {
   "cell_type": "markdown",
   "metadata": {
    "papermill": {
     "duration": 0.229621,
     "end_time": "2021-06-20T21:14:09.727343",
     "exception": false,
     "start_time": "2021-06-20T21:14:09.497722",
     "status": "completed"
    },
    "tags": []
   },
   "source": [
    "## Руль"
   ]
  },
  {
   "cell_type": "code",
   "execution_count": null,
   "metadata": {
    "execution": {
     "iopub.execute_input": "2021-06-20T21:14:10.206863Z",
     "iopub.status.busy": "2021-06-20T21:14:10.206024Z",
     "iopub.status.idle": "2021-06-20T21:14:10.343288Z",
     "shell.execute_reply": "2021-06-20T21:14:10.343807Z",
     "shell.execute_reply.started": "2021-06-20T20:10:59.379602Z"
    },
    "papermill": {
     "duration": 0.37824,
     "end_time": "2021-06-20T21:14:10.343953",
     "exception": false,
     "start_time": "2021-06-20T21:14:09.965713",
     "status": "completed"
    },
    "tags": []
   },
   "outputs": [],
   "source": [
    "cat_values(ttrain, 'Руль')"
   ]
  },
  {
   "cell_type": "code",
   "execution_count": null,
   "metadata": {
    "execution": {
     "iopub.execute_input": "2021-06-20T21:14:10.818240Z",
     "iopub.status.busy": "2021-06-20T21:14:10.817391Z",
     "iopub.status.idle": "2021-06-20T21:14:10.825416Z",
     "shell.execute_reply": "2021-06-20T21:14:10.825833Z",
     "shell.execute_reply.started": "2021-06-20T20:10:59.699368Z"
    },
    "papermill": {
     "duration": 0.246705,
     "end_time": "2021-06-20T21:14:10.825956",
     "exception": false,
     "start_time": "2021-06-20T21:14:10.579251",
     "status": "completed"
    },
    "tags": []
   },
   "outputs": [],
   "source": [
    "mean_price_by(ttrain, 'Руль')"
   ]
  },
  {
   "cell_type": "markdown",
   "metadata": {
    "papermill": {
     "duration": 0.231822,
     "end_time": "2021-06-20T21:14:11.295333",
     "exception": false,
     "start_time": "2021-06-20T21:14:11.063511",
     "status": "completed"
    },
    "tags": []
   },
   "source": [
    "Просто чудовищно мало представлено праворульных машин, думаю, этот признак не сильно поможет при построении модели"
   ]
  },
  {
   "cell_type": "markdown",
   "metadata": {
    "papermill": {
     "duration": 0.234006,
     "end_time": "2021-06-20T21:14:11.764210",
     "exception": false,
     "start_time": "2021-06-20T21:14:11.530204",
     "status": "completed"
    },
    "tags": []
   },
   "source": [
    "# Feauture Engineering"
   ]
  },
  {
   "cell_type": "markdown",
   "metadata": {
    "papermill": {
     "duration": 0.232669,
     "end_time": "2021-06-20T21:14:12.230034",
     "exception": false,
     "start_time": "2021-06-20T21:14:11.997365",
     "status": "completed"
    },
    "tags": []
   },
   "source": [
    "## dealer"
   ]
  },
  {
   "cell_type": "markdown",
   "metadata": {
    "papermill": {
     "duration": 0.233015,
     "end_time": "2021-06-20T21:14:12.696071",
     "exception": false,
     "start_time": "2021-06-20T21:14:12.463056",
     "status": "completed"
    },
    "tags": []
   },
   "source": [
    "Для того, чтобы создать новый признак, нужно найти в столбце description все упоминания трейд-ин  \n",
    "Проверим заодно, будет ли полезен новый признак"
   ]
  },
  {
   "cell_type": "code",
   "execution_count": null,
   "metadata": {
    "execution": {
     "iopub.execute_input": "2021-06-20T21:14:13.190768Z",
     "iopub.status.busy": "2021-06-20T21:14:13.175474Z",
     "iopub.status.idle": "2021-06-20T21:14:13.193531Z",
     "shell.execute_reply": "2021-06-20T21:14:13.194060Z",
     "shell.execute_reply.started": "2021-06-20T20:11:01.147394Z"
    },
    "papermill": {
     "duration": 0.266454,
     "end_time": "2021-06-20T21:14:13.194192",
     "exception": false,
     "start_time": "2021-06-20T21:14:12.927738",
     "status": "completed"
    },
    "tags": []
   },
   "outputs": [],
   "source": [
    "dealer_list = []\n",
    "for index, row in ttrain['description'].items():\n",
    "    if 'trade-in' in row:\n",
    "        dealer_list.append(index)\n",
    "    elif 'TRADE_IN' in row:\n",
    "        dealer_list.append(index)\n",
    "    elif 'Trade-in' in row:\n",
    "        dealer_list.append(index)\n",
    "    elif 'трейд-ин' in row:\n",
    "        dealer_list.append(index)\n",
    "    elif 'Трейд-ин' in row:\n",
    "        dealer_list.append(index)\n",
    "    elif 'ТРЕЙД-ИН' in row:\n",
    "        dealer_list.append(index)"
   ]
  },
  {
   "cell_type": "code",
   "execution_count": null,
   "metadata": {
    "execution": {
     "iopub.execute_input": "2021-06-20T21:14:13.667461Z",
     "iopub.status.busy": "2021-06-20T21:14:13.666533Z",
     "iopub.status.idle": "2021-06-20T21:14:13.766302Z",
     "shell.execute_reply": "2021-06-20T21:14:13.765826Z",
     "shell.execute_reply.started": "2021-06-20T20:11:01.478797Z"
    },
    "papermill": {
     "duration": 0.337738,
     "end_time": "2021-06-20T21:14:13.766407",
     "exception": false,
     "start_time": "2021-06-20T21:14:13.428669",
     "status": "completed"
    },
    "tags": []
   },
   "outputs": [],
   "source": [
    "ttrain['dealer'] = 0\n",
    "for n, i in enumerate(dealer_list):\n",
    "    ttrain.loc[i, 'dealer'] = 1"
   ]
  },
  {
   "cell_type": "code",
   "execution_count": null,
   "metadata": {
    "execution": {
     "iopub.execute_input": "2021-06-20T21:14:14.241445Z",
     "iopub.status.busy": "2021-06-20T21:14:14.240615Z",
     "iopub.status.idle": "2021-06-20T21:14:14.248855Z",
     "shell.execute_reply": "2021-06-20T21:14:14.248397Z",
     "shell.execute_reply.started": "2021-06-20T20:11:01.893470Z"
    },
    "papermill": {
     "duration": 0.24981,
     "end_time": "2021-06-20T21:14:14.248965",
     "exception": false,
     "start_time": "2021-06-20T21:14:13.999155",
     "status": "completed"
    },
    "tags": []
   },
   "outputs": [],
   "source": [
    "mean_price_by(ttrain, 'dealer')"
   ]
  },
  {
   "cell_type": "markdown",
   "metadata": {
    "papermill": {
     "duration": 0.232178,
     "end_time": "2021-06-20T21:14:14.715286",
     "exception": false,
     "start_time": "2021-06-20T21:14:14.483108",
     "status": "completed"
    },
    "tags": []
   },
   "source": [
    "Оказалось, что дополнительный признак увеличивает процент ошибки.  \n",
    "К тому же, мы сможем обработать эти слова при построении NLP сети"
   ]
  },
  {
   "cell_type": "markdown",
   "metadata": {
    "papermill": {
     "duration": 0.291702,
     "end_time": "2021-06-20T21:14:15.239454",
     "exception": false,
     "start_time": "2021-06-20T21:14:14.947752",
     "status": "completed"
    },
    "tags": []
   },
   "source": [
    "## engineDisplacement"
   ]
  },
  {
   "cell_type": "code",
   "execution_count": null,
   "metadata": {
    "execution": {
     "iopub.execute_input": "2021-06-20T21:14:15.885214Z",
     "iopub.status.busy": "2021-06-20T21:14:15.884385Z",
     "iopub.status.idle": "2021-06-20T21:14:15.887210Z",
     "shell.execute_reply": "2021-06-20T21:14:15.886739Z",
     "shell.execute_reply.started": "2021-06-20T20:11:03.112465Z"
    },
    "papermill": {
     "duration": 0.253839,
     "end_time": "2021-06-20T21:14:15.887300",
     "exception": false,
     "start_time": "2021-06-20T21:14:15.633461",
     "status": "completed"
    },
    "tags": []
   },
   "outputs": [],
   "source": [
    "# Убираем все приставки \"LTR\", и преобразуем признак в форму вещественных чисел\n",
    "\n",
    "ttrain['engineDisplacement'] = ttrain['engineDisplacement'].apply(lambda x: x.split(' ')[0])"
   ]
  },
  {
   "cell_type": "code",
   "execution_count": null,
   "metadata": {
    "execution": {
     "iopub.execute_input": "2021-06-20T21:14:16.373827Z",
     "iopub.status.busy": "2021-06-20T21:14:16.372933Z",
     "iopub.status.idle": "2021-06-20T21:14:16.377006Z",
     "shell.execute_reply": "2021-06-20T21:14:16.376553Z",
     "shell.execute_reply.started": "2021-06-20T20:11:03.413034Z"
    },
    "papermill": {
     "duration": 0.254539,
     "end_time": "2021-06-20T21:14:16.377110",
     "exception": false,
     "start_time": "2021-06-20T21:14:16.122571",
     "status": "completed"
    },
    "tags": []
   },
   "outputs": [],
   "source": [
    "# Замена объема двигателя электрокаров на 0\n",
    "\n",
    "ttrain['engineDisplacement'] = ttrain['engineDisplacement'].replace('undefined',0, regex=True)\n",
    "ttrain['engineDisplacement']=ttrain['engineDisplacement'].astype('float')"
   ]
  },
  {
   "cell_type": "code",
   "execution_count": null,
   "metadata": {
    "execution": {
     "iopub.execute_input": "2021-06-20T21:14:16.850047Z",
     "iopub.status.busy": "2021-06-20T21:14:16.849223Z",
     "iopub.status.idle": "2021-06-20T21:14:16.993868Z",
     "shell.execute_reply": "2021-06-20T21:14:16.994340Z",
     "shell.execute_reply.started": "2021-06-20T20:11:03.752966Z"
    },
    "papermill": {
     "duration": 0.383327,
     "end_time": "2021-06-20T21:14:16.994478",
     "exception": false,
     "start_time": "2021-06-20T21:14:16.611151",
     "status": "completed"
    },
    "tags": []
   },
   "outputs": [],
   "source": [
    "price_by(ttrain, 'engineDisplacement')"
   ]
  },
  {
   "cell_type": "markdown",
   "metadata": {
    "papermill": {
     "duration": 0.235413,
     "end_time": "2021-06-20T21:14:17.465529",
     "exception": false,
     "start_time": "2021-06-20T21:14:17.230116",
     "status": "completed"
    },
    "tags": []
   },
   "source": [
    "Выбросов довольно много, график очень ломаный. Возможно, признак будет не очень полезен"
   ]
  },
  {
   "cell_type": "markdown",
   "metadata": {
    "papermill": {
     "duration": 0.261652,
     "end_time": "2021-06-20T21:14:17.962447",
     "exception": false,
     "start_time": "2021-06-20T21:14:17.700795",
     "status": "completed"
    },
    "tags": []
   },
   "source": [
    "## enginePower"
   ]
  },
  {
   "cell_type": "code",
   "execution_count": null,
   "metadata": {
    "execution": {
     "iopub.execute_input": "2021-06-20T21:14:18.455818Z",
     "iopub.status.busy": "2021-06-20T21:14:18.454943Z",
     "iopub.status.idle": "2021-06-20T21:14:18.457855Z",
     "shell.execute_reply": "2021-06-20T21:14:18.457434Z",
     "shell.execute_reply.started": "2021-06-20T20:11:04.714690Z"
    },
    "papermill": {
     "duration": 0.258103,
     "end_time": "2021-06-20T21:14:18.457950",
     "exception": false,
     "start_time": "2021-06-20T21:14:18.199847",
     "status": "completed"
    },
    "tags": []
   },
   "outputs": [],
   "source": [
    "# Приставка N12 также везде, избавимся от нее и переведем в формат целых чисел\n",
    "\n",
    "ttrain['enginePower'] = ttrain['enginePower'].apply(lambda x: x.split(' ')[0]).astype('int64')"
   ]
  },
  {
   "cell_type": "code",
   "execution_count": null,
   "metadata": {
    "execution": {
     "iopub.execute_input": "2021-06-20T21:14:18.932837Z",
     "iopub.status.busy": "2021-06-20T21:14:18.931791Z",
     "iopub.status.idle": "2021-06-20T21:14:19.067910Z",
     "shell.execute_reply": "2021-06-20T21:14:19.068364Z",
     "shell.execute_reply.started": "2021-06-20T20:11:05.108240Z"
    },
    "papermill": {
     "duration": 0.376303,
     "end_time": "2021-06-20T21:14:19.068486",
     "exception": false,
     "start_time": "2021-06-20T21:14:18.692183",
     "status": "completed"
    },
    "tags": []
   },
   "outputs": [],
   "source": [
    "price_by(ttrain, 'enginePower')"
   ]
  },
  {
   "cell_type": "markdown",
   "metadata": {
    "papermill": {
     "duration": 0.237357,
     "end_time": "2021-06-20T21:14:19.543563",
     "exception": false,
     "start_time": "2021-06-20T21:14:19.306206",
     "status": "completed"
    },
    "tags": []
   },
   "source": [
    "# miles_per_year"
   ]
  },
  {
   "cell_type": "code",
   "execution_count": null,
   "metadata": {
    "execution": {
     "iopub.execute_input": "2021-06-20T21:14:20.023612Z",
     "iopub.status.busy": "2021-06-20T21:14:20.022709Z",
     "iopub.status.idle": "2021-06-20T21:14:20.026948Z",
     "shell.execute_reply": "2021-06-20T21:14:20.026411Z",
     "shell.execute_reply.started": "2021-06-20T20:11:05.741366Z"
    },
    "papermill": {
     "duration": 0.247164,
     "end_time": "2021-06-20T21:14:20.027071",
     "exception": false,
     "start_time": "2021-06-20T21:14:19.779907",
     "status": "completed"
    },
    "tags": []
   },
   "outputs": [],
   "source": [
    "ttrain['miles_per_year'] = ttrain['mileage'] / (2021 - ttrain['productionDate'])"
   ]
  },
  {
   "cell_type": "code",
   "execution_count": null,
   "metadata": {
    "execution": {
     "iopub.execute_input": "2021-06-20T21:14:20.506062Z",
     "iopub.status.busy": "2021-06-20T21:14:20.505185Z",
     "iopub.status.idle": "2021-06-20T21:14:20.657754Z",
     "shell.execute_reply": "2021-06-20T21:14:20.658180Z",
     "shell.execute_reply.started": "2021-06-20T20:11:06.199357Z"
    },
    "papermill": {
     "duration": 0.395366,
     "end_time": "2021-06-20T21:14:20.658301",
     "exception": false,
     "start_time": "2021-06-20T21:14:20.262935",
     "status": "completed"
    },
    "tags": []
   },
   "outputs": [],
   "source": [
    "price_by(ttrain, 'miles_per_year')"
   ]
  },
  {
   "cell_type": "code",
   "execution_count": null,
   "metadata": {
    "execution": {
     "iopub.execute_input": "2021-06-20T21:14:21.157029Z",
     "iopub.status.busy": "2021-06-20T21:14:21.156173Z",
     "iopub.status.idle": "2021-06-20T21:14:22.303791Z",
     "shell.execute_reply": "2021-06-20T21:14:22.303349Z",
     "shell.execute_reply.started": "2021-06-20T20:11:06.762548Z"
    },
    "papermill": {
     "duration": 1.401987,
     "end_time": "2021-06-20T21:14:22.303891",
     "exception": false,
     "start_time": "2021-06-20T21:14:20.901904",
     "status": "completed"
    },
    "tags": []
   },
   "outputs": [],
   "source": [
    "# Обозначим список\n",
    "num_cols = ['engineDisplacement', 'enginePower','mileage', 'modelDate', 'productionDate', 'miles_per_year']\n",
    "\n",
    "#Посмотрим распределение данных\n",
    "fig, axes = plt.subplots(2,3, figsize=(15, 12))\n",
    "for col, i in zip(num_cols, range(8)):\n",
    "    sns.distplot(ttrain[col], kde=False, ax=axes.flat[i])"
   ]
  },
  {
   "cell_type": "code",
   "execution_count": null,
   "metadata": {
    "execution": {
     "iopub.execute_input": "2021-06-20T21:14:22.808905Z",
     "iopub.status.busy": "2021-06-20T21:14:22.807948Z",
     "iopub.status.idle": "2021-06-20T21:14:22.819930Z",
     "shell.execute_reply": "2021-06-20T21:14:22.819477Z",
     "shell.execute_reply.started": "2021-06-20T20:11:08.453859Z"
    },
    "papermill": {
     "duration": 0.265954,
     "end_time": "2021-06-20T21:14:22.820026",
     "exception": false,
     "start_time": "2021-06-20T21:14:22.554072",
     "status": "completed"
    },
    "tags": []
   },
   "outputs": [],
   "source": [
    "# Удалим выбросы в числовых признаках\n",
    "for col in ['engineDisplacement', 'enginePower','mileage']:\n",
    "    d = outliers_iqr(ttrain[col])\n",
    "    ttrain = ttrain.loc[ttrain[col].between(d[0], d[1])]\n",
    "    \n",
    "# прологарифмируем целевую переменную\n",
    "for col in ['enginePower', 'price']:\n",
    "    ttrain[col] = np.log(ttrain[col] + 1)"
   ]
  },
  {
   "cell_type": "code",
   "execution_count": null,
   "metadata": {
    "execution": {
     "iopub.execute_input": "2021-06-20T21:14:23.513253Z",
     "iopub.status.busy": "2021-06-20T21:14:23.511974Z",
     "iopub.status.idle": "2021-06-20T21:14:24.641458Z",
     "shell.execute_reply": "2021-06-20T21:14:24.641878Z",
     "shell.execute_reply.started": "2021-06-20T20:11:08.482467Z"
    },
    "papermill": {
     "duration": 1.570623,
     "end_time": "2021-06-20T21:14:24.642007",
     "exception": false,
     "start_time": "2021-06-20T21:14:23.071384",
     "status": "completed"
    },
    "tags": []
   },
   "outputs": [],
   "source": [
    "#Посмотрим распределение данных\n",
    "fig, axes = plt.subplots(2,3, figsize=(15, 12))\n",
    "for col, i in zip(num_cols, range(8)):\n",
    "    sns.distplot(ttrain[col], kde=False, ax=axes.flat[i])"
   ]
  },
  {
   "cell_type": "code",
   "execution_count": null,
   "metadata": {
    "execution": {
     "iopub.execute_input": "2021-06-20T21:14:25.165891Z",
     "iopub.status.busy": "2021-06-20T21:14:25.165010Z",
     "iopub.status.idle": "2021-06-20T21:14:25.168861Z",
     "shell.execute_reply": "2021-06-20T21:14:25.168447Z",
     "shell.execute_reply.started": "2021-06-20T20:11:11.259942Z"
    },
    "papermill": {
     "duration": 0.272138,
     "end_time": "2021-06-20T21:14:25.168953",
     "exception": false,
     "start_time": "2021-06-20T21:14:24.896815",
     "status": "completed"
    },
    "tags": []
   },
   "outputs": [],
   "source": [
    "len(ttrain)"
   ]
  },
  {
   "cell_type": "markdown",
   "metadata": {
    "papermill": {
     "duration": 0.34893,
     "end_time": "2021-06-20T21:14:25.776590",
     "exception": false,
     "start_time": "2021-06-20T21:14:25.427660",
     "status": "completed"
    },
    "tags": []
   },
   "source": [
    "# Нормализация и значимость данных"
   ]
  },
  {
   "cell_type": "code",
   "execution_count": null,
   "metadata": {
    "execution": {
     "iopub.execute_input": "2021-06-20T21:14:26.965943Z",
     "iopub.status.busy": "2021-06-20T21:14:26.959322Z",
     "iopub.status.idle": "2021-06-20T21:14:26.987615Z",
     "shell.execute_reply": "2021-06-20T21:14:26.987075Z",
     "shell.execute_reply.started": "2021-06-20T20:11:11.863320Z"
    },
    "papermill": {
     "duration": 0.733636,
     "end_time": "2021-06-20T21:14:26.987714",
     "exception": false,
     "start_time": "2021-06-20T21:14:26.254078",
     "status": "completed"
    },
    "tags": []
   },
   "outputs": [],
   "source": [
    "scaler = MinMaxScaler()\n",
    "for column in num_cols:\n",
    "    ttrain[column] = scaler.fit_transform(ttrain[[column]])[:,0]"
   ]
  },
  {
   "cell_type": "code",
   "execution_count": null,
   "metadata": {
    "execution": {
     "iopub.execute_input": "2021-06-20T21:14:27.532689Z",
     "iopub.status.busy": "2021-06-20T21:14:27.531669Z",
     "iopub.status.idle": "2021-06-20T21:14:27.859597Z",
     "shell.execute_reply": "2021-06-20T21:14:27.860011Z",
     "shell.execute_reply.started": "2021-06-20T20:11:12.181448Z"
    },
    "papermill": {
     "duration": 0.605006,
     "end_time": "2021-06-20T21:14:27.860151",
     "exception": false,
     "start_time": "2021-06-20T21:14:27.255145",
     "status": "completed"
    },
    "tags": []
   },
   "outputs": [],
   "source": [
    "sns.set(font_scale=1)\n",
    "plt.subplots(figsize=(12, 12))\n",
    "sns.heatmap(ttrain[num_cols].corr(),\n",
    "            square=True,\n",
    "            annot=True,\n",
    "            fmt=\".1f\",\n",
    "            linewidths=0.1,\n",
    "            cmap=\"Blues\")"
   ]
  },
  {
   "cell_type": "code",
   "execution_count": null,
   "metadata": {
    "execution": {
     "iopub.execute_input": "2021-06-20T21:14:28.396035Z",
     "iopub.status.busy": "2021-06-20T21:14:28.385391Z",
     "iopub.status.idle": "2021-06-20T21:14:28.626130Z",
     "shell.execute_reply": "2021-06-20T21:14:28.626565Z",
     "shell.execute_reply.started": "2021-06-20T20:11:12.533421Z"
    },
    "papermill": {
     "duration": 0.507674,
     "end_time": "2021-06-20T21:14:28.626689",
     "exception": false,
     "start_time": "2021-06-20T21:14:28.119015",
     "status": "completed"
    },
    "tags": []
   },
   "outputs": [],
   "source": [
    "# для оценки непрерывных значений будем использовать функцию f_regression\n",
    "imp_num = pd.Series(f_regression(ttrain[num_cols], ttrain['price'])[0],\n",
    "                 index=num_cols)\n",
    "imp_num.sort_values(inplace=True)\n",
    "imp_num.plot(kind='barh')\n",
    "plt.title('Значимость количественных переменных')\n",
    "plt.xlabel('F-value')"
   ]
  },
  {
   "cell_type": "code",
   "execution_count": null,
   "metadata": {
    "execution": {
     "iopub.execute_input": "2021-06-20T21:14:29.151319Z",
     "iopub.status.busy": "2021-06-20T21:14:29.150542Z",
     "iopub.status.idle": "2021-06-20T21:14:29.152990Z",
     "shell.execute_reply": "2021-06-20T21:14:29.153524Z",
     "shell.execute_reply.started": "2021-06-20T20:11:12.784070Z"
    },
    "papermill": {
     "duration": 0.268692,
     "end_time": "2021-06-20T21:14:29.153639",
     "exception": false,
     "start_time": "2021-06-20T21:14:28.884947",
     "status": "completed"
    },
    "tags": []
   },
   "outputs": [],
   "source": [
    "cat_cols = ['bodyType', 'brand', 'color', 'fuelType', 'model_info', 'name', '4WD',\n",
    "  'numberOfDoors', 'vehicleConfiguration', 'vehicleTransmission', 'Владельцы', 'Владение', 'ПТС', 'Привод', 'Руль']"
   ]
  },
  {
   "cell_type": "code",
   "execution_count": null,
   "metadata": {
    "execution": {
     "iopub.execute_input": "2021-06-20T21:14:29.676403Z",
     "iopub.status.busy": "2021-06-20T21:14:29.675531Z",
     "iopub.status.idle": "2021-06-20T21:14:30.082769Z",
     "shell.execute_reply": "2021-06-20T21:14:30.083278Z",
     "shell.execute_reply.started": "2021-06-20T20:11:13.125156Z"
    },
    "papermill": {
     "duration": 0.671737,
     "end_time": "2021-06-20T21:14:30.083411",
     "exception": false,
     "start_time": "2021-06-20T21:14:29.411674",
     "status": "completed"
    },
    "tags": []
   },
   "outputs": [],
   "source": [
    "for column in cat_cols:\n",
    "    ttrain[column] = ttrain[column].astype('category').cat.codes"
   ]
  },
  {
   "cell_type": "code",
   "execution_count": null,
   "metadata": {
    "execution": {
     "iopub.execute_input": "2021-06-20T21:14:30.612481Z",
     "iopub.status.busy": "2021-06-20T21:14:30.611603Z",
     "iopub.status.idle": "2021-06-20T21:14:30.836693Z",
     "shell.execute_reply": "2021-06-20T21:14:30.837220Z",
     "shell.execute_reply.started": "2021-06-20T20:11:13.354182Z"
    },
    "papermill": {
     "duration": 0.490893,
     "end_time": "2021-06-20T21:14:30.837347",
     "exception": false,
     "start_time": "2021-06-20T21:14:30.346454",
     "status": "completed"
    },
    "tags": []
   },
   "outputs": [],
   "source": [
    "plt.subplots(figsize=(12, 12))\n",
    "sns.heatmap(ttrain[cat_cols].corr(method='spearman').abs(),\n",
    "            vmin=0,\n",
    "            vmax=1,\n",
    "            cmap=\"YlGnBu\",\n",
    "           annot=True)"
   ]
  },
  {
   "cell_type": "code",
   "execution_count": null,
   "metadata": {
    "execution": {
     "iopub.execute_input": "2021-06-20T21:14:31.390629Z",
     "iopub.status.busy": "2021-06-20T21:14:31.389726Z",
     "iopub.status.idle": "2021-06-20T21:14:31.394488Z",
     "shell.execute_reply": "2021-06-20T21:14:31.394034Z",
     "shell.execute_reply.started": "2021-06-20T20:11:13.775837Z"
    },
    "papermill": {
     "duration": 0.294864,
     "end_time": "2021-06-20T21:14:31.394588",
     "exception": false,
     "start_time": "2021-06-20T21:14:31.099724",
     "status": "completed"
    },
    "tags": []
   },
   "outputs": [],
   "source": [
    "imp_cat = pd.Series(mutual_info_regression(ttrain[cat_cols],\n",
    "                                        ttrain['price'],\n",
    "                                        discrete_features=True),\n",
    "                    index=ttrain[cat_cols].columns)\n",
    "imp_cat.sort_values(inplace=True)\n",
    "imp_cat.plot(kind='barh')\n",
    "plt.title('Significance of cat variables')"
   ]
  },
  {
   "cell_type": "code",
   "execution_count": null,
   "metadata": {
    "execution": {
     "iopub.execute_input": "2021-06-20T21:14:31.944459Z",
     "iopub.status.busy": "2021-06-20T21:14:31.943482Z",
     "iopub.status.idle": "2021-06-20T21:14:31.948283Z",
     "shell.execute_reply": "2021-06-20T21:14:31.947828Z",
     "shell.execute_reply.started": "2021-06-20T20:11:14.052951Z"
    },
    "papermill": {
     "duration": 0.272051,
     "end_time": "2021-06-20T21:14:31.948379",
     "exception": false,
     "start_time": "2021-06-20T21:14:31.676328",
     "status": "completed"
    },
    "tags": []
   },
   "outputs": [],
   "source": [
    "ttrain.drop(['sell_id', 'description'], axis = 1, inplace=True)"
   ]
  },
  {
   "cell_type": "code",
   "execution_count": null,
   "metadata": {
    "execution": {
     "iopub.execute_input": "2021-06-20T21:14:32.492982Z",
     "iopub.status.busy": "2021-06-20T21:14:32.492077Z",
     "iopub.status.idle": "2021-06-20T21:14:32.497001Z",
     "shell.execute_reply": "2021-06-20T21:14:32.496546Z",
     "shell.execute_reply.started": "2021-06-20T20:11:14.386802Z"
    },
    "papermill": {
     "duration": 0.286507,
     "end_time": "2021-06-20T21:14:32.497108",
     "exception": false,
     "start_time": "2021-06-20T21:14:32.210601",
     "status": "completed"
    },
    "tags": []
   },
   "outputs": [],
   "source": [
    "ttrain.head()"
   ]
  },
  {
   "cell_type": "markdown",
   "metadata": {
    "papermill": {
     "duration": 0.261225,
     "end_time": "2021-06-20T21:14:33.018720",
     "exception": false,
     "start_time": "2021-06-20T21:14:32.757495",
     "status": "completed"
    },
    "tags": []
   },
   "source": [
    "Удаление коррелирующих столбцов негативно влияет на результат"
   ]
  },
  {
   "cell_type": "code",
   "execution_count": null,
   "metadata": {
    "execution": {
     "iopub.execute_input": "2021-06-20T21:14:33.551370Z",
     "iopub.status.busy": "2021-06-20T21:14:33.550430Z",
     "iopub.status.idle": "2021-06-20T21:14:33.552459Z",
     "shell.execute_reply": "2021-06-20T21:14:33.552893Z",
     "shell.execute_reply.started": "2021-06-20T20:11:14.942019Z"
    },
    "papermill": {
     "duration": 0.271656,
     "end_time": "2021-06-20T21:14:33.553022",
     "exception": false,
     "start_time": "2021-06-20T21:14:33.281366",
     "status": "completed"
    },
    "tags": []
   },
   "outputs": [],
   "source": [
    "#ttrain = pd.get_dummies(ttrain, columns=cat_cols, dummy_na=False, drop_first=True)"
   ]
  },
  {
   "cell_type": "markdown",
   "metadata": {
    "papermill": {
     "duration": 0.260912,
     "end_time": "2021-06-20T21:14:34.089203",
     "exception": false,
     "start_time": "2021-06-20T21:14:33.828291",
     "status": "completed"
    },
    "tags": []
   },
   "source": [
    "# PreProc Tabular Data"
   ]
  },
  {
   "cell_type": "code",
   "execution_count": null,
   "metadata": {
    "execution": {
     "iopub.execute_input": "2021-06-20T21:14:34.625983Z",
     "iopub.status.busy": "2021-06-20T21:14:34.625136Z",
     "iopub.status.idle": "2021-06-20T21:14:34.627539Z",
     "shell.execute_reply": "2021-06-20T21:14:34.627906Z",
     "shell.execute_reply.started": "2021-06-20T20:11:15.433691Z"
    },
    "papermill": {
     "duration": 0.271241,
     "end_time": "2021-06-20T21:14:34.628032",
     "exception": false,
     "start_time": "2021-06-20T21:14:34.356791",
     "status": "completed"
    },
    "tags": []
   },
   "outputs": [],
   "source": [
    "#используем все текстовые признаки как категориальные без предобработки\n",
    "cat_cols = ['bodyType', 'brand', 'color', 'fuelType', 'model_info', 'name',\n",
    "  'numberOfDoors', 'vehicleConfiguration', 'vehicleTransmission', 'Владельцы', 'Владение', 'ПТС', 'Привод', 'Руль']\n",
    "\n",
    "#используем все числовые признаки\n",
    "num_cols = ['engineDisplacement','enginePower','mileage', 'modelDate', 'productionDate']"
   ]
  },
  {
   "cell_type": "code",
   "execution_count": null,
   "metadata": {
    "execution": {
     "iopub.execute_input": "2021-06-20T21:14:35.184301Z",
     "iopub.status.busy": "2021-06-20T21:14:35.183401Z",
     "iopub.status.idle": "2021-06-20T21:14:35.194669Z",
     "shell.execute_reply": "2021-06-20T21:14:35.195335Z",
     "shell.execute_reply.started": "2021-06-20T20:11:16.119517Z"
    },
    "papermill": {
     "duration": 0.306381,
     "end_time": "2021-06-20T21:14:35.195505",
     "exception": false,
     "start_time": "2021-06-20T21:14:34.889124",
     "status": "completed"
    },
    "tags": []
   },
   "outputs": [],
   "source": [
    "# ВАЖНО! дря корректной обработки признаков объединяем трейн и тест в один датасет\n",
    "train['sample'] = 1 # помечаем где у нас трейн\n",
    "test['sample'] = 0 # помечаем где у нас тест\n",
    "test['price'] = 0 # в тесте у нас нет значения price, мы его должны предсказать, поэтому пока просто заполняем нулями\n",
    "\n",
    "data = test.append(train, sort=False).reset_index(drop=True) # объединяем\n",
    "print(train.shape, test.shape, data.shape)"
   ]
  },
  {
   "cell_type": "code",
   "execution_count": null,
   "metadata": {
    "execution": {
     "iopub.execute_input": "2021-06-20T21:14:35.736051Z",
     "iopub.status.busy": "2021-06-20T21:14:35.735177Z",
     "iopub.status.idle": "2021-06-20T21:14:35.737890Z",
     "shell.execute_reply": "2021-06-20T21:14:35.737487Z",
     "shell.execute_reply.started": "2021-06-20T20:11:25.923850Z"
    },
    "papermill": {
     "duration": 0.280724,
     "end_time": "2021-06-20T21:14:35.737981",
     "exception": false,
     "start_time": "2021-06-20T21:14:35.457257",
     "status": "completed"
    },
    "tags": []
   },
   "outputs": [],
   "source": [
    "def preproc_data(df_input):\n",
    "    \n",
    "    # копируем датасет\n",
    "    \n",
    "    df_output = df_input.copy()\n",
    "    \n",
    "    # заполним пропущенные значения модой\n",
    "    \n",
    "    df_output['Владельцы'] = df_output['Владельцы'].fillna(df_output['Владельцы'].mode()[0])\n",
    "    \n",
    "    # заполним пропущенные значения другой категорией в признаке \"Владение\"\n",
    "\n",
    "    df_output['Владение'] = df_output['Владение'].fillna('Не указано')\n",
    "    \n",
    "    # улучшаем читабельность признака Владения\n",
    "    \n",
    "    df_output['Владение'] = df_output['Владение'].apply(ownership_length)\n",
    "    \n",
    "    # Убираем все приставки \"LTR\" в признаке engineDisplacement, и преобразуем признак в форму вещественных чисел\n",
    "\n",
    "    df_output['engineDisplacement'] = df_output['engineDisplacement'].apply(lambda x: x.split(' ')[0])\n",
    "    \n",
    "    # Замена объема двигателя электрокаров на 0\n",
    "\n",
    "    df_output['engineDisplacement'] = df_output['engineDisplacement'].replace('undefined',0, regex=True)\n",
    "    df_output['engineDisplacement']=df_output['engineDisplacement'].astype('float')\n",
    "    \n",
    "    # Приставка N12 также везде, избавимся от нее и переведем в формат целых чисел\n",
    "\n",
    "    df_output['enginePower'] = df_output['enginePower'].apply(lambda x: x.split(' ')[0]).astype('int64')\n",
    "    \n",
    "    df_output['numberOfDoors'] = df_output['numberOfDoors'].apply(lambda x: str(int(x)))\n",
    "    \n",
    "    df_output['vehicle_age'] = 2021 - df_output['productionDate'] \n",
    "    \n",
    "    # создание признака 4WD\n",
    "    four_wd = []\n",
    "    for index, row in df_output['name'].items():\n",
    "        if '4WD' in row:\n",
    "            four_wd.append(index)\n",
    "    \n",
    "    df_output['4WD'] = 0\n",
    "    for n, i in enumerate(four_wd):\n",
    "        df_output.loc[i, '4WD'] = 1\n",
    "        \n",
    "    # создание признака xDrive\n",
    "    #xdrive = []\n",
    "   # for index, row in df_output['name'].items():\n",
    "       # if 'xDrive' in row:\n",
    "         #   xdrive.append(index)\n",
    "    \n",
    "    #df_output['xDrive'] = 0\n",
    "    #for n, i in enumerate(xdrive):\n",
    "       # df_output.loc[i, 'xDrive'] = 1\n",
    "    \n",
    "    # создание признака износа машин\n",
    "    # df_output['milesPerYear'] = df_output['mileage'] / (2021 - df_output['productionDate'])\n",
    "    \n",
    "        \n",
    "    # прологарифмируем целевую переменную\n",
    "    #df_output['price'] = np.log(df_output['price'] + 1)\n",
    "    \n",
    "    num_cols.append('vehicle_age')\n",
    "    cat_cols.append('4WD')\n",
    "    #cat_cols.append('xDrive')\n",
    "    \n",
    "    # категориальные признаки\n",
    "    for column in cat_cols:\n",
    "        df_output[column] = df_output[column].astype('category').cat.codes\n",
    "        \n",
    "    # удаление коррелирующих и не нужных для модели признаков\n",
    "    df_output.drop(['sell_id', 'description'], axis = 1, inplace=True)\n",
    "    \n",
    "    df_output = pd.get_dummies(df_output, columns=cat_cols, dummy_na=False, drop_first=True)\n",
    "    \n",
    "    \n",
    "    return df_output"
   ]
  },
  {
   "cell_type": "code",
   "execution_count": null,
   "metadata": {
    "execution": {
     "iopub.execute_input": "2021-06-20T21:14:36.271489Z",
     "iopub.status.busy": "2021-06-20T21:14:36.270693Z",
     "iopub.status.idle": "2021-06-20T21:14:37.706116Z",
     "shell.execute_reply": "2021-06-20T21:14:37.705183Z",
     "shell.execute_reply.started": "2021-06-20T20:11:26.144922Z"
    },
    "papermill": {
     "duration": 1.70647,
     "end_time": "2021-06-20T21:14:37.706224",
     "exception": false,
     "start_time": "2021-06-20T21:14:35.999754",
     "status": "completed"
    },
    "tags": []
   },
   "outputs": [],
   "source": [
    "# Запускаем и проверяем, что получилось\n",
    "df_preproc = preproc_data(data)\n",
    "df_preproc.sample(10)"
   ]
  },
  {
   "cell_type": "markdown",
   "metadata": {
    "papermill": {
     "duration": 0.273305,
     "end_time": "2021-06-20T21:14:38.254029",
     "exception": false,
     "start_time": "2021-06-20T21:14:37.980724",
     "status": "completed"
    },
    "tags": []
   },
   "source": [
    "## Split data"
   ]
  },
  {
   "cell_type": "code",
   "execution_count": null,
   "metadata": {
    "execution": {
     "iopub.execute_input": "2021-06-20T21:14:38.811342Z",
     "iopub.status.busy": "2021-06-20T21:14:38.810449Z",
     "iopub.status.idle": "2021-06-20T21:14:38.968374Z",
     "shell.execute_reply": "2021-06-20T21:14:38.967747Z",
     "shell.execute_reply.started": "2021-06-20T20:11:27.340923Z"
    },
    "papermill": {
     "duration": 0.443306,
     "end_time": "2021-06-20T21:14:38.968492",
     "exception": false,
     "start_time": "2021-06-20T21:14:38.525186",
     "status": "completed"
    },
    "tags": []
   },
   "outputs": [],
   "source": [
    "# Теперь выделим тестовую часть\n",
    "train_data = df_preproc.query('sample == 1').drop(['sample'], axis=1)\n",
    "test_data = df_preproc.query('sample == 0').drop(['sample'], axis=1)"
   ]
  },
  {
   "cell_type": "code",
   "execution_count": null,
   "metadata": {
    "execution": {
     "iopub.execute_input": "2021-06-20T21:14:39.534362Z",
     "iopub.status.busy": "2021-06-20T21:14:39.530404Z",
     "iopub.status.idle": "2021-06-20T21:14:39.575146Z",
     "shell.execute_reply": "2021-06-20T21:14:39.574705Z",
     "shell.execute_reply.started": "2021-06-20T20:11:27.677872Z"
    },
    "papermill": {
     "duration": 0.32638,
     "end_time": "2021-06-20T21:14:39.575243",
     "exception": false,
     "start_time": "2021-06-20T21:14:39.248863",
     "status": "completed"
    },
    "tags": []
   },
   "outputs": [],
   "source": [
    "scaler = MinMaxScaler()\n",
    "for column in num_cols:\n",
    "    train_data[column]=scaler.fit_transform(train_data[[column]])[:,0]\n",
    "    test_data[column]=scaler.transform(test_data[[column]])[:,0]\n",
    "\n",
    "for column in num_cols:\n",
    "    train_data[column] = np.log(train_data[column] + 1)\n",
    "    test_data[column] = np.log(test_data[column] + 1)\n",
    "    \n",
    "# прологарифмируем целевую переменную\n",
    "train_data['price'] = np.log(train_data['price'] + 1)"
   ]
  },
  {
   "cell_type": "code",
   "execution_count": null,
   "metadata": {
    "execution": {
     "iopub.execute_input": "2021-06-20T21:14:40.128343Z",
     "iopub.status.busy": "2021-06-20T21:14:40.127039Z",
     "iopub.status.idle": "2021-06-20T21:14:40.140617Z",
     "shell.execute_reply": "2021-06-20T21:14:40.140184Z",
     "shell.execute_reply.started": "2021-06-20T20:11:27.730253Z"
    },
    "papermill": {
     "duration": 0.293232,
     "end_time": "2021-06-20T21:14:40.140715",
     "exception": false,
     "start_time": "2021-06-20T21:14:39.847483",
     "status": "completed"
    },
    "tags": []
   },
   "outputs": [],
   "source": [
    "y = train_data.price.values    \n",
    "X = train_data.drop(['price'], axis=1)\n",
    "X_sub = test_data.drop(['price'], axis=1)"
   ]
  },
  {
   "cell_type": "code",
   "execution_count": null,
   "metadata": {
    "execution": {
     "iopub.execute_input": "2021-06-20T21:14:40.694815Z",
     "iopub.status.busy": "2021-06-20T21:14:40.694245Z",
     "iopub.status.idle": "2021-06-20T21:14:40.698266Z",
     "shell.execute_reply": "2021-06-20T21:14:40.697479Z",
     "shell.execute_reply.started": "2021-06-20T20:11:27.750937Z"
    },
    "papermill": {
     "duration": 0.281108,
     "end_time": "2021-06-20T21:14:40.698371",
     "exception": false,
     "start_time": "2021-06-20T21:14:40.417263",
     "status": "completed"
    },
    "tags": []
   },
   "outputs": [],
   "source": [
    "#for col in ['engineDisplacement', 'enginePower','mileage']:\n",
    "#    d = outliers_iqr(train_data[col])\n",
    "#    train_data = train_data.loc[train_data[col].between(d[0], d[1])]"
   ]
  },
  {
   "cell_type": "markdown",
   "metadata": {
    "papermill": {
     "duration": 0.272145,
     "end_time": "2021-06-20T21:14:41.241753",
     "exception": false,
     "start_time": "2021-06-20T21:14:40.969608",
     "status": "completed"
    },
    "tags": []
   },
   "source": [
    "# Model 2: CatBoostRegressor"
   ]
  },
  {
   "cell_type": "code",
   "execution_count": null,
   "metadata": {
    "execution": {
     "iopub.execute_input": "2021-06-20T21:14:41.819978Z",
     "iopub.status.busy": "2021-06-20T21:14:41.818944Z",
     "iopub.status.idle": "2021-06-20T21:14:41.844760Z",
     "shell.execute_reply": "2021-06-20T21:14:41.844271Z",
     "shell.execute_reply.started": "2021-06-20T20:11:27.757522Z"
    },
    "papermill": {
     "duration": 0.331063,
     "end_time": "2021-06-20T21:14:41.844857",
     "exception": false,
     "start_time": "2021-06-20T21:14:41.513794",
     "status": "completed"
    },
    "tags": []
   },
   "outputs": [],
   "source": [
    "X_train, X_test, y_train, y_test = train_test_split(X, y, test_size=0.15, shuffle=True, random_state=RANDOM_SEED)"
   ]
  },
  {
   "cell_type": "code",
   "execution_count": null,
   "metadata": {
    "execution": {
     "iopub.execute_input": "2021-06-20T21:14:42.412834Z",
     "iopub.status.busy": "2021-06-20T21:14:42.412298Z",
     "iopub.status.idle": "2021-06-20T21:14:42.416128Z",
     "shell.execute_reply": "2021-06-20T21:14:42.415655Z",
     "shell.execute_reply.started": "2021-06-20T20:11:27.788681Z"
    },
    "papermill": {
     "duration": 0.285019,
     "end_time": "2021-06-20T21:14:42.416266",
     "exception": false,
     "start_time": "2021-06-20T21:14:42.131247",
     "status": "completed"
    },
    "tags": []
   },
   "outputs": [],
   "source": [
    "my_cat_features=[i for i in range(6, len(X_train.columns))]"
   ]
  },
  {
   "cell_type": "code",
   "execution_count": null,
   "metadata": {
    "execution": {
     "iopub.execute_input": "2021-06-20T21:14:42.947377Z",
     "iopub.status.busy": "2021-06-20T21:14:42.946474Z",
     "iopub.status.idle": "2021-06-20T21:14:42.982798Z",
     "shell.execute_reply": "2021-06-20T21:14:42.983245Z",
     "shell.execute_reply.started": "2021-06-20T20:11:27.875141Z"
    },
    "papermill": {
     "duration": 0.305051,
     "end_time": "2021-06-20T21:14:42.983369",
     "exception": false,
     "start_time": "2021-06-20T21:14:42.678318",
     "status": "completed"
    },
    "tags": []
   },
   "outputs": [],
   "source": [
    "X_train"
   ]
  },
  {
   "cell_type": "code",
   "execution_count": null,
   "metadata": {
    "_kg_hide-output": true,
    "execution": {
     "iopub.execute_input": "2021-06-20T21:14:43.581313Z",
     "iopub.status.busy": "2021-06-20T21:14:43.561784Z",
     "iopub.status.idle": "2021-06-20T21:16:36.487807Z",
     "shell.execute_reply": "2021-06-20T21:16:36.487299Z",
     "shell.execute_reply.started": "2021-06-20T20:11:28.105231Z"
    },
    "papermill": {
     "duration": 113.238141,
     "end_time": "2021-06-20T21:16:36.487917",
     "exception": false,
     "start_time": "2021-06-20T21:14:43.249776",
     "status": "completed"
    },
    "tags": []
   },
   "outputs": [],
   "source": [
    "model = CatBoostRegressor(iterations = 15000,\n",
    "                          #depth=10,\n",
    "                          #learning_rate = 0.5,\n",
    "                          random_seed = RANDOM_SEED,\n",
    "                          eval_metric='MAPE',\n",
    "                          custom_metric=['RMSE', 'MAE'],\n",
    "                          od_wait=500,\n",
    "                          #task_type='GPU',\n",
    "                         )\n",
    "model.fit(X_train, y_train,\n",
    "         cat_features = my_cat_features,\n",
    "         eval_set=(X_test, y_test),\n",
    "         verbose_eval=100,\n",
    "         use_best_model=True,\n",
    "         #plot=True\n",
    "         )"
   ]
  },
  {
   "cell_type": "code",
   "execution_count": null,
   "metadata": {
    "execution": {
     "iopub.execute_input": "2021-06-20T21:16:37.107962Z",
     "iopub.status.busy": "2021-06-20T21:16:37.100370Z",
     "iopub.status.idle": "2021-06-20T21:16:42.649939Z",
     "shell.execute_reply": "2021-06-20T21:16:42.650586Z",
     "shell.execute_reply.started": "2021-06-20T20:13:20.483570Z"
    },
    "papermill": {
     "duration": 5.863673,
     "end_time": "2021-06-20T21:16:42.650752",
     "exception": false,
     "start_time": "2021-06-20T21:16:36.787079",
     "status": "completed"
    },
    "tags": []
   },
   "outputs": [],
   "source": [
    "test_predict_catboost = np.exp(model.predict(X_test))\n",
    "print(f\"TEST mape: {(mape(np.exp(y_test), test_predict_catboost))*100:0.2f}%\")"
   ]
  },
  {
   "cell_type": "markdown",
   "metadata": {
    "papermill": {
     "duration": 0.3019,
     "end_time": "2021-06-20T21:16:43.250242",
     "exception": false,
     "start_time": "2021-06-20T21:16:42.948342",
     "status": "completed"
    },
    "tags": []
   },
   "source": [
    "### Submission"
   ]
  },
  {
   "cell_type": "code",
   "execution_count": null,
   "metadata": {
    "execution": {
     "iopub.execute_input": "2021-06-20T21:16:43.949867Z",
     "iopub.status.busy": "2021-06-20T21:16:43.926508Z",
     "iopub.status.idle": "2021-06-20T21:16:53.196446Z",
     "shell.execute_reply": "2021-06-20T21:16:53.195195Z",
     "shell.execute_reply.started": "2021-06-20T20:13:26.229519Z"
    },
    "papermill": {
     "duration": 9.617785,
     "end_time": "2021-06-20T21:16:53.196578",
     "exception": false,
     "start_time": "2021-06-20T21:16:43.578793",
     "status": "completed"
    },
    "tags": []
   },
   "outputs": [],
   "source": [
    "sub_predict_catboost = np.exp(model.predict(X_sub))\n",
    "sample_submission['price'] = sub_predict_catboost\n",
    "sample_submission.to_csv('catboost_submission.csv', index=False)"
   ]
  },
  {
   "cell_type": "code",
   "execution_count": null,
   "metadata": {
    "execution": {
     "iopub.execute_input": "2021-06-20T21:16:53.819624Z",
     "iopub.status.busy": "2021-06-20T21:16:53.819048Z",
     "iopub.status.idle": "2021-06-20T21:16:53.825237Z",
     "shell.execute_reply": "2021-06-20T21:16:53.824717Z",
     "shell.execute_reply.started": "2021-06-20T20:13:35.610782Z"
    },
    "papermill": {
     "duration": 0.321921,
     "end_time": "2021-06-20T21:16:53.825379",
     "exception": false,
     "start_time": "2021-06-20T21:16:53.503458",
     "status": "completed"
    },
    "tags": []
   },
   "outputs": [],
   "source": [
    "sample_submission.head()"
   ]
  },
  {
   "cell_type": "markdown",
   "metadata": {
    "papermill": {
     "duration": 0.337481,
     "end_time": "2021-06-20T21:16:54.468196",
     "exception": false,
     "start_time": "2021-06-20T21:16:54.130715",
     "status": "completed"
    },
    "tags": []
   },
   "source": [
    "# Model 3: Tabular NN"
   ]
  },
  {
   "cell_type": "markdown",
   "metadata": {
    "papermill": {
     "duration": 0.299104,
     "end_time": "2021-06-20T21:16:55.073437",
     "exception": false,
     "start_time": "2021-06-20T21:16:54.774333",
     "status": "completed"
    },
    "tags": []
   },
   "source": [
    "Построим обычную сеть:"
   ]
  },
  {
   "cell_type": "code",
   "execution_count": null,
   "metadata": {
    "execution": {
     "iopub.execute_input": "2021-06-20T21:16:55.713095Z",
     "iopub.status.busy": "2021-06-20T21:16:55.712163Z",
     "iopub.status.idle": "2021-06-20T21:16:55.714493Z",
     "shell.execute_reply": "2021-06-20T21:16:55.714945Z",
     "shell.execute_reply.started": "2021-06-20T20:13:35.625310Z"
    },
    "papermill": {
     "duration": 0.31946,
     "end_time": "2021-06-20T21:16:55.715062",
     "exception": false,
     "start_time": "2021-06-20T21:16:55.395602",
     "status": "completed"
    },
    "tags": []
   },
   "outputs": [],
   "source": [
    "def preproc_data(df_input):\n",
    "    \n",
    "    # копируем датасет\n",
    "    \n",
    "    df_output = df_input.copy()\n",
    "    \n",
    "    # заполним пропущенные значения модой\n",
    "    \n",
    "    df_output['Владельцы'] = df_output['Владельцы'].fillna(df_output['Владельцы'].mode()[0])\n",
    "    \n",
    "    # заполним пропущенные значения другой категорией в признаке \"Владение\"\n",
    "\n",
    "    df_output['Владение'] = df_output['Владение'].fillna('Не указано')\n",
    "    \n",
    "    # улучшаем читабельность признака Владения\n",
    "    \n",
    "    df_output['Владение'] = df_output['Владение'].apply(ownership_length)\n",
    "    \n",
    "    # Убираем все приставки \"LTR\" в признаке engineDisplacement, и преобразуем признак в форму вещественных чисел\n",
    "\n",
    "    df_output['engineDisplacement'] = df_output['engineDisplacement'].apply(lambda x: x.split(' ')[0])\n",
    "    \n",
    "    # Замена объема двигателя электрокаров на 0\n",
    "\n",
    "    df_output['engineDisplacement'] = df_output['engineDisplacement'].replace('undefined',0, regex=True)\n",
    "    df_output['engineDisplacement']=df_output['engineDisplacement'].astype('float')\n",
    "    \n",
    "    # Приставка N12 также везде, избавимся от нее и переведем в формат целых чисел\n",
    "\n",
    "    df_output['enginePower'] = df_output['enginePower'].apply(lambda x: x.split(' ')[0]).astype('int64')\n",
    "    \n",
    "    df_output['numberOfDoors'] = df_output['numberOfDoors'].apply(lambda x: str(int(x)))\n",
    "    \n",
    "    df_output['vehicle_age'] = 2021 - df_output['productionDate'] \n",
    "    \n",
    "    # создание признака 4WD\n",
    "    four_wd = []\n",
    "    for index, row in df_output['name'].items():\n",
    "        if '4WD' in row:\n",
    "            four_wd.append(index)\n",
    "    \n",
    "    df_output['4WD'] = 0\n",
    "    for n, i in enumerate(four_wd):\n",
    "        df_output.loc[i, '4WD'] = 1\n",
    "        \n",
    "    # создание признака xDrive\n",
    "    #xdrive = []\n",
    "   # for index, row in df_output['name'].items():\n",
    "       # if 'xDrive' in row:\n",
    "         #   xdrive.append(index)\n",
    "    \n",
    "    #df_output['xDrive'] = 0\n",
    "    #for n, i in enumerate(xdrive):\n",
    "       # df_output.loc[i, 'xDrive'] = 1\n",
    "    \n",
    "    # создание признака износа машин\n",
    "    # df_output['milesPerYear'] = df_output['mileage'] / (2021 - df_output['productionDate'])\n",
    "    \n",
    "        \n",
    "    # прологарифмируем целевую переменную\n",
    "    #df_output['price'] = np.log(df_output['price'] + 1)\n",
    "    \n",
    "    num_cols.append('vehicle_age')\n",
    "    cat_cols.append('4WD')\n",
    "    #cat_cols.append('xDrive')\n",
    "    \n",
    "    # категориальные признаки\n",
    "    for column in cat_cols:\n",
    "        df_output[column] = df_output[column].astype('category').cat.codes\n",
    "        \n",
    "    # удаление коррелирующих и не нужных для модели признаков\n",
    "    df_output.drop(['sell_id', 'description'], axis = 1, inplace=True)\n",
    "    \n",
    "    df_output = pd.get_dummies(df_output, columns=cat_cols, dummy_na=False, drop_first=True)\n",
    "    \n",
    "    \n",
    "    return df_output"
   ]
  },
  {
   "cell_type": "code",
   "execution_count": null,
   "metadata": {
    "execution": {
     "iopub.execute_input": "2021-06-20T21:16:56.317106Z",
     "iopub.status.busy": "2021-06-20T21:16:56.316303Z",
     "iopub.status.idle": "2021-06-20T21:16:57.449338Z",
     "shell.execute_reply": "2021-06-20T21:16:57.448847Z",
     "shell.execute_reply.started": "2021-06-20T20:13:35.647245Z"
    },
    "papermill": {
     "duration": 1.43695,
     "end_time": "2021-06-20T21:16:57.449455",
     "exception": false,
     "start_time": "2021-06-20T21:16:56.012505",
     "status": "completed"
    },
    "tags": []
   },
   "outputs": [],
   "source": [
    "df_preproc = preproc_data(data)"
   ]
  },
  {
   "cell_type": "code",
   "execution_count": null,
   "metadata": {
    "execution": {
     "iopub.execute_input": "2021-06-20T21:16:58.051881Z",
     "iopub.status.busy": "2021-06-20T21:16:58.051032Z",
     "iopub.status.idle": "2021-06-20T21:16:58.245972Z",
     "shell.execute_reply": "2021-06-20T21:16:58.245471Z",
     "shell.execute_reply.started": "2021-06-20T20:13:36.783105Z"
    },
    "papermill": {
     "duration": 0.500389,
     "end_time": "2021-06-20T21:16:58.246069",
     "exception": false,
     "start_time": "2021-06-20T21:16:57.745680",
     "status": "completed"
    },
    "tags": []
   },
   "outputs": [],
   "source": [
    "# Теперь выделим тестовую часть\n",
    "train_data = df_preproc.query('sample == 1').drop(['sample'], axis=1)\n",
    "test_data = df_preproc.query('sample == 0').drop(['sample'], axis=1)"
   ]
  },
  {
   "cell_type": "code",
   "execution_count": null,
   "metadata": {
    "execution": {
     "iopub.execute_input": "2021-06-20T21:16:58.851740Z",
     "iopub.status.busy": "2021-06-20T21:16:58.850862Z",
     "iopub.status.idle": "2021-06-20T21:16:58.895713Z",
     "shell.execute_reply": "2021-06-20T21:16:58.895245Z",
     "shell.execute_reply.started": "2021-06-20T20:13:36.984517Z"
    },
    "papermill": {
     "duration": 0.351729,
     "end_time": "2021-06-20T21:16:58.895805",
     "exception": false,
     "start_time": "2021-06-20T21:16:58.544076",
     "status": "completed"
    },
    "tags": []
   },
   "outputs": [],
   "source": [
    "scaler = MinMaxScaler()\n",
    "for column in num_cols:\n",
    "    train_data[column]=scaler.fit_transform(train_data[[column]])[:,0]\n",
    "    test_data[column]=scaler.transform(test_data[[column]])[:,0]"
   ]
  },
  {
   "cell_type": "code",
   "execution_count": null,
   "metadata": {
    "execution": {
     "iopub.execute_input": "2021-06-20T21:16:59.506775Z",
     "iopub.status.busy": "2021-06-20T21:16:59.505688Z",
     "iopub.status.idle": "2021-06-20T21:16:59.516424Z",
     "shell.execute_reply": "2021-06-20T21:16:59.515866Z",
     "shell.execute_reply.started": "2021-06-20T20:13:37.042348Z"
    },
    "papermill": {
     "duration": 0.320052,
     "end_time": "2021-06-20T21:16:59.516528",
     "exception": false,
     "start_time": "2021-06-20T21:16:59.196476",
     "status": "completed"
    },
    "tags": []
   },
   "outputs": [],
   "source": [
    "y = train_data.price.values     # наш таргет\n",
    "X = train_data.drop(['price'], axis=1)\n",
    "X_sub = test_data.drop(['price'], axis=1)"
   ]
  },
  {
   "cell_type": "code",
   "execution_count": null,
   "metadata": {
    "execution": {
     "iopub.execute_input": "2021-06-20T21:17:00.119367Z",
     "iopub.status.busy": "2021-06-20T21:17:00.118321Z",
     "iopub.status.idle": "2021-06-20T21:17:00.137565Z",
     "shell.execute_reply": "2021-06-20T21:17:00.139202Z",
     "shell.execute_reply.started": "2021-06-20T20:13:37.061862Z"
    },
    "papermill": {
     "duration": 0.327379,
     "end_time": "2021-06-20T21:17:00.139407",
     "exception": false,
     "start_time": "2021-06-20T21:16:59.812028",
     "status": "completed"
    },
    "tags": []
   },
   "outputs": [],
   "source": [
    "y.shape, X.shape, X_sub.shape"
   ]
  },
  {
   "cell_type": "code",
   "execution_count": null,
   "metadata": {
    "execution": {
     "iopub.execute_input": "2021-06-20T21:17:00.941541Z",
     "iopub.status.busy": "2021-06-20T21:17:00.940070Z",
     "iopub.status.idle": "2021-06-20T21:17:00.963451Z",
     "shell.execute_reply": "2021-06-20T21:17:00.963005Z",
     "shell.execute_reply.started": "2021-06-20T20:13:37.069752Z"
    },
    "papermill": {
     "duration": 0.327811,
     "end_time": "2021-06-20T21:17:00.963550",
     "exception": false,
     "start_time": "2021-06-20T21:17:00.635739",
     "status": "completed"
    },
    "tags": []
   },
   "outputs": [],
   "source": [
    "X_train, X_test, y_train, y_test = train_test_split(X, y, test_size=0.15, shuffle=True, random_state=RANDOM_SEED)"
   ]
  },
  {
   "cell_type": "markdown",
   "metadata": {
    "papermill": {
     "duration": 0.297607,
     "end_time": "2021-06-20T21:17:01.557774",
     "exception": false,
     "start_time": "2021-06-20T21:17:01.260167",
     "status": "completed"
    },
    "tags": []
   },
   "source": [
    "## Simple Dense NN"
   ]
  },
  {
   "cell_type": "code",
   "execution_count": null,
   "metadata": {
    "execution": {
     "iopub.execute_input": "2021-06-20T21:17:02.160516Z",
     "iopub.status.busy": "2021-06-20T21:17:02.159955Z",
     "iopub.status.idle": "2021-06-20T21:17:04.357311Z",
     "shell.execute_reply": "2021-06-20T21:17:04.356339Z",
     "shell.execute_reply.started": "2021-06-20T20:13:37.101281Z"
    },
    "papermill": {
     "duration": 2.502365,
     "end_time": "2021-06-20T21:17:04.357426",
     "exception": false,
     "start_time": "2021-06-20T21:17:01.855061",
     "status": "completed"
    },
    "tags": []
   },
   "outputs": [],
   "source": [
    "model = Sequential()\n",
    "model.add(L.Dense(512, input_dim=X_train.shape[1], activation=\"relu\"))\n",
    "model.add(L.Dropout(0.5))\n",
    "model.add(L.Dense(256, activation=\"relu\"))\n",
    "model.add(L.Dropout(0.5))\n",
    "model.add(L.Dense(1, activation=\"linear\"))"
   ]
  },
  {
   "cell_type": "code",
   "execution_count": null,
   "metadata": {
    "execution": {
     "iopub.execute_input": "2021-06-20T21:17:04.962397Z",
     "iopub.status.busy": "2021-06-20T21:17:04.959761Z",
     "iopub.status.idle": "2021-06-20T21:17:04.965286Z",
     "shell.execute_reply": "2021-06-20T21:17:04.964813Z",
     "shell.execute_reply.started": "2021-06-20T20:13:39.219609Z"
    },
    "papermill": {
     "duration": 0.310689,
     "end_time": "2021-06-20T21:17:04.965381",
     "exception": false,
     "start_time": "2021-06-20T21:17:04.654692",
     "status": "completed"
    },
    "tags": []
   },
   "outputs": [],
   "source": [
    "model.summary()"
   ]
  },
  {
   "cell_type": "code",
   "execution_count": null,
   "metadata": {
    "execution": {
     "iopub.execute_input": "2021-06-20T21:17:05.928203Z",
     "iopub.status.busy": "2021-06-20T21:17:05.927314Z",
     "iopub.status.idle": "2021-06-20T21:17:05.935160Z",
     "shell.execute_reply": "2021-06-20T21:17:05.934502Z",
     "shell.execute_reply.started": "2021-06-20T20:13:39.230949Z"
    },
    "papermill": {
     "duration": 0.519073,
     "end_time": "2021-06-20T21:17:05.935292",
     "exception": false,
     "start_time": "2021-06-20T21:17:05.416219",
     "status": "completed"
    },
    "tags": []
   },
   "outputs": [],
   "source": [
    "# Compile model\n",
    "optimizer = tf.keras.optimizers.Adam(0.04)\n",
    "model.compile(loss='MAPE',optimizer=optimizer, metrics=['MAPE'])"
   ]
  },
  {
   "cell_type": "code",
   "execution_count": null,
   "metadata": {
    "execution": {
     "iopub.execute_input": "2021-06-20T21:17:06.628415Z",
     "iopub.status.busy": "2021-06-20T21:17:06.627663Z",
     "iopub.status.idle": "2021-06-20T21:17:06.630720Z",
     "shell.execute_reply": "2021-06-20T21:17:06.630307Z",
     "shell.execute_reply.started": "2021-06-20T20:14:06.597164Z"
    },
    "papermill": {
     "duration": 0.305837,
     "end_time": "2021-06-20T21:17:06.630811",
     "exception": false,
     "start_time": "2021-06-20T21:17:06.324974",
     "status": "completed"
    },
    "tags": []
   },
   "outputs": [],
   "source": [
    "checkpoint = ModelCheckpoint('../working/best_model.hdf5' , monitor=['val_MAPE'], verbose=0  , mode='min')\n",
    "earlystop = EarlyStopping(monitor='val_MAPE', patience=50, restore_best_weights=True,)\n",
    "callbacks_list = [checkpoint, earlystop]"
   ]
  },
  {
   "cell_type": "markdown",
   "metadata": {
    "papermill": {
     "duration": 0.296961,
     "end_time": "2021-06-20T21:17:07.224278",
     "exception": false,
     "start_time": "2021-06-20T21:17:06.927317",
     "status": "completed"
    },
    "tags": []
   },
   "source": [
    "### Fit"
   ]
  },
  {
   "cell_type": "code",
   "execution_count": null,
   "metadata": {
    "execution": {
     "iopub.execute_input": "2021-06-20T21:17:07.828771Z",
     "iopub.status.busy": "2021-06-20T21:17:07.828218Z",
     "iopub.status.idle": "2021-06-20T21:17:48.029322Z",
     "shell.execute_reply": "2021-06-20T21:17:48.028461Z",
     "shell.execute_reply.started": "2021-06-20T20:14:07.338083Z"
    },
    "papermill": {
     "duration": 40.504177,
     "end_time": "2021-06-20T21:17:48.029436",
     "exception": false,
     "start_time": "2021-06-20T21:17:07.525259",
     "status": "completed"
    },
    "tags": []
   },
   "outputs": [],
   "source": [
    "history = model.fit(X_train, y_train,\n",
    "                    batch_size=512,\n",
    "                    epochs=1000, # фактически мы обучаем пока EarlyStopping не остановит обучение\n",
    "                    validation_data=(X_test, y_test),\n",
    "                    callbacks=callbacks_list,\n",
    "                    verbose=0,\n",
    "                   )"
   ]
  },
  {
   "cell_type": "code",
   "execution_count": null,
   "metadata": {
    "execution": {
     "iopub.execute_input": "2021-06-20T21:17:48.633794Z",
     "iopub.status.busy": "2021-06-20T21:17:48.632173Z",
     "iopub.status.idle": "2021-06-20T21:17:48.838904Z",
     "shell.execute_reply": "2021-06-20T21:17:48.839387Z",
     "shell.execute_reply.started": "2021-06-20T20:14:45.168804Z"
    },
    "papermill": {
     "duration": 0.512207,
     "end_time": "2021-06-20T21:17:48.839527",
     "exception": false,
     "start_time": "2021-06-20T21:17:48.327320",
     "status": "completed"
    },
    "tags": []
   },
   "outputs": [],
   "source": [
    "plt.title('Loss')\n",
    "plt.plot(history.history['MAPE'], label='train')\n",
    "plt.plot(history.history['val_MAPE'], label='test')\n",
    "plt.show();"
   ]
  },
  {
   "cell_type": "code",
   "execution_count": null,
   "metadata": {
    "execution": {
     "iopub.execute_input": "2021-06-20T21:17:49.479177Z",
     "iopub.status.busy": "2021-06-20T21:17:49.478133Z",
     "iopub.status.idle": "2021-06-20T21:17:49.516923Z",
     "shell.execute_reply": "2021-06-20T21:17:49.516389Z",
     "shell.execute_reply.started": "2021-06-20T20:14:45.573482Z"
    },
    "papermill": {
     "duration": 0.378655,
     "end_time": "2021-06-20T21:17:49.517034",
     "exception": false,
     "start_time": "2021-06-20T21:17:49.138379",
     "status": "completed"
    },
    "tags": []
   },
   "outputs": [],
   "source": [
    "model.load_weights('../working/best_model.hdf5')\n",
    "model.save('../working/nn_1.hdf5')"
   ]
  },
  {
   "cell_type": "code",
   "execution_count": null,
   "metadata": {
    "execution": {
     "iopub.execute_input": "2021-06-20T21:17:50.172974Z",
     "iopub.status.busy": "2021-06-20T21:17:50.172023Z",
     "iopub.status.idle": "2021-06-20T21:17:50.336546Z",
     "shell.execute_reply": "2021-06-20T21:17:50.337239Z",
     "shell.execute_reply.started": "2021-06-20T20:14:45.621451Z"
    },
    "papermill": {
     "duration": 0.491038,
     "end_time": "2021-06-20T21:17:50.337427",
     "exception": false,
     "start_time": "2021-06-20T21:17:49.846389",
     "status": "completed"
    },
    "tags": []
   },
   "outputs": [],
   "source": [
    "test_predict_nn1 = model.predict(X_test)\n",
    "print(f\"TEST mape: {(mape(y_test, test_predict_nn1[:,0]))*100:0.2f}%\")"
   ]
  },
  {
   "cell_type": "code",
   "execution_count": null,
   "metadata": {
    "execution": {
     "iopub.execute_input": "2021-06-20T21:17:51.137264Z",
     "iopub.status.busy": "2021-06-20T21:17:51.136442Z",
     "iopub.status.idle": "2021-06-20T21:17:51.263331Z",
     "shell.execute_reply": "2021-06-20T21:17:51.262187Z",
     "shell.execute_reply.started": "2021-06-20T20:14:45.787521Z"
    },
    "papermill": {
     "duration": 0.433774,
     "end_time": "2021-06-20T21:17:51.263470",
     "exception": false,
     "start_time": "2021-06-20T21:17:50.829696",
     "status": "completed"
    },
    "tags": []
   },
   "outputs": [],
   "source": [
    "sub_predict_nn1 = model.predict(X_sub)\n",
    "sample_submission['price'] = sub_predict_nn1[:,0]\n",
    "sample_submission.to_csv('nn1_submission.csv', index=False)"
   ]
  },
  {
   "cell_type": "code",
   "execution_count": null,
   "metadata": {
    "execution": {
     "iopub.execute_input": "2021-06-20T21:17:51.875178Z",
     "iopub.status.busy": "2021-06-20T21:17:51.874432Z",
     "iopub.status.idle": "2021-06-20T21:17:51.878032Z",
     "shell.execute_reply": "2021-06-20T21:17:51.878464Z",
     "shell.execute_reply.started": "2021-06-20T20:14:45.923957Z"
    },
    "papermill": {
     "duration": 0.313554,
     "end_time": "2021-06-20T21:17:51.878578",
     "exception": false,
     "start_time": "2021-06-20T21:17:51.565024",
     "status": "completed"
    },
    "tags": []
   },
   "outputs": [],
   "source": [
    "sample_submission.head()"
   ]
  },
  {
   "cell_type": "markdown",
   "metadata": {
    "papermill": {
     "duration": 0.299866,
     "end_time": "2021-06-20T21:17:52.479000",
     "exception": false,
     "start_time": "2021-06-20T21:17:52.179134",
     "status": "completed"
    },
    "tags": []
   },
   "source": [
    "Рекомендации для улучшения Model 3:    \n",
    "* В нейросеть желательно подавать данные с распределением, близким к нормальному, поэтому от некоторых числовых признаков имеет смысл взять логарифм перед нормализацией. Пример:\n",
    "`modelDateNorm = np.log(2020 - data['modelDate'])`\n",
    "Статья по теме: https://habr.com/ru/company/ods/blog/325422\n",
    "\n",
    "* Извлечение числовых значений из текста:\n",
    "Парсинг признаков 'engineDisplacement', 'enginePower', 'Владение' для извлечения числовых значений.\n",
    "\n",
    "* Cокращение размерности категориальных признаков\n",
    "Признак name 'name' содержит данные, которые уже есть в других столбцах ('enginePower', 'engineDisplacement', 'vehicleTransmission'), поэтому эти данные можно удалить. Затем следует еще сильнее сократить размерность, например, выделив наличие xDrive в качестве отдельного признака."
   ]
  },
  {
   "cell_type": "markdown",
   "metadata": {
    "papermill": {
     "duration": 0.298781,
     "end_time": "2021-06-20T21:17:53.107709",
     "exception": false,
     "start_time": "2021-06-20T21:17:52.808928",
     "status": "completed"
    },
    "tags": []
   },
   "source": [
    "# Model 4: NLP + Multiple Inputs"
   ]
  },
  {
   "cell_type": "code",
   "execution_count": null,
   "metadata": {
    "execution": {
     "iopub.execute_input": "2021-06-20T21:17:53.718796Z",
     "iopub.status.busy": "2021-06-20T21:17:53.714872Z",
     "iopub.status.idle": "2021-06-20T21:17:53.721795Z",
     "shell.execute_reply": "2021-06-20T21:17:53.722233Z",
     "shell.execute_reply.started": "2021-06-20T20:14:45.938903Z"
    },
    "papermill": {
     "duration": 0.312615,
     "end_time": "2021-06-20T21:17:53.722347",
     "exception": false,
     "start_time": "2021-06-20T21:17:53.409732",
     "status": "completed"
    },
    "tags": []
   },
   "outputs": [],
   "source": [
    "data.description"
   ]
  },
  {
   "cell_type": "code",
   "execution_count": null,
   "metadata": {
    "execution": {
     "iopub.execute_input": "2021-06-20T21:17:54.367503Z",
     "iopub.status.busy": "2021-06-20T21:17:54.365620Z",
     "iopub.status.idle": "2021-06-20T21:17:54.368108Z",
     "shell.execute_reply": "2021-06-20T21:17:54.368526Z",
     "shell.execute_reply.started": "2021-06-20T20:14:45.952070Z"
    },
    "papermill": {
     "duration": 0.348028,
     "end_time": "2021-06-20T21:17:54.368641",
     "exception": false,
     "start_time": "2021-06-20T21:17:54.020613",
     "status": "completed"
    },
    "tags": []
   },
   "outputs": [],
   "source": [
    "# понижаем регистр\n",
    "\n",
    "data['desc'] = data['description'].map(lambda x: x.lower())"
   ]
  },
  {
   "cell_type": "code",
   "execution_count": null,
   "metadata": {
    "execution": {
     "iopub.execute_input": "2021-06-20T21:17:54.972179Z",
     "iopub.status.busy": "2021-06-20T21:17:54.971300Z",
     "iopub.status.idle": "2021-06-20T21:17:54.973212Z",
     "shell.execute_reply": "2021-06-20T21:17:54.973625Z",
     "shell.execute_reply.started": "2021-06-20T20:14:45.999261Z"
    },
    "papermill": {
     "duration": 0.305818,
     "end_time": "2021-06-20T21:17:54.973736",
     "exception": false,
     "start_time": "2021-06-20T21:17:54.667918",
     "status": "completed"
    },
    "tags": []
   },
   "outputs": [],
   "source": [
    "#def preprocess_text(sen):\n",
    "#    sentence = sen\n",
    "\n",
    "    # Single character removal\n",
    "#    sentence = re.sub(r\"\\s+[a-zA-Z]\\s+\", ' ', sentence)\n",
    "\n",
    "    # Removing multiple spaces\n",
    "#    sentence = re.sub(r'\\s+', ' ',  sentence)\n",
    "\n",
    "#    return sentence\n",
    "#data['desc2'] = data['desc'].apply(preprocess_text)"
   ]
  },
  {
   "cell_type": "code",
   "execution_count": null,
   "metadata": {
    "execution": {
     "iopub.execute_input": "2021-06-20T21:17:55.861714Z",
     "iopub.status.busy": "2021-06-20T21:17:55.846021Z",
     "iopub.status.idle": "2021-06-20T21:17:55.986677Z",
     "shell.execute_reply": "2021-06-20T21:17:55.985637Z",
     "shell.execute_reply.started": "2021-06-20T20:14:46.005324Z"
    },
    "papermill": {
     "duration": 0.5689,
     "end_time": "2021-06-20T21:17:55.986796",
     "exception": false,
     "start_time": "2021-06-20T21:17:55.417896",
     "status": "completed"
    },
    "tags": []
   },
   "outputs": [],
   "source": [
    "# с помощью цикла создадим функцию удаления знаков препинания\n",
    "\n",
    "def remove_punctuation(text):\n",
    "    for char in punctuation:\n",
    "        text = text.replace(char, '')\n",
    "    return text\n",
    "\n",
    "# удаляем в текстах знаки препинания\n",
    "data['desc'] = data['desc'].apply(remove_punctuation)"
   ]
  },
  {
   "cell_type": "code",
   "execution_count": null,
   "metadata": {
    "execution": {
     "iopub.execute_input": "2021-06-20T21:17:56.593742Z",
     "iopub.status.busy": "2021-06-20T21:17:56.593192Z",
     "iopub.status.idle": "2021-06-20T21:17:56.598111Z",
     "shell.execute_reply": "2021-06-20T21:17:56.597657Z",
     "shell.execute_reply.started": "2021-06-20T20:14:46.169669Z"
    },
    "papermill": {
     "duration": 0.311093,
     "end_time": "2021-06-20T21:17:56.598210",
     "exception": false,
     "start_time": "2021-06-20T21:17:56.287117",
     "status": "completed"
    },
    "tags": []
   },
   "outputs": [],
   "source": [
    "russian_stopwords = stopwords.words(\"russian\")\n",
    "add_words = ['\\n','❤️', '•', '∙', '●', '☑️', '☛', '✅', '✔', '➥', 'ваш', 'вашего']\n",
    "russian_stopwords = russian_stopwords + add_words"
   ]
  },
  {
   "cell_type": "code",
   "execution_count": null,
   "metadata": {
    "execution": {
     "iopub.execute_input": "2021-06-20T21:17:57.242246Z",
     "iopub.status.busy": "2021-06-20T21:17:57.232010Z",
     "iopub.status.idle": "2021-06-20T21:17:58.821422Z",
     "shell.execute_reply": "2021-06-20T21:17:58.820903Z",
     "shell.execute_reply.started": "2021-06-20T20:14:46.180338Z"
    },
    "papermill": {
     "duration": 1.925066,
     "end_time": "2021-06-20T21:17:58.821522",
     "exception": false,
     "start_time": "2021-06-20T21:17:56.896456",
     "status": "completed"
    },
    "tags": []
   },
   "outputs": [],
   "source": [
    "# удаляем стоп-слова из текстов\n",
    "\n",
    "data['desc'] = data['desc'].apply(lambda x: \" \".join([word for word in x.split() if word not in russian_stopwords]))"
   ]
  },
  {
   "cell_type": "code",
   "execution_count": null,
   "metadata": {
    "execution": {
     "iopub.execute_input": "2021-06-20T21:17:59.428120Z",
     "iopub.status.busy": "2021-06-20T21:17:59.427440Z",
     "iopub.status.idle": "2021-06-20T21:20:41.458784Z",
     "shell.execute_reply": "2021-06-20T21:20:41.458274Z",
     "shell.execute_reply.started": "2021-06-20T20:14:47.964220Z"
    },
    "papermill": {
     "duration": 162.337916,
     "end_time": "2021-06-20T21:20:41.458901",
     "exception": false,
     "start_time": "2021-06-20T21:17:59.120985",
     "status": "completed"
    },
    "tags": []
   },
   "outputs": [],
   "source": [
    "morph = MorphAnalyzer()\n",
    "\n",
    "def lemmatize_text(str):\n",
    "  # лемматизации текста :\n",
    "    split_str = str.split()\n",
    "    filtered_str = ' '.join(\n",
    "        (map(lambda x: morph.parse(x)[0].normal_form, split_str)))\n",
    "    return filtered_str\n",
    "\n",
    "\n",
    "data['desc'] = data['desc'].apply(lemmatize_text)"
   ]
  },
  {
   "cell_type": "code",
   "execution_count": null,
   "metadata": {
    "execution": {
     "iopub.execute_input": "2021-06-20T21:20:42.064673Z",
     "iopub.status.busy": "2021-06-20T21:20:42.063901Z",
     "iopub.status.idle": "2021-06-20T21:20:42.067237Z",
     "shell.execute_reply": "2021-06-20T21:20:42.066773Z",
     "shell.execute_reply.started": "2021-06-20T20:17:29.053658Z"
    },
    "papermill": {
     "duration": 0.307824,
     "end_time": "2021-06-20T21:20:42.067328",
     "exception": false,
     "start_time": "2021-06-20T21:20:41.759504",
     "status": "completed"
    },
    "tags": []
   },
   "outputs": [],
   "source": [
    "# Сильно ухудшает результат такой вид аугментации\n",
    "\n",
    "#def rand_aug(row):\n",
    "#    aug = nac.RandomCharAug(action=\"insert\")\n",
    "#    augmented_text = aug.augment(row)\n",
    "#    return augmented_text\n",
    "\n",
    "#data['desc'] = data['desc'].apply(rand_aug)"
   ]
  },
  {
   "cell_type": "code",
   "execution_count": null,
   "metadata": {
    "execution": {
     "iopub.execute_input": "2021-06-20T21:20:42.704589Z",
     "iopub.status.busy": "2021-06-20T21:20:42.689110Z",
     "iopub.status.idle": "2021-06-20T21:21:01.194171Z",
     "shell.execute_reply": "2021-06-20T21:21:01.194590Z",
     "shell.execute_reply.started": "2021-06-20T20:17:29.059622Z"
    },
    "papermill": {
     "duration": 18.82712,
     "end_time": "2021-06-20T21:21:01.194716",
     "exception": false,
     "start_time": "2021-06-20T21:20:42.367596",
     "status": "completed"
    },
    "tags": []
   },
   "outputs": [],
   "source": [
    "corpus = get_corpus(data['desc'])\n",
    "procWordCloud = get_wordCloud(corpus)\n",
    "\n",
    "fig = plt.figure(figsize=(20, 8))\n",
    "plt.subplot(1, 2, 1)\n",
    "plt.imshow(procWordCloud, interpolation='bilinear')\n",
    "plt.axis('off')\n",
    "\n",
    "plt.subplot(1, 2, 1)"
   ]
  },
  {
   "cell_type": "code",
   "execution_count": null,
   "metadata": {
    "execution": {
     "iopub.execute_input": "2021-06-20T21:21:01.857605Z",
     "iopub.status.busy": "2021-06-20T21:21:01.856757Z",
     "iopub.status.idle": "2021-06-20T21:21:01.859241Z",
     "shell.execute_reply": "2021-06-20T21:21:01.859668Z",
     "shell.execute_reply.started": "2021-06-20T20:17:47.582265Z"
    },
    "papermill": {
     "duration": 0.350158,
     "end_time": "2021-06-20T21:21:01.859778",
     "exception": false,
     "start_time": "2021-06-20T21:21:01.509620",
     "status": "completed"
    },
    "tags": []
   },
   "outputs": [],
   "source": [
    "# словарь замен частых слов и выражений на коды\n",
    "dict_replace = {\n",
    " 'автомобиль': ['машина', 'тачилу', 'тачка'],\n",
    " 'код0': ['официальный дилер'],\n",
    " 'код1': ['подогрев задний сидение'],\n",
    " 'код3': ['отличный состояние', 'идеальный состояние'],\n",
    " 'код5': ['проверить автомобиль пробег','автомобиль пробег', 'автомобиль пробег гарантия'],\n",
    " 'код6': ['подушка безопасность'],\n",
    " 'код7': ['рулевой колесо'],\n",
    " 'код8': ['гарантия юридический чистота',\n",
    "  'юридический чистота',\n",
    "  'гарантия юридический'],\n",
    " 'код9': ['любой проверка'],\n",
    " 'код10': ['первоначальный взнос'],\n",
    " 'код11': ['камера задний вид'],\n",
    " 'код12': ['зимний резина'],\n",
    " 'код13': ['обивка салон'],\n",
    " 'код14': ['птс оригинал'],\n",
    " 'код15': ['trade in',\n",
    "  'трейд-ин'],\n",
    " 'код16': ['передний сидение', 'сидение водитель'],\n",
    " 'код17': ['покупка кредит'],\n",
    " 'код18': ['rolfprobeg мобильный приложение',\n",
    "  'приложение рольф',\n",
    "  'сайт rolfprobeg',\n",
    "  'rolfprobeg мобильный',\n",
    "  'мобильный приложение'],\n",
    " 'код19': ['гарантия год'],\n",
    " 'код20': ['датчик дождь'],\n",
    " 'код21': ['свет датчик', 'датчик свет'],\n",
    " 'код22': ['давление шина'],\n",
    " 'код23': ['комплект ключ'],\n",
    " 'код24': ['бортовый компьютер'],\n",
    " 'код25': ['предпродажный подготовка'],\n",
    " 'код26': ['усилитель руль'],\n",
    " 'код27': ['центральный замок']}"
   ]
  },
  {
   "cell_type": "code",
   "execution_count": null,
   "metadata": {
    "execution": {
     "iopub.execute_input": "2021-06-20T21:21:02.775938Z",
     "iopub.status.busy": "2021-06-20T21:21:02.775057Z",
     "iopub.status.idle": "2021-06-20T21:21:03.081298Z",
     "shell.execute_reply": "2021-06-20T21:21:03.080764Z",
     "shell.execute_reply.started": "2021-06-20T20:17:47.596205Z"
    },
    "papermill": {
     "duration": 0.777831,
     "end_time": "2021-06-20T21:21:03.081395",
     "exception": false,
     "start_time": "2021-06-20T21:21:02.303564",
     "status": "completed"
    },
    "tags": []
   },
   "outputs": [],
   "source": [
    "for elem in dict_replace:\n",
    "    for word in dict_replace[elem]:\n",
    "        data['desc'] = data['desc'].apply(lambda x: x.replace(word, elem))"
   ]
  },
  {
   "cell_type": "code",
   "execution_count": null,
   "metadata": {
    "execution": {
     "iopub.execute_input": "2021-06-20T21:21:03.711452Z",
     "iopub.status.busy": "2021-06-20T21:21:03.710680Z",
     "iopub.status.idle": "2021-06-20T21:21:03.714466Z",
     "shell.execute_reply": "2021-06-20T21:21:03.714005Z",
     "shell.execute_reply.started": "2021-06-20T20:17:47.945491Z"
    },
    "papermill": {
     "duration": 0.321965,
     "end_time": "2021-06-20T21:21:03.714562",
     "exception": false,
     "start_time": "2021-06-20T21:21:03.392597",
     "status": "completed"
    },
    "tags": []
   },
   "outputs": [],
   "source": [
    "data['desc']"
   ]
  },
  {
   "cell_type": "code",
   "execution_count": null,
   "metadata": {
    "execution": {
     "iopub.execute_input": "2021-06-20T21:21:04.406079Z",
     "iopub.status.busy": "2021-06-20T21:21:04.405258Z",
     "iopub.status.idle": "2021-06-20T21:21:04.408850Z",
     "shell.execute_reply": "2021-06-20T21:21:04.409275Z",
     "shell.execute_reply.started": "2021-06-20T20:17:47.955256Z"
    },
    "papermill": {
     "duration": 0.385488,
     "end_time": "2021-06-20T21:21:04.409404",
     "exception": false,
     "start_time": "2021-06-20T21:21:04.023916",
     "status": "completed"
    },
    "tags": []
   },
   "outputs": [],
   "source": [
    "# Количество уникальных слов в тексте\n",
    "num_words = len(set(corpus))\n",
    "num_words"
   ]
  },
  {
   "cell_type": "markdown",
   "metadata": {
    "papermill": {
     "duration": 0.320532,
     "end_time": "2021-06-20T21:21:05.040821",
     "exception": false,
     "start_time": "2021-06-20T21:21:04.720289",
     "status": "completed"
    },
    "tags": []
   },
   "source": [
    "### Tokenizer"
   ]
  },
  {
   "cell_type": "code",
   "execution_count": null,
   "metadata": {
    "execution": {
     "iopub.execute_input": "2021-06-20T21:21:05.686184Z",
     "iopub.status.busy": "2021-06-20T21:21:05.685417Z",
     "iopub.status.idle": "2021-06-20T21:21:05.688328Z",
     "shell.execute_reply": "2021-06-20T21:21:05.687901Z",
     "shell.execute_reply.started": "2021-06-20T20:17:48.027733Z"
    },
    "papermill": {
     "duration": 0.318278,
     "end_time": "2021-06-20T21:21:05.688433",
     "exception": false,
     "start_time": "2021-06-20T21:21:05.370155",
     "status": "completed"
    },
    "tags": []
   },
   "outputs": [],
   "source": [
    "# TOKENIZER\n",
    "# The maximum number of words to be used. (most frequent)\n",
    "MAX_WORDS = 100000\n",
    "# Max number of words in each complaint.\n",
    "MAX_SEQUENCE_LENGTH = 256"
   ]
  },
  {
   "cell_type": "code",
   "execution_count": null,
   "metadata": {
    "execution": {
     "iopub.execute_input": "2021-06-20T21:21:06.317566Z",
     "iopub.status.busy": "2021-06-20T21:21:06.316758Z",
     "iopub.status.idle": "2021-06-20T21:21:06.319669Z",
     "shell.execute_reply": "2021-06-20T21:21:06.319254Z",
     "shell.execute_reply.started": "2021-06-20T20:17:48.036818Z"
    },
    "papermill": {
     "duration": 0.321577,
     "end_time": "2021-06-20T21:21:06.319762",
     "exception": false,
     "start_time": "2021-06-20T21:21:05.998185",
     "status": "completed"
    },
    "tags": []
   },
   "outputs": [],
   "source": [
    "# split данных\n",
    "text_train = data.desc.iloc[X_train.index]\n",
    "text_test = data.desc.iloc[X_test.index]\n",
    "text_sub = data.desc.iloc[X_sub.index]"
   ]
  },
  {
   "cell_type": "code",
   "execution_count": null,
   "metadata": {
    "execution": {
     "iopub.execute_input": "2021-06-20T21:21:07.000727Z",
     "iopub.status.busy": "2021-06-20T21:21:06.990547Z",
     "iopub.status.idle": "2021-06-20T21:21:08.020881Z",
     "shell.execute_reply": "2021-06-20T21:21:08.021470Z",
     "shell.execute_reply.started": "2021-06-20T20:17:48.048679Z"
    },
    "papermill": {
     "duration": 1.391454,
     "end_time": "2021-06-20T21:21:08.021643",
     "exception": false,
     "start_time": "2021-06-20T21:21:06.630189",
     "status": "completed"
    },
    "tags": []
   },
   "outputs": [],
   "source": [
    "%%time\n",
    "tokenize = Tokenizer(num_words=MAX_WORDS)\n",
    "tokenize.fit_on_texts(data.desc)"
   ]
  },
  {
   "cell_type": "code",
   "execution_count": null,
   "metadata": {
    "_kg_hide-output": true,
    "execution": {
     "iopub.execute_input": "2021-06-20T21:21:08.679599Z",
     "iopub.status.busy": "2021-06-20T21:21:08.673335Z",
     "iopub.status.idle": "2021-06-20T21:21:08.684425Z",
     "shell.execute_reply": "2021-06-20T21:21:08.684835Z",
     "shell.execute_reply.started": "2021-06-20T20:17:49.094452Z"
    },
    "papermill": {
     "duration": 0.352436,
     "end_time": "2021-06-20T21:21:08.684952",
     "exception": false,
     "start_time": "2021-06-20T21:21:08.332516",
     "status": "completed"
    },
    "tags": []
   },
   "outputs": [],
   "source": [
    "tokenize.word_index"
   ]
  },
  {
   "cell_type": "code",
   "execution_count": null,
   "metadata": {
    "execution": {
     "iopub.execute_input": "2021-06-20T21:21:09.368721Z",
     "iopub.status.busy": "2021-06-20T21:21:09.348193Z",
     "iopub.status.idle": "2021-06-20T21:21:10.356407Z",
     "shell.execute_reply": "2021-06-20T21:21:10.357060Z",
     "shell.execute_reply.started": "2021-06-20T20:17:49.135745Z"
    },
    "papermill": {
     "duration": 1.36171,
     "end_time": "2021-06-20T21:21:10.357254",
     "exception": false,
     "start_time": "2021-06-20T21:21:08.995544",
     "status": "completed"
    },
    "tags": []
   },
   "outputs": [],
   "source": [
    "%%time\n",
    "text_train_sequences = sequence.pad_sequences(tokenize.texts_to_sequences(text_train), maxlen=MAX_SEQUENCE_LENGTH)\n",
    "text_test_sequences = sequence.pad_sequences(tokenize.texts_to_sequences(text_test), maxlen=MAX_SEQUENCE_LENGTH)\n",
    "text_sub_sequences = sequence.pad_sequences(tokenize.texts_to_sequences(text_sub), maxlen=MAX_SEQUENCE_LENGTH)\n",
    "\n",
    "print(text_train_sequences.shape, text_test_sequences.shape, text_sub_sequences.shape, )"
   ]
  },
  {
   "cell_type": "code",
   "execution_count": null,
   "metadata": {
    "execution": {
     "iopub.execute_input": "2021-06-20T21:21:10.992108Z",
     "iopub.status.busy": "2021-06-20T21:21:10.991426Z",
     "iopub.status.idle": "2021-06-20T21:21:10.995034Z",
     "shell.execute_reply": "2021-06-20T21:21:10.995509Z",
     "shell.execute_reply.started": "2021-06-20T20:17:50.175151Z"
    },
    "papermill": {
     "duration": 0.325247,
     "end_time": "2021-06-20T21:21:10.995645",
     "exception": false,
     "start_time": "2021-06-20T21:21:10.670398",
     "status": "completed"
    },
    "tags": []
   },
   "outputs": [],
   "source": [
    "# вот так теперь выглядит наш текст\n",
    "print(text_train.iloc[6])\n",
    "print(text_train_sequences[6])"
   ]
  },
  {
   "cell_type": "markdown",
   "metadata": {
    "papermill": {
     "duration": 0.312495,
     "end_time": "2021-06-20T21:21:11.621917",
     "exception": false,
     "start_time": "2021-06-20T21:21:11.309422",
     "status": "completed"
    },
    "tags": []
   },
   "source": [
    "### RNN NLP"
   ]
  },
  {
   "cell_type": "code",
   "execution_count": null,
   "metadata": {
    "execution": {
     "iopub.execute_input": "2021-06-20T21:21:12.264270Z",
     "iopub.status.busy": "2021-06-20T21:21:12.263154Z",
     "iopub.status.idle": "2021-06-20T21:21:12.994196Z",
     "shell.execute_reply": "2021-06-20T21:21:12.993644Z",
     "shell.execute_reply.started": "2021-06-20T20:17:50.185159Z"
    },
    "papermill": {
     "duration": 1.055003,
     "end_time": "2021-06-20T21:21:12.994302",
     "exception": false,
     "start_time": "2021-06-20T21:21:11.939299",
     "status": "completed"
    },
    "tags": []
   },
   "outputs": [],
   "source": [
    "model_nlp = Sequential()\n",
    "model_nlp.add(L.Input(shape=MAX_SEQUENCE_LENGTH, name=\"seq_description\"))\n",
    "model_nlp.add(L.Embedding(len(tokenize.word_index)+1, MAX_SEQUENCE_LENGTH,))\n",
    "model_nlp.add(L.LSTM(256, return_sequences=True))\n",
    "model_nlp.add(L.Dropout(0.5))\n",
    "model_nlp.add(L.LSTM(128,))\n",
    "model_nlp.add(L.Dropout(0.25))\n",
    "model_nlp.add(L.Dense(64, activation=\"relu\"))\n",
    "model_nlp.add(L.Dropout(0.25))"
   ]
  },
  {
   "cell_type": "markdown",
   "metadata": {
    "papermill": {
     "duration": 0.375259,
     "end_time": "2021-06-20T21:21:13.824790",
     "exception": false,
     "start_time": "2021-06-20T21:21:13.449531",
     "status": "completed"
    },
    "tags": []
   },
   "source": [
    "### MLP"
   ]
  },
  {
   "cell_type": "code",
   "execution_count": null,
   "metadata": {
    "execution": {
     "iopub.execute_input": "2021-06-20T21:21:14.491872Z",
     "iopub.status.busy": "2021-06-20T21:21:14.491006Z",
     "iopub.status.idle": "2021-06-20T21:21:14.525851Z",
     "shell.execute_reply": "2021-06-20T21:21:14.525422Z",
     "shell.execute_reply.started": "2021-06-20T20:17:50.724959Z"
    },
    "papermill": {
     "duration": 0.388266,
     "end_time": "2021-06-20T21:21:14.525947",
     "exception": false,
     "start_time": "2021-06-20T21:21:14.137681",
     "status": "completed"
    },
    "tags": []
   },
   "outputs": [],
   "source": [
    "model_mlp = Sequential()\n",
    "model_mlp.add(L.Dense(512, input_dim=X_train.shape[1], activation=\"relu\"))\n",
    "model_mlp.add(L.Dropout(0.5))\n",
    "model_mlp.add(L.Dense(256, activation=\"relu\"))\n",
    "model_mlp.add(L.Dropout(0.5))"
   ]
  },
  {
   "cell_type": "markdown",
   "metadata": {
    "papermill": {
     "duration": 0.319887,
     "end_time": "2021-06-20T21:21:15.157505",
     "exception": false,
     "start_time": "2021-06-20T21:21:14.837618",
     "status": "completed"
    },
    "tags": []
   },
   "source": [
    "### Multiple Inputs NN"
   ]
  },
  {
   "cell_type": "code",
   "execution_count": null,
   "metadata": {
    "execution": {
     "iopub.execute_input": "2021-06-20T21:21:15.792239Z",
     "iopub.status.busy": "2021-06-20T21:21:15.791366Z",
     "iopub.status.idle": "2021-06-20T21:21:15.814921Z",
     "shell.execute_reply": "2021-06-20T21:21:15.814452Z",
     "shell.execute_reply.started": "2021-06-20T20:17:50.766471Z"
    },
    "papermill": {
     "duration": 0.346159,
     "end_time": "2021-06-20T21:21:15.815017",
     "exception": false,
     "start_time": "2021-06-20T21:21:15.468858",
     "status": "completed"
    },
    "tags": []
   },
   "outputs": [],
   "source": [
    "combinedInput = L.concatenate([model_nlp.output, model_mlp.output])\n",
    "# being our regression head\n",
    "head = L.Dense(64, activation=\"relu\")(combinedInput)\n",
    "head = L.Dense(1, activation=\"linear\")(head)\n",
    "\n",
    "model = Model(inputs=[model_nlp.input, model_mlp.input], outputs=head)"
   ]
  },
  {
   "cell_type": "code",
   "execution_count": null,
   "metadata": {
    "_kg_hide-output": true,
    "execution": {
     "iopub.execute_input": "2021-06-20T21:21:16.452310Z",
     "iopub.status.busy": "2021-06-20T21:21:16.451432Z",
     "iopub.status.idle": "2021-06-20T21:21:16.460180Z",
     "shell.execute_reply": "2021-06-20T21:21:16.459702Z",
     "shell.execute_reply.started": "2021-06-20T20:17:50.797630Z"
    },
    "papermill": {
     "duration": 0.33094,
     "end_time": "2021-06-20T21:21:16.460295",
     "exception": false,
     "start_time": "2021-06-20T21:21:16.129355",
     "status": "completed"
    },
    "tags": []
   },
   "outputs": [],
   "source": [
    "model.summary()"
   ]
  },
  {
   "cell_type": "markdown",
   "metadata": {
    "papermill": {
     "duration": 0.314093,
     "end_time": "2021-06-20T21:21:17.089656",
     "exception": false,
     "start_time": "2021-06-20T21:21:16.775563",
     "status": "completed"
    },
    "tags": []
   },
   "source": [
    "### Fit"
   ]
  },
  {
   "cell_type": "code",
   "execution_count": null,
   "metadata": {
    "execution": {
     "iopub.execute_input": "2021-06-20T21:21:17.743385Z",
     "iopub.status.busy": "2021-06-20T21:21:17.741601Z",
     "iopub.status.idle": "2021-06-20T21:21:17.747652Z",
     "shell.execute_reply": "2021-06-20T21:21:17.748042Z",
     "shell.execute_reply.started": "2021-06-20T20:17:50.813109Z"
    },
    "papermill": {
     "duration": 0.332591,
     "end_time": "2021-06-20T21:21:17.748219",
     "exception": false,
     "start_time": "2021-06-20T21:21:17.415628",
     "status": "completed"
    },
    "tags": []
   },
   "outputs": [],
   "source": [
    "optimizer = tf.keras.optimizers.Adam(0.004)\n",
    "model.compile(loss='MAPE',optimizer=optimizer, metrics=['MAPE'])"
   ]
  },
  {
   "cell_type": "code",
   "execution_count": null,
   "metadata": {
    "execution": {
     "iopub.execute_input": "2021-06-20T21:21:18.381363Z",
     "iopub.status.busy": "2021-06-20T21:21:18.380681Z",
     "iopub.status.idle": "2021-06-20T21:21:18.386153Z",
     "shell.execute_reply": "2021-06-20T21:21:18.384818Z",
     "shell.execute_reply.started": "2021-06-20T20:17:50.831406Z"
    },
    "papermill": {
     "duration": 0.324935,
     "end_time": "2021-06-20T21:21:18.386319",
     "exception": false,
     "start_time": "2021-06-20T21:21:18.061384",
     "status": "completed"
    },
    "tags": []
   },
   "outputs": [],
   "source": [
    "checkpoint = ModelCheckpoint('../working/best_model.hdf5', monitor=['val_MAPE'], verbose=0, mode='min')\n",
    "earlystop = EarlyStopping(monitor='val_MAPE', patience=10, restore_best_weights=True,)\n",
    "callbacks_list = [checkpoint, earlystop]"
   ]
  },
  {
   "cell_type": "code",
   "execution_count": null,
   "metadata": {
    "_kg_hide-output": true,
    "execution": {
     "iopub.execute_input": "2021-06-20T21:21:19.020056Z",
     "iopub.status.busy": "2021-06-20T21:21:19.019236Z",
     "iopub.status.idle": "2021-06-20T21:33:43.559645Z",
     "shell.execute_reply": "2021-06-20T21:33:43.561178Z",
     "shell.execute_reply.started": "2021-06-20T20:17:50.846141Z"
    },
    "papermill": {
     "duration": 744.861544,
     "end_time": "2021-06-20T21:33:43.561417",
     "exception": false,
     "start_time": "2021-06-20T21:21:18.699873",
     "status": "completed"
    },
    "tags": []
   },
   "outputs": [],
   "source": [
    "history = model.fit([text_train_sequences, X_train], y_train,\n",
    "                    batch_size=512,\n",
    "                    epochs=700, # фактически мы обучаем пока EarlyStopping не остановит обучение\n",
    "                    validation_data=([text_test_sequences, X_test], y_test),\n",
    "                    callbacks=callbacks_list,\n",
    "                   )"
   ]
  },
  {
   "cell_type": "code",
   "execution_count": null,
   "metadata": {
    "execution": {
     "iopub.execute_input": "2021-06-20T21:33:46.239989Z",
     "iopub.status.busy": "2021-06-20T21:33:46.239140Z",
     "iopub.status.idle": "2021-06-20T21:33:46.473148Z",
     "shell.execute_reply": "2021-06-20T21:33:46.473568Z",
     "shell.execute_reply.started": "2021-06-20T20:28:44.241287Z"
    },
    "papermill": {
     "duration": 1.788547,
     "end_time": "2021-06-20T21:33:46.473689",
     "exception": false,
     "start_time": "2021-06-20T21:33:44.685142",
     "status": "completed"
    },
    "tags": []
   },
   "outputs": [],
   "source": [
    "plt.title('Loss')\n",
    "plt.plot(history.history['MAPE'], label='train')\n",
    "plt.plot(history.history['val_MAPE'], label='test')\n",
    "plt.show();"
   ]
  },
  {
   "cell_type": "code",
   "execution_count": null,
   "metadata": {
    "execution": {
     "iopub.execute_input": "2021-06-20T21:33:48.723857Z",
     "iopub.status.busy": "2021-06-20T21:33:48.722778Z",
     "iopub.status.idle": "2021-06-20T21:33:48.985073Z",
     "shell.execute_reply": "2021-06-20T21:33:48.984599Z",
     "shell.execute_reply.started": "2021-06-20T20:28:44.496935Z"
    },
    "papermill": {
     "duration": 1.423884,
     "end_time": "2021-06-20T21:33:48.985213",
     "exception": false,
     "start_time": "2021-06-20T21:33:47.561329",
     "status": "completed"
    },
    "tags": []
   },
   "outputs": [],
   "source": [
    "model.load_weights('../working/best_model.hdf5')\n",
    "model.save('../working/nn_mlp_nlp.hdf5')"
   ]
  },
  {
   "cell_type": "code",
   "execution_count": null,
   "metadata": {
    "execution": {
     "iopub.execute_input": "2021-06-20T21:33:51.172058Z",
     "iopub.status.busy": "2021-06-20T21:33:51.171208Z",
     "iopub.status.idle": "2021-06-20T21:33:52.258188Z",
     "shell.execute_reply": "2021-06-20T21:33:52.257610Z",
     "shell.execute_reply.started": "2021-06-20T20:28:44.774226Z"
    },
    "papermill": {
     "duration": 2.179516,
     "end_time": "2021-06-20T21:33:52.258345",
     "exception": false,
     "start_time": "2021-06-20T21:33:50.078829",
     "status": "completed"
    },
    "tags": []
   },
   "outputs": [],
   "source": [
    "test_predict_nn2 = model.predict([text_test_sequences, X_test])\n",
    "print(f\"TEST mape: {(mape(y_test, test_predict_nn2[:,0]))*100:0.2f}%\")"
   ]
  },
  {
   "cell_type": "code",
   "execution_count": null,
   "metadata": {
    "execution": {
     "iopub.execute_input": "2021-06-20T21:33:54.644949Z",
     "iopub.status.busy": "2021-06-20T21:33:54.644108Z",
     "iopub.status.idle": "2021-06-20T21:33:55.432684Z",
     "shell.execute_reply": "2021-06-20T21:33:55.432004Z",
     "shell.execute_reply.started": "2021-06-20T20:28:45.799608Z"
    },
    "papermill": {
     "duration": 1.932014,
     "end_time": "2021-06-20T21:33:55.432808",
     "exception": false,
     "start_time": "2021-06-20T21:33:53.500794",
     "status": "completed"
    },
    "tags": []
   },
   "outputs": [],
   "source": [
    "sub_predict_nn2 = model.predict([text_sub_sequences, X_sub])\n",
    "sample_submission['price'] = sub_predict_nn2[:,0]\n",
    "sample_submission.to_csv('nn2_submission.csv', index=False)"
   ]
  },
  {
   "cell_type": "code",
   "execution_count": null,
   "metadata": {
    "execution": {
     "iopub.execute_input": "2021-06-20T21:33:57.600961Z",
     "iopub.status.busy": "2021-06-20T21:33:57.600240Z",
     "iopub.status.idle": "2021-06-20T21:33:57.605251Z",
     "shell.execute_reply": "2021-06-20T21:33:57.604708Z",
     "shell.execute_reply.started": "2021-06-20T20:28:46.606409Z"
    },
    "papermill": {
     "duration": 1.089288,
     "end_time": "2021-06-20T21:33:57.605349",
     "exception": false,
     "start_time": "2021-06-20T21:33:56.516061",
     "status": "completed"
    },
    "tags": []
   },
   "outputs": [],
   "source": [
    "sample_submission.head()"
   ]
  },
  {
   "cell_type": "markdown",
   "metadata": {
    "papermill": {
     "duration": 1.072102,
     "end_time": "2021-06-20T21:33:59.746330",
     "exception": false,
     "start_time": "2021-06-20T21:33:58.674228",
     "status": "completed"
    },
    "tags": []
   },
   "source": [
    "Идеи для улучшения NLP части:\n",
    "* Выделить из описаний часто встречающиеся блоки текста, заменив их на кодовые слова или удалив\n",
    "* Сделать предобработку текста, например, сделать лемматизацию - алгоритм ставящий все слова в форму по умолчанию (глаголы в инфинитив и т. д.), чтобы токенайзер не преобразовывал разные формы слова в разные числа\n",
    "Статья по теме: https://habr.com/ru/company/Voximplant/blog/446738/\n",
    "* Поработать над алгоритмами очистки и аугментации текста"
   ]
  },
  {
   "cell_type": "markdown",
   "metadata": {
    "papermill": {
     "duration": 1.106885,
     "end_time": "2021-06-20T21:34:01.926181",
     "exception": false,
     "start_time": "2021-06-20T21:34:00.819296",
     "status": "completed"
    },
    "tags": []
   },
   "source": [
    "# Model 5: Добавляем картинки"
   ]
  },
  {
   "cell_type": "markdown",
   "metadata": {
    "papermill": {
     "duration": 1.297167,
     "end_time": "2021-06-20T21:34:04.297340",
     "exception": false,
     "start_time": "2021-06-20T21:34:03.000173",
     "status": "completed"
    },
    "tags": []
   },
   "source": [
    "### Data"
   ]
  },
  {
   "cell_type": "code",
   "execution_count": null,
   "metadata": {
    "execution": {
     "iopub.execute_input": "2021-06-20T21:34:06.470943Z",
     "iopub.status.busy": "2021-06-20T21:34:06.470383Z",
     "iopub.status.idle": "2021-06-20T21:34:07.771715Z",
     "shell.execute_reply": "2021-06-20T21:34:07.772148Z",
     "shell.execute_reply.started": "2021-06-20T20:28:46.621002Z"
    },
    "papermill": {
     "duration": 2.389496,
     "end_time": "2021-06-20T21:34:07.772272",
     "exception": false,
     "start_time": "2021-06-20T21:34:05.382776",
     "status": "completed"
    },
    "tags": []
   },
   "outputs": [],
   "source": [
    "# убедимся, что цены и фото подгрузились верно\n",
    "plt.figure(figsize = (12,8))\n",
    "\n",
    "random_image = train.sample(n = 9)\n",
    "random_image_paths = random_image['sell_id'].values\n",
    "random_image_cat = random_image['price'].values\n",
    "\n",
    "for index, path in enumerate(random_image_paths):\n",
    "    im = PIL.Image.open(DATA_DIR+'img/img/' + str(path) + '.jpg')\n",
    "    plt.subplot(3, 3, index + 1)\n",
    "    plt.imshow(im)\n",
    "    plt.title('price: ' + str(random_image_cat[index]))\n",
    "    plt.axis('off')\n",
    "plt.show()"
   ]
  },
  {
   "cell_type": "code",
   "execution_count": null,
   "metadata": {
    "execution": {
     "iopub.execute_input": "2021-06-20T21:34:09.959902Z",
     "iopub.status.busy": "2021-06-20T21:34:09.954689Z",
     "iopub.status.idle": "2021-06-20T21:35:28.150016Z",
     "shell.execute_reply": "2021-06-20T21:35:28.150741Z",
     "shell.execute_reply.started": "2021-06-20T20:28:48.247470Z"
    },
    "papermill": {
     "duration": 79.291799,
     "end_time": "2021-06-20T21:35:28.150878",
     "exception": false,
     "start_time": "2021-06-20T21:34:08.859079",
     "status": "completed"
    },
    "tags": []
   },
   "outputs": [],
   "source": [
    "size = (320, 240)\n",
    "\n",
    "def get_image_array(index):\n",
    "    images_train = []\n",
    "    for index, sell_id in enumerate(data['sell_id'].iloc[index].values):\n",
    "        image = cv2.imread(DATA_DIR + 'img/img/' + str(sell_id) + '.jpg')\n",
    "        assert(image is not None)\n",
    "        image = cv2.resize(image, size)\n",
    "        images_train.append(image)\n",
    "    images_train = np.array(images_train)\n",
    "    print('images shape', images_train.shape, 'dtype', images_train.dtype)\n",
    "    return(images_train)\n",
    "\n",
    "images_train = get_image_array(X_train.index)\n",
    "images_test = get_image_array(X_test.index)\n",
    "images_sub = get_image_array(X_sub.index)"
   ]
  },
  {
   "cell_type": "markdown",
   "metadata": {
    "papermill": {
     "duration": 1.089464,
     "end_time": "2021-06-20T21:35:30.371130",
     "exception": false,
     "start_time": "2021-06-20T21:35:29.281666",
     "status": "completed"
    },
    "tags": []
   },
   "source": [
    "### albumentations"
   ]
  },
  {
   "cell_type": "code",
   "execution_count": null,
   "metadata": {
    "execution": {
     "iopub.execute_input": "2021-06-20T21:35:32.781035Z",
     "iopub.status.busy": "2021-06-20T21:35:32.780482Z",
     "iopub.status.idle": "2021-06-20T21:35:34.057538Z",
     "shell.execute_reply": "2021-06-20T21:35:34.057963Z",
     "shell.execute_reply.started": "2021-06-20T20:30:25.927035Z"
    },
    "papermill": {
     "duration": 2.379591,
     "end_time": "2021-06-20T21:35:34.058100",
     "exception": false,
     "start_time": "2021-06-20T21:35:31.678509",
     "status": "completed"
    },
    "tags": []
   },
   "outputs": [],
   "source": [
    "from albumentations import (\n",
    "    HorizontalFlip, IAAPerspective, ShiftScaleRotate, CLAHE, RandomRotate90,\n",
    "    Transpose, ShiftScaleRotate, Blur, OpticalDistortion, GridDistortion, HueSaturationValue,\n",
    "    IAAAdditiveGaussianNoise, GaussNoise, MotionBlur, MedianBlur, IAAPiecewiseAffine,\n",
    "    IAASharpen, IAAEmboss, RandomBrightnessContrast, Flip, OneOf, Compose\n",
    ")\n",
    "\n",
    "#пример взят из официальной документации: https://albumentations.readthedocs.io/en/latest/examples.html\n",
    "augmentation = Compose([\n",
    "    HorizontalFlip(),\n",
    "    OneOf([\n",
    "        IAAAdditiveGaussianNoise(),\n",
    "        GaussNoise(),\n",
    "    ], p=0.2),\n",
    "    OneOf([\n",
    "        MotionBlur(p=0.2),\n",
    "        MedianBlur(blur_limit=3, p=0.1),\n",
    "        Blur(blur_limit=3, p=0.1),\n",
    "    ], p=0.2),\n",
    "    ShiftScaleRotate(shift_limit=0.0625, scale_limit=0.2, rotate_limit=15, p=1),\n",
    "    OneOf([\n",
    "        OpticalDistortion(p=0.3),\n",
    "        GridDistortion(p=0.1),\n",
    "        IAAPiecewiseAffine(p=0.3),\n",
    "    ], p=0.2),\n",
    "    OneOf([\n",
    "        CLAHE(clip_limit=2),\n",
    "        IAASharpen(),\n",
    "        IAAEmboss(),\n",
    "        RandomBrightnessContrast(),\n",
    "    ], p=0.3),\n",
    "    HueSaturationValue(p=0.3),\n",
    "], p=1)\n",
    "\n",
    "#пример\n",
    "plt.figure(figsize = (12,8))\n",
    "for i in range(9):\n",
    "    img = augmentation(image = images_train[0])['image']\n",
    "    plt.subplot(3, 3, i + 1)\n",
    "    plt.imshow(img)\n",
    "    plt.axis('off')\n",
    "plt.show()"
   ]
  },
  {
   "cell_type": "code",
   "execution_count": null,
   "metadata": {
    "execution": {
     "iopub.execute_input": "2021-06-20T21:35:36.301212Z",
     "iopub.status.busy": "2021-06-20T21:35:36.299455Z",
     "iopub.status.idle": "2021-06-20T21:35:36.301790Z",
     "shell.execute_reply": "2021-06-20T21:35:36.302203Z",
     "shell.execute_reply.started": "2021-06-20T20:30:27.483117Z"
    },
    "papermill": {
     "duration": 1.107613,
     "end_time": "2021-06-20T21:35:36.302319",
     "exception": false,
     "start_time": "2021-06-20T21:35:35.194706",
     "status": "completed"
    },
    "tags": []
   },
   "outputs": [],
   "source": [
    "def make_augmentations(images):\n",
    "    print('применение аугментаций', end = '')\n",
    "    augmented_images = np.empty(images.shape)\n",
    "    for i in range(images.shape[0]):\n",
    "        if i % 200 == 0:\n",
    "            print('.', end = '')\n",
    "    augment_dict = augmentation(image = images[i])\n",
    "    augmented_image = augment_dict['image']\n",
    "    augmented_images[i] = augmented_image\n",
    "    print('')\n",
    "    return augmented_images"
   ]
  },
  {
   "cell_type": "markdown",
   "metadata": {
    "papermill": {
     "duration": 1.097375,
     "end_time": "2021-06-20T21:35:38.528190",
     "exception": false,
     "start_time": "2021-06-20T21:35:37.430815",
     "status": "completed"
    },
    "tags": []
   },
   "source": [
    "## tf.data.Dataset\n",
    "Если все изображения мы будем хранить в памяти, то может возникнуть проблема ее нехватки. Не храните все изображения в памяти целиком!\n",
    "\n",
    "Метод .fit() модели keras может принимать либо данные в виде массивов или тензоров, либо разного рода итераторы, из которых наиболее современным и гибким является [tf.data.Dataset](https://www.tensorflow.org/guide/data). Он представляет собой конвейер, то есть мы указываем, откуда берем данные и какую цепочку преобразований с ними выполняем. Далее мы будем работать с tf.data.Dataset.\n",
    "\n",
    "Dataset хранит информацию о конечном или бесконечном наборе кортежей (tuple) с данными и может возвращать эти наборы по очереди. Например, данными могут быть пары (input, target) для обучения нейросети. С данными можно осуществлять преобразования, которые осуществляются по мере необходимости ([lazy evaluation](https://ru.wikipedia.org/wiki/%D0%9B%D0%B5%D0%BD%D0%B8%D0%B2%D1%8B%D0%B5_%D0%B2%D1%8B%D1%87%D0%B8%D1%81%D0%BB%D0%B5%D0%BD%D0%B8%D1%8F)).\n",
    "\n",
    "`tf.data.Dataset.from_tensor_slices(data)` - создает датасет из данных, которые представляют собой либо массив, либо кортеж из массивов. Деление осуществляется по первому индексу каждого массива. Например, если `data = (np.zeros((128, 256, 256)), np.zeros(128))`, то датасет будет содержать 128 элементов, каждый из которых содержит один массив 256x256 и одно число.\n",
    "\n",
    "`dataset2 = dataset1.map(func)` - применение функции к датасету; функция должна принимать столько аргументов, каков размер кортежа в датасете 1 и возвращать столько, сколько нужно иметь в датасете 2. Пусть, например, датасет содержит изображения и метки, а нам нужно создать датасет только из изображений, тогда мы напишем так: `dataset2 = dataset.map(lambda img, label: img)`.\n",
    "\n",
    "`dataset2 = dataset1.batch(8)` - группировка по батчам; если датасет 2 должен вернуть один элемент, то он берет из датасета 1 восемь элементов, склеивает их (нулевой индекс результата - номер элемента) и возвращает.\n",
    "\n",
    "`dataset.__iter__()` - превращение датасета в итератор, из которого можно получать элементы методом `.__next__()`. Итератор, в отличие от самого датасета, хранит позицию текущего элемента. Можно также перебирать датасет циклом for.\n",
    "\n",
    "`dataset2 = dataset1.repeat(X)` - датасет 2 будет повторять датасет 1 X раз.\n",
    "\n",
    "Если нам нужно взять из датасета 1000 элементов и использовать их как тестовые, а остальные как обучающие, то мы напишем так:\n",
    "\n",
    "`test_dataset = dataset.take(1000)\n",
    "train_dataset = dataset.skip(1000)`\n",
    "\n",
    "Датасет по сути неизменен: такие операции, как map, batch, repeat, take, skip никак не затрагивают оригинальный датасет. Если датасет хранит элементы [1, 2, 3], то выполнив 3 раза подряд функцию dataset.take(1) мы получим 3 новых датасета, каждый из которых вернет число 1. Если же мы выполним функцию dataset.skip(1), мы получим датасет, возвращающий числа [2, 3], но исходный датасет все равно будет возвращать [1, 2, 3] каждый раз, когда мы его перебираем.\n",
    "\n",
    "tf.Dataset всегда выполняется в graph-режиме (в противоположность eager-режиму), поэтому либо преобразования (`.map()`) должны содержать только tensorflow-функции, либо мы должны использовать tf.py_function в качестве обертки для функций, вызываемых в `.map()`. Подробнее можно прочитать [здесь](https://www.tensorflow.org/guide/data#applying_arbitrary_python_logic)."
   ]
  },
  {
   "cell_type": "code",
   "execution_count": null,
   "metadata": {
    "execution": {
     "iopub.execute_input": "2021-06-20T21:35:40.758571Z",
     "iopub.status.busy": "2021-06-20T21:35:40.753525Z",
     "iopub.status.idle": "2021-06-20T21:35:42.044003Z",
     "shell.execute_reply": "2021-06-20T21:35:42.042908Z",
     "shell.execute_reply.started": "2021-06-20T20:30:27.492576Z"
    },
    "papermill": {
     "duration": 2.423489,
     "end_time": "2021-06-20T21:35:42.044151",
     "exception": false,
     "start_time": "2021-06-20T21:35:39.620662",
     "status": "completed"
    },
    "tags": []
   },
   "outputs": [],
   "source": [
    "# NLP part\n",
    "tokenize = Tokenizer(num_words=MAX_WORDS)\n",
    "tokenize.fit_on_texts(data.description)"
   ]
  },
  {
   "cell_type": "code",
   "execution_count": null,
   "metadata": {
    "execution": {
     "iopub.execute_input": "2021-06-20T21:35:44.449255Z",
     "iopub.status.busy": "2021-06-20T21:35:44.448471Z",
     "iopub.status.idle": "2021-06-20T21:35:47.879148Z",
     "shell.execute_reply": "2021-06-20T21:35:47.880274Z",
     "shell.execute_reply.started": "2021-06-20T20:30:28.870268Z"
    },
    "papermill": {
     "duration": 4.539228,
     "end_time": "2021-06-20T21:35:47.880468",
     "exception": false,
     "start_time": "2021-06-20T21:35:43.341240",
     "status": "completed"
    },
    "tags": []
   },
   "outputs": [],
   "source": [
    "def process_image(image):\n",
    "    return augmentation(image = image.numpy())['image']\n",
    "\n",
    "def tokenize_(descriptions):\n",
    "    return sequence.pad_sequences(tokenize.texts_to_sequences(descriptions), maxlen = MAX_SEQUENCE_LENGTH)\n",
    "\n",
    "def tokenize_text(text):\n",
    "    return tokenize_([text.numpy().decode('utf-8')])[0]\n",
    "\n",
    "def tf_process_train_dataset_element(image, table_data, text, price):\n",
    "    im_shape = image.shape\n",
    "    [image,] = tf.py_function(process_image, [image], [tf.uint8])\n",
    "    image.set_shape(im_shape)\n",
    "    [text,] = tf.py_function(tokenize_text, [text], [tf.int32])\n",
    "    return (image, table_data, text), price\n",
    "\n",
    "def tf_process_val_dataset_element(image, table_data, text, price):\n",
    "    [text,] = tf.py_function(tokenize_text, [text], [tf.int32])\n",
    "    return (image, table_data, text), price\n",
    "\n",
    "train_dataset = tf.data.Dataset.from_tensor_slices((\n",
    "    images_train, X_train, data.description.iloc[X_train.index], y_train\n",
    "    )).map(tf_process_train_dataset_element)\n",
    "\n",
    "test_dataset = tf.data.Dataset.from_tensor_slices((\n",
    "    images_test, X_test, data.description.iloc[X_test.index], y_test\n",
    "    )).map(tf_process_val_dataset_element)\n",
    "\n",
    "y_sub = np.zeros(len(X_sub))\n",
    "sub_dataset = tf.data.Dataset.from_tensor_slices((\n",
    "    images_sub, X_sub, data.description.iloc[X_sub.index], y_sub\n",
    "    )).map(tf_process_val_dataset_element)\n",
    "\n",
    "#проверяем, что нет ошибок (не будет выброшено исключение):\n",
    "train_dataset.__iter__().__next__();\n",
    "test_dataset.__iter__().__next__();\n",
    "sub_dataset.__iter__().__next__();"
   ]
  },
  {
   "cell_type": "markdown",
   "metadata": {
    "papermill": {
     "duration": 1.125221,
     "end_time": "2021-06-20T21:35:50.128673",
     "exception": false,
     "start_time": "2021-06-20T21:35:49.003452",
     "status": "completed"
    },
    "tags": []
   },
   "source": [
    "### Строим сверточную сеть для анализа изображений без \"головы\""
   ]
  },
  {
   "cell_type": "code",
   "execution_count": null,
   "metadata": {
    "execution": {
     "iopub.execute_input": "2021-06-20T21:35:52.328035Z",
     "iopub.status.busy": "2021-06-20T21:35:52.325025Z",
     "iopub.status.idle": "2021-06-20T21:35:58.729988Z",
     "shell.execute_reply": "2021-06-20T21:35:58.729524Z",
     "shell.execute_reply.started": "2021-06-20T20:30:32.165426Z"
    },
    "papermill": {
     "duration": 7.509215,
     "end_time": "2021-06-20T21:35:58.730116",
     "exception": false,
     "start_time": "2021-06-20T21:35:51.220901",
     "status": "completed"
    },
    "tags": []
   },
   "outputs": [],
   "source": [
    "#нормализация включена в состав модели EfficientNetB3, поэтому на вход она принимает данные типа uint8\n",
    "base_model = tf.keras.applications.efficientnet.EfficientNetB4(weights = 'imagenet', include_top = False, input_shape = (size[1], size[0], 3))\n",
    "efficientnet_output = L.GlobalAveragePooling2D()(base_model.output)"
   ]
  },
  {
   "cell_type": "code",
   "execution_count": null,
   "metadata": {
    "execution": {
     "iopub.execute_input": "2021-06-20T21:36:01.011483Z",
     "iopub.status.busy": "2021-06-20T21:36:01.009622Z",
     "iopub.status.idle": "2021-06-20T21:36:01.012205Z",
     "shell.execute_reply": "2021-06-20T21:36:01.012634Z",
     "shell.execute_reply.started": "2021-06-20T20:30:36.963894Z"
    },
    "papermill": {
     "duration": 1.129107,
     "end_time": "2021-06-20T21:36:01.012755",
     "exception": false,
     "start_time": "2021-06-20T21:35:59.883648",
     "status": "completed"
    },
    "tags": []
   },
   "outputs": [],
   "source": [
    "base_model.trainable = False"
   ]
  },
  {
   "cell_type": "code",
   "execution_count": null,
   "metadata": {
    "execution": {
     "iopub.execute_input": "2021-06-20T21:36:03.280399Z",
     "iopub.status.busy": "2021-06-20T21:36:03.279214Z",
     "iopub.status.idle": "2021-06-20T21:36:03.310781Z",
     "shell.execute_reply": "2021-06-20T21:36:03.310296Z",
     "shell.execute_reply.started": "2021-06-20T20:30:36.984928Z"
    },
    "papermill": {
     "duration": 1.152905,
     "end_time": "2021-06-20T21:36:03.310879",
     "exception": false,
     "start_time": "2021-06-20T21:36:02.157974",
     "status": "completed"
    },
    "tags": []
   },
   "outputs": [],
   "source": [
    "#строим нейросеть для анализа табличных данных\n",
    "tabular_model = Sequential([\n",
    "    L.Input(shape = X.shape[1]),\n",
    "    L.Dense(512, activation = 'relu'),\n",
    "    L.Dropout(0.5),\n",
    "    L.Dense(256, activation = 'relu'),\n",
    "    L.Dropout(0.5),\n",
    "    ])"
   ]
  },
  {
   "cell_type": "code",
   "execution_count": null,
   "metadata": {
    "execution": {
     "iopub.execute_input": "2021-06-20T21:36:05.747729Z",
     "iopub.status.busy": "2021-06-20T21:36:05.742958Z",
     "iopub.status.idle": "2021-06-20T21:36:06.262972Z",
     "shell.execute_reply": "2021-06-20T21:36:06.261856Z",
     "shell.execute_reply.started": "2021-06-20T20:30:37.032655Z"
    },
    "papermill": {
     "duration": 1.649697,
     "end_time": "2021-06-20T21:36:06.263081",
     "exception": false,
     "start_time": "2021-06-20T21:36:04.613384",
     "status": "completed"
    },
    "tags": []
   },
   "outputs": [],
   "source": [
    "# NLP\n",
    "nlp_model = Sequential([\n",
    "    L.Input(shape=MAX_SEQUENCE_LENGTH, name=\"seq_description\"),\n",
    "    L.Embedding(len(tokenize.word_index)+1, MAX_SEQUENCE_LENGTH,),\n",
    "    L.LSTM(256, return_sequences=True),\n",
    "    L.Dropout(0.5),\n",
    "    L.LSTM(128),\n",
    "    L.Dropout(0.25),\n",
    "    L.Dense(64),\n",
    "    ])"
   ]
  },
  {
   "cell_type": "code",
   "execution_count": null,
   "metadata": {
    "_kg_hide-output": true,
    "execution": {
     "iopub.execute_input": "2021-06-20T21:36:08.495909Z",
     "iopub.status.busy": "2021-06-20T21:36:08.495030Z",
     "iopub.status.idle": "2021-06-20T21:36:08.716882Z",
     "shell.execute_reply": "2021-06-20T21:36:08.719198Z",
     "shell.execute_reply.started": "2021-06-20T20:30:37.855205Z"
    },
    "papermill": {
     "duration": 1.331002,
     "end_time": "2021-06-20T21:36:08.719404",
     "exception": false,
     "start_time": "2021-06-20T21:36:07.388402",
     "status": "completed"
    },
    "tags": []
   },
   "outputs": [],
   "source": [
    "#объединяем выходы трех нейросетей\n",
    "combinedInput = L.concatenate([efficientnet_output, tabular_model.output, nlp_model.output])\n",
    "\n",
    "# being our regression head\n",
    "head = L.Dense(256, activation=\"relu\")(combinedInput)\n",
    "head = L.Dense(1,)(head)\n",
    "\n",
    "model = Model(inputs=[base_model.input, tabular_model.input, nlp_model.input], outputs=head)\n",
    "model.summary()"
   ]
  },
  {
   "cell_type": "code",
   "execution_count": null,
   "metadata": {
    "execution": {
     "iopub.execute_input": "2021-06-20T21:36:10.978125Z",
     "iopub.status.busy": "2021-06-20T21:36:10.963799Z",
     "iopub.status.idle": "2021-06-20T21:36:10.986270Z",
     "shell.execute_reply": "2021-06-20T21:36:10.985760Z",
     "shell.execute_reply.started": "2021-06-20T20:30:38.084819Z"
    },
    "papermill": {
     "duration": 1.128962,
     "end_time": "2021-06-20T21:36:10.986376",
     "exception": false,
     "start_time": "2021-06-20T21:36:09.857414",
     "status": "completed"
    },
    "tags": []
   },
   "outputs": [],
   "source": [
    "optimizer = tf.keras.optimizers.Adam(0.01)\n",
    "model.compile(loss='MAPE',optimizer=optimizer, metrics=['MAPE'])"
   ]
  },
  {
   "cell_type": "code",
   "execution_count": null,
   "metadata": {
    "execution": {
     "iopub.execute_input": "2021-06-20T21:36:13.229155Z",
     "iopub.status.busy": "2021-06-20T21:36:13.227383Z",
     "iopub.status.idle": "2021-06-20T21:36:13.229719Z",
     "shell.execute_reply": "2021-06-20T21:36:13.230140Z",
     "shell.execute_reply.started": "2021-06-20T20:30:38.113932Z"
    },
    "papermill": {
     "duration": 1.139508,
     "end_time": "2021-06-20T21:36:13.230257",
     "exception": false,
     "start_time": "2021-06-20T21:36:12.090749",
     "status": "completed"
    },
    "tags": []
   },
   "outputs": [],
   "source": [
    "checkpoint = ModelCheckpoint('../working/best_model.hdf5', monitor=['val_MAPE'], verbose=0, mode='min')\n",
    "earlystop = EarlyStopping(monitor='val_MAPE', patience=10, restore_best_weights=True,)\n",
    "callbacks_list = [checkpoint, earlystop]"
   ]
  },
  {
   "cell_type": "code",
   "execution_count": null,
   "metadata": {
    "_kg_hide-output": true,
    "execution": {
     "iopub.execute_input": "2021-06-20T21:36:15.661683Z",
     "iopub.status.busy": "2021-06-20T21:36:15.660878Z",
     "iopub.status.idle": "2021-06-20T22:24:31.424293Z",
     "shell.execute_reply": "2021-06-20T22:24:31.423731Z"
    },
    "papermill": {
     "duration": 2897.088369,
     "end_time": "2021-06-20T22:24:31.424423",
     "exception": false,
     "start_time": "2021-06-20T21:36:14.336054",
     "status": "completed"
    },
    "tags": []
   },
   "outputs": [],
   "source": [
    "history = model.fit(train_dataset.batch(30),\n",
    "                    epochs=500,\n",
    "                    validation_data = test_dataset.batch(30),\n",
    "                    callbacks=callbacks_list\n",
    "                   )"
   ]
  },
  {
   "cell_type": "code",
   "execution_count": null,
   "metadata": {
    "execution": {
     "iopub.execute_input": "2021-06-20T22:24:37.035735Z",
     "iopub.status.busy": "2021-06-20T22:24:37.034359Z",
     "iopub.status.idle": "2021-06-20T22:24:37.257345Z",
     "shell.execute_reply": "2021-06-20T22:24:37.257778Z"
    },
    "papermill": {
     "duration": 2.979773,
     "end_time": "2021-06-20T22:24:37.257897",
     "exception": false,
     "start_time": "2021-06-20T22:24:34.278124",
     "status": "completed"
    },
    "tags": []
   },
   "outputs": [],
   "source": [
    "plt.title('Loss')\n",
    "plt.plot(history.history['MAPE'], label='train')\n",
    "plt.plot(history.history['val_MAPE'], label='test')\n",
    "plt.show();"
   ]
  },
  {
   "cell_type": "code",
   "execution_count": null,
   "metadata": {
    "execution": {
     "iopub.execute_input": "2021-06-20T22:24:43.006439Z",
     "iopub.status.busy": "2021-06-20T22:24:42.970645Z",
     "iopub.status.idle": "2021-06-20T22:24:44.667611Z",
     "shell.execute_reply": "2021-06-20T22:24:44.665767Z"
    },
    "papermill": {
     "duration": 4.437955,
     "end_time": "2021-06-20T22:24:44.667725",
     "exception": false,
     "start_time": "2021-06-20T22:24:40.229770",
     "status": "completed"
    },
    "tags": []
   },
   "outputs": [],
   "source": [
    "model.load_weights('../working/best_model.hdf5')\n",
    "model.save('../working/nn_final.hdf5')"
   ]
  },
  {
   "cell_type": "code",
   "execution_count": null,
   "metadata": {
    "execution": {
     "iopub.execute_input": "2021-06-20T22:24:50.175446Z",
     "iopub.status.busy": "2021-06-20T22:24:50.174556Z",
     "iopub.status.idle": "2021-06-20T22:24:57.946359Z",
     "shell.execute_reply": "2021-06-20T22:24:57.946990Z"
    },
    "papermill": {
     "duration": 10.559709,
     "end_time": "2021-06-20T22:24:57.947191",
     "exception": false,
     "start_time": "2021-06-20T22:24:47.387482",
     "status": "completed"
    },
    "tags": []
   },
   "outputs": [],
   "source": [
    "test_predict_nn3 = model.predict(test_dataset.batch(30))\n",
    "print(f\"TEST mape: {(mape(y_test, test_predict_nn3[:,0]))*100:0.2f}%\")"
   ]
  },
  {
   "cell_type": "code",
   "execution_count": null,
   "metadata": {
    "execution": {
     "iopub.execute_input": "2021-06-20T22:25:03.709715Z",
     "iopub.status.busy": "2021-06-20T22:25:03.707888Z",
     "iopub.status.idle": "2021-06-20T22:25:03.710391Z",
     "shell.execute_reply": "2021-06-20T22:25:03.710792Z"
    },
    "papermill": {
     "duration": 3.032315,
     "end_time": "2021-06-20T22:25:03.710910",
     "exception": false,
     "start_time": "2021-06-20T22:25:00.678595",
     "status": "completed"
    },
    "tags": []
   },
   "outputs": [],
   "source": [
    "base_model.trainable = True\n",
    "\n",
    "# Fine-tune from this layer onwards\n",
    "fine_tune_at = len(base_model.layers)//2\n",
    "\n",
    "# Freeze all the layers before the `fine_tune_at` layer\n",
    "for layer in base_model.layers[:fine_tune_at]:\n",
    "    layer.trainable =  False"
   ]
  },
  {
   "cell_type": "code",
   "execution_count": null,
   "metadata": {
    "execution": {
     "iopub.execute_input": "2021-06-20T22:25:09.328465Z",
     "iopub.status.busy": "2021-06-20T22:25:09.327768Z",
     "iopub.status.idle": "2021-06-20T22:25:09.343727Z",
     "shell.execute_reply": "2021-06-20T22:25:09.342842Z"
    },
    "papermill": {
     "duration": 2.811546,
     "end_time": "2021-06-20T22:25:09.343828",
     "exception": false,
     "start_time": "2021-06-20T22:25:06.532282",
     "status": "completed"
    },
    "tags": []
   },
   "outputs": [],
   "source": [
    "optimizer = tf.keras.optimizers.Adam(0.001)\n",
    "model.compile(loss='MAPE',optimizer=optimizer, metrics=['MAPE'])"
   ]
  },
  {
   "cell_type": "code",
   "execution_count": null,
   "metadata": {
    "execution": {
     "iopub.execute_input": "2021-06-20T22:25:15.025910Z",
     "iopub.status.busy": "2021-06-20T22:25:15.025064Z",
     "iopub.status.idle": "2021-06-20T23:27:30.617912Z",
     "shell.execute_reply": "2021-06-20T23:27:30.616931Z"
    },
    "papermill": {
     "duration": 3738.510487,
     "end_time": "2021-06-20T23:27:30.618026",
     "exception": false,
     "start_time": "2021-06-20T22:25:12.107539",
     "status": "completed"
    },
    "tags": []
   },
   "outputs": [],
   "source": [
    "history = model.fit(train_dataset.batch(30),\n",
    "                    epochs=500,\n",
    "                    validation_data = test_dataset.batch(30),\n",
    "                    callbacks=callbacks_list\n",
    "                   )"
   ]
  },
  {
   "cell_type": "code",
   "execution_count": null,
   "metadata": {
    "execution": {
     "iopub.execute_input": "2021-06-20T23:27:40.216810Z",
     "iopub.status.busy": "2021-06-20T23:27:40.215321Z",
     "iopub.status.idle": "2021-06-20T23:27:40.464303Z",
     "shell.execute_reply": "2021-06-20T23:27:40.464717Z"
    },
    "papermill": {
     "duration": 4.985215,
     "end_time": "2021-06-20T23:27:40.464835",
     "exception": false,
     "start_time": "2021-06-20T23:27:35.479620",
     "status": "completed"
    },
    "tags": []
   },
   "outputs": [],
   "source": [
    "plt.title('Loss')\n",
    "plt.plot(history.history['MAPE'], label='train')\n",
    "plt.plot(history.history['val_MAPE'], label='test')\n",
    "plt.show();"
   ]
  },
  {
   "cell_type": "code",
   "execution_count": null,
   "metadata": {
    "execution": {
     "iopub.execute_input": "2021-06-20T23:27:50.479816Z",
     "iopub.status.busy": "2021-06-20T23:27:50.449120Z",
     "iopub.status.idle": "2021-06-20T23:27:52.747484Z",
     "shell.execute_reply": "2021-06-20T23:27:52.748073Z"
    },
    "papermill": {
     "duration": 6.957256,
     "end_time": "2021-06-20T23:27:52.748243",
     "exception": false,
     "start_time": "2021-06-20T23:27:45.790987",
     "status": "completed"
    },
    "tags": []
   },
   "outputs": [],
   "source": [
    "model.load_weights('../working/best_model.hdf5')\n",
    "model.save('../working/nn_final.hdf5')"
   ]
  },
  {
   "cell_type": "code",
   "execution_count": null,
   "metadata": {
    "execution": {
     "iopub.execute_input": "2021-06-20T23:28:02.240507Z",
     "iopub.status.busy": "2021-06-20T23:28:02.239214Z",
     "iopub.status.idle": "2021-06-20T23:28:09.946811Z",
     "shell.execute_reply": "2021-06-20T23:28:09.947423Z"
    },
    "papermill": {
     "duration": 12.285345,
     "end_time": "2021-06-20T23:28:09.947596",
     "exception": false,
     "start_time": "2021-06-20T23:27:57.662251",
     "status": "completed"
    },
    "tags": []
   },
   "outputs": [],
   "source": [
    "test_predict_nn3 = model.predict(test_dataset.batch(30))\n",
    "print(f\"TEST mape: {(mape(y_test, test_predict_nn3[:,0]))*100:0.2f}%\")"
   ]
  },
  {
   "cell_type": "code",
   "execution_count": null,
   "metadata": {
    "execution": {
     "iopub.execute_input": "2021-06-20T23:28:20.131928Z",
     "iopub.status.busy": "2021-06-20T23:28:20.111379Z",
     "iopub.status.idle": "2021-06-20T23:28:20.142392Z",
     "shell.execute_reply": "2021-06-20T23:28:20.141929Z"
    },
    "papermill": {
     "duration": 5.570452,
     "end_time": "2021-06-20T23:28:20.142486",
     "exception": false,
     "start_time": "2021-06-20T23:28:14.572034",
     "status": "completed"
    },
    "tags": []
   },
   "outputs": [],
   "source": [
    "base_model.trainable = True\n",
    "ptimizer = tf.keras.optimizers.Adam(0.0001)\n",
    "model.compile(loss='MAPE',optimizer=optimizer, metrics=['MAPE'])"
   ]
  },
  {
   "cell_type": "code",
   "execution_count": null,
   "metadata": {
    "execution": {
     "iopub.execute_input": "2021-06-20T23:28:29.635272Z",
     "iopub.status.busy": "2021-06-20T23:28:29.634415Z",
     "iopub.status.idle": "2021-06-21T01:20:49.347275Z",
     "shell.execute_reply": "2021-06-21T01:20:49.347668Z"
    },
    "papermill": {
     "duration": 6744.573646,
     "end_time": "2021-06-21T01:20:49.347823",
     "exception": false,
     "start_time": "2021-06-20T23:28:24.774177",
     "status": "completed"
    },
    "tags": []
   },
   "outputs": [],
   "source": [
    "history = model.fit(train_dataset.batch(30),\n",
    "                    epochs=500,\n",
    "                    validation_data = test_dataset.batch(30),\n",
    "                    callbacks=callbacks_list\n",
    "                   )"
   ]
  },
  {
   "cell_type": "code",
   "execution_count": null,
   "metadata": {
    "execution": {
     "iopub.execute_input": "2021-06-21T01:21:03.673892Z",
     "iopub.status.busy": "2021-06-21T01:21:03.672022Z",
     "iopub.status.idle": "2021-06-21T01:21:03.895611Z",
     "shell.execute_reply": "2021-06-21T01:21:03.896007Z"
    },
    "papermill": {
     "duration": 7.139131,
     "end_time": "2021-06-21T01:21:03.896151",
     "exception": false,
     "start_time": "2021-06-21T01:20:56.757020",
     "status": "completed"
    },
    "tags": []
   },
   "outputs": [],
   "source": [
    "plt.title('Loss')\n",
    "plt.plot(history.history['MAPE'], label='train')\n",
    "plt.plot(history.history['val_MAPE'], label='test')\n",
    "plt.show();"
   ]
  },
  {
   "cell_type": "code",
   "execution_count": null,
   "metadata": {
    "execution": {
     "iopub.execute_input": "2021-06-21T01:21:17.669492Z",
     "iopub.status.busy": "2021-06-21T01:21:17.664380Z",
     "iopub.status.idle": "2021-06-21T01:21:20.230705Z",
     "shell.execute_reply": "2021-06-21T01:21:20.232325Z"
    },
    "papermill": {
     "duration": 9.547176,
     "end_time": "2021-06-21T01:21:20.232461",
     "exception": false,
     "start_time": "2021-06-21T01:21:10.685285",
     "status": "completed"
    },
    "tags": []
   },
   "outputs": [],
   "source": [
    "model.load_weights('../working/best_model.hdf5')\n",
    "model.save('../working/nn_final.hdf5')"
   ]
  },
  {
   "cell_type": "code",
   "execution_count": null,
   "metadata": {
    "execution": {
     "iopub.execute_input": "2021-06-21T01:21:34.419626Z",
     "iopub.status.busy": "2021-06-21T01:21:34.418799Z",
     "iopub.status.idle": "2021-06-21T01:21:42.103070Z",
     "shell.execute_reply": "2021-06-21T01:21:42.101979Z"
    },
    "papermill": {
     "duration": 15.0463,
     "end_time": "2021-06-21T01:21:42.103224",
     "exception": false,
     "start_time": "2021-06-21T01:21:27.056924",
     "status": "completed"
    },
    "tags": []
   },
   "outputs": [],
   "source": [
    "test_predict_nn3 = model.predict(test_dataset.batch(30))\n",
    "print(f\"TEST mape: {(mape(y_test, test_predict_nn3[:,0]))*100:0.2f}%\")"
   ]
  },
  {
   "cell_type": "code",
   "execution_count": null,
   "metadata": {
    "execution": {
     "iopub.execute_input": "2021-06-21T01:21:55.816624Z",
     "iopub.status.busy": "2021-06-21T01:21:55.815723Z",
     "iopub.status.idle": "2021-06-21T01:22:04.170269Z",
     "shell.execute_reply": "2021-06-21T01:22:04.169735Z"
    },
    "papermill": {
     "duration": 15.033982,
     "end_time": "2021-06-21T01:22:04.170394",
     "exception": false,
     "start_time": "2021-06-21T01:21:49.136412",
     "status": "completed"
    },
    "tags": []
   },
   "outputs": [],
   "source": [
    "sub_predict_nn3 = model.predict(sub_dataset.batch(30))\n",
    "sample_submission['price'] = sub_predict_nn3[:,0]\n",
    "sample_submission.to_csv('nn3_submission.csv', index=False)"
   ]
  },
  {
   "cell_type": "code",
   "execution_count": null,
   "metadata": {
    "execution": {
     "iopub.execute_input": "2021-06-21T01:22:18.002172Z",
     "iopub.status.busy": "2021-06-21T01:22:18.001375Z",
     "iopub.status.idle": "2021-06-21T01:22:18.004861Z",
     "shell.execute_reply": "2021-06-21T01:22:18.005283Z"
    },
    "papermill": {
     "duration": 6.892716,
     "end_time": "2021-06-21T01:22:18.005403",
     "exception": false,
     "start_time": "2021-06-21T01:22:11.112687",
     "status": "completed"
    },
    "tags": []
   },
   "outputs": [],
   "source": [
    "sample_submission.head()"
   ]
  },
  {
   "cell_type": "markdown",
   "metadata": {
    "papermill": {
     "duration": 7.33905,
     "end_time": "2021-06-21T01:22:32.158591",
     "exception": false,
     "start_time": "2021-06-21T01:22:24.819541",
     "status": "completed"
    },
    "tags": []
   },
   "source": [
    "\n",
    "#### Общие рекомендации:\n",
    "* Попробовать разные архитектуры\n",
    "* Провести более детальный анализ результатов\n",
    "* Попробовать различные подходы в управление LR и оптимизаторы\n",
    "* Поработать с таргетом\n",
    "* Использовать Fine-tuning\n",
    "\n",
    "#### Tabular\n",
    "* В нейросеть желательно подавать данные с распределением, близким к нормальному, поэтому от некоторых числовых признаков имеет смысл взять логарифм перед нормализацией. Пример:\n",
    "`modelDateNorm = np.log(2020 - data['modelDate'])`\n",
    "Статья по теме: https://habr.com/ru/company/ods/blog/325422\n",
    "\n",
    "* Извлечение числовых значений из текста:\n",
    "Парсинг признаков 'engineDisplacement', 'enginePower', 'Владение' для извлечения числовых значений.\n",
    "\n",
    "* Cокращение размерности категориальных признаков\n",
    "Признак name 'name' содержит данные, которые уже есть в других столбцах ('enginePower', 'engineDisplacement', 'vehicleTransmission'). Можно удалить эти данные. Затем можно еще сильнее сократить размерность, например выделив наличие xDrive в качестве отдельного признака.\n",
    "\n",
    "* Поработать над Feature engineering\n",
    "\n",
    "\n",
    "\n",
    "#### NLP\n",
    "* Выделить из описаний часто встречающиеся блоки текста, заменив их на кодовые слова или удалив\n",
    "* Сделать предобработку текста, например сделать лемматизацию - алгоритм ставящий все слова в форму по умолчанию (глаголы в инфинитив и т. д.), чтобы токенайзер не преобразовывал разные формы слова в разные числа\n",
    "Статья по теме: https://habr.com/ru/company/Voximplant/blog/446738/\n",
    "* Поработать над алгоритмами очистки и аугментации текста\n",
    "\n",
    "\n",
    "\n",
    "#### CV\n",
    "* Попробовать различные аугментации\n",
    "* Fine-tuning"
   ]
  },
  {
   "cell_type": "markdown",
   "metadata": {
    "papermill": {
     "duration": 7.082467,
     "end_time": "2021-06-21T01:22:46.224142",
     "exception": false,
     "start_time": "2021-06-21T01:22:39.141675",
     "status": "completed"
    },
    "tags": []
   },
   "source": [
    "# Blend"
   ]
  },
  {
   "cell_type": "code",
   "execution_count": null,
   "metadata": {
    "execution": {
     "iopub.execute_input": "2021-06-21T01:22:59.739317Z",
     "iopub.status.busy": "2021-06-21T01:22:59.738698Z",
     "iopub.status.idle": "2021-06-21T01:22:59.747919Z",
     "shell.execute_reply": "2021-06-21T01:22:59.747326Z"
    },
    "papermill": {
     "duration": 6.688025,
     "end_time": "2021-06-21T01:22:59.748048",
     "exception": false,
     "start_time": "2021-06-21T01:22:53.060023",
     "status": "completed"
    },
    "tags": []
   },
   "outputs": [],
   "source": [
    "blend_predict = (test_predict_catboost + test_predict_nn3[:,0]) / 2\n",
    "print(f\"TEST mape: {(mape(np.exp(y_test), blend_predict))*100:0.2f}%\")"
   ]
  },
  {
   "cell_type": "code",
   "execution_count": null,
   "metadata": {
    "execution": {
     "iopub.execute_input": "2021-06-21T01:23:14.078501Z",
     "iopub.status.busy": "2021-06-21T01:23:14.077706Z",
     "iopub.status.idle": "2021-06-21T01:23:14.087437Z",
     "shell.execute_reply": "2021-06-21T01:23:14.086864Z"
    },
    "papermill": {
     "duration": 6.899064,
     "end_time": "2021-06-21T01:23:14.087535",
     "exception": false,
     "start_time": "2021-06-21T01:23:07.188471",
     "status": "completed"
    },
    "tags": []
   },
   "outputs": [],
   "source": [
    "blend_sub_predict = (sub_predict_catboost + sub_predict_nn3[:,0]) / 2\n",
    "sample_submission['price'] = blend_sub_predict\n",
    "sample_submission.to_csv('blend_submission.csv', index=False)"
   ]
  },
  {
   "cell_type": "markdown",
   "metadata": {
    "papermill": {
     "duration": 6.921971,
     "end_time": "2021-06-21T01:23:27.769016",
     "exception": false,
     "start_time": "2021-06-21T01:23:20.847045",
     "status": "completed"
    },
    "tags": []
   },
   "source": [
    "# Model Bonus: проброс признака"
   ]
  },
  {
   "cell_type": "code",
   "execution_count": null,
   "metadata": {
    "execution": {
     "iopub.execute_input": "2021-06-21T01:23:41.856929Z",
     "iopub.status.busy": "2021-06-21T01:23:41.856006Z",
     "iopub.status.idle": "2021-06-21T01:23:41.895074Z",
     "shell.execute_reply": "2021-06-21T01:23:41.894132Z"
    },
    "papermill": {
     "duration": 7.465197,
     "end_time": "2021-06-21T01:23:41.895202",
     "exception": false,
     "start_time": "2021-06-21T01:23:34.430005",
     "status": "completed"
    },
    "tags": []
   },
   "outputs": [],
   "source": [
    "# MLP\n",
    "model_mlp = Sequential()\n",
    "model_mlp.add(L.Dense(512, input_dim=X_train.shape[1], activation=\"relu\"))\n",
    "model_mlp.add(L.Dropout(0.5))\n",
    "model_mlp.add(L.Dense(256, activation=\"relu\"))\n",
    "model_mlp.add(L.Dropout(0.5))"
   ]
  },
  {
   "cell_type": "code",
   "execution_count": null,
   "metadata": {
    "execution": {
     "iopub.execute_input": "2021-06-21T01:23:55.807139Z",
     "iopub.status.busy": "2021-06-21T01:23:55.798446Z",
     "iopub.status.idle": "2021-06-21T01:23:55.815987Z",
     "shell.execute_reply": "2021-06-21T01:23:55.815520Z"
    },
    "papermill": {
     "duration": 6.896811,
     "end_time": "2021-06-21T01:23:55.816102",
     "exception": false,
     "start_time": "2021-06-21T01:23:48.919291",
     "status": "completed"
    },
    "tags": []
   },
   "outputs": [],
   "source": [
    "# FEATURE Input\n",
    "# Iput\n",
    "productiondate = L.Input(shape=[1], name=\"productiondate\")\n",
    "# Embeddings layers\n",
    "emb_productiondate = L.Embedding(len(X.productionDate.unique().tolist())+1, 20)(productiondate)\n",
    "f_productiondate = L.Flatten()(emb_productiondate)"
   ]
  },
  {
   "cell_type": "code",
   "execution_count": null,
   "metadata": {
    "execution": {
     "iopub.execute_input": "2021-06-21T01:24:10.189999Z",
     "iopub.status.busy": "2021-06-21T01:24:10.189460Z",
     "iopub.status.idle": "2021-06-21T01:24:10.212444Z",
     "shell.execute_reply": "2021-06-21T01:24:10.212839Z"
    },
    "papermill": {
     "duration": 7.365702,
     "end_time": "2021-06-21T01:24:10.212972",
     "exception": false,
     "start_time": "2021-06-21T01:24:02.847270",
     "status": "completed"
    },
    "tags": []
   },
   "outputs": [],
   "source": [
    "combinedInput = L.concatenate([model_mlp.output, f_productiondate,])\n",
    "# being our regression head\n",
    "head = L.Dense(64, activation=\"relu\")(combinedInput)\n",
    "head = L.Dense(1, activation=\"linear\")(head)\n",
    "\n",
    "model = Model(inputs=[model_mlp.input, productiondate], outputs=head)"
   ]
  },
  {
   "cell_type": "code",
   "execution_count": null,
   "metadata": {
    "_kg_hide-output": true,
    "execution": {
     "iopub.execute_input": "2021-06-21T01:24:23.818916Z",
     "iopub.status.busy": "2021-06-21T01:24:23.818032Z",
     "iopub.status.idle": "2021-06-21T01:24:23.825431Z",
     "shell.execute_reply": "2021-06-21T01:24:23.825000Z"
    },
    "papermill": {
     "duration": 6.949872,
     "end_time": "2021-06-21T01:24:23.825523",
     "exception": false,
     "start_time": "2021-06-21T01:24:16.875651",
     "status": "completed"
    },
    "tags": []
   },
   "outputs": [],
   "source": [
    "model.summary()"
   ]
  },
  {
   "cell_type": "code",
   "execution_count": null,
   "metadata": {
    "execution": {
     "iopub.execute_input": "2021-06-21T01:24:37.414027Z",
     "iopub.status.busy": "2021-06-21T01:24:37.413392Z",
     "iopub.status.idle": "2021-06-21T01:24:37.420916Z",
     "shell.execute_reply": "2021-06-21T01:24:37.420372Z"
    },
    "papermill": {
     "duration": 6.727121,
     "end_time": "2021-06-21T01:24:37.421016",
     "exception": false,
     "start_time": "2021-06-21T01:24:30.693895",
     "status": "completed"
    },
    "tags": []
   },
   "outputs": [],
   "source": [
    "optimizer = tf.keras.optimizers.Adam(0.04)\n",
    "model.compile(loss='MAPE',optimizer=optimizer, metrics=['MAPE'])"
   ]
  },
  {
   "cell_type": "code",
   "execution_count": null,
   "metadata": {
    "execution": {
     "iopub.execute_input": "2021-06-21T01:24:51.581344Z",
     "iopub.status.busy": "2021-06-21T01:24:51.580525Z",
     "iopub.status.idle": "2021-06-21T01:25:08.659883Z",
     "shell.execute_reply": "2021-06-21T01:25:08.659263Z"
    },
    "papermill": {
     "duration": 23.907469,
     "end_time": "2021-06-21T01:25:08.660019",
     "exception": false,
     "start_time": "2021-06-21T01:24:44.752550",
     "status": "completed"
    },
    "tags": []
   },
   "outputs": [],
   "source": [
    "history = model.fit([X_train, X_train.productionDate.values], y_train,\n",
    "                    batch_size=512,\n",
    "                    epochs=500, # фактически мы обучаем пока EarlyStopping не остановит обучение\n",
    "                    validation_data=([X_test, X_test.productionDate.values], y_test),\n",
    "                    callbacks=callbacks_list\n",
    "                   )"
   ]
  },
  {
   "cell_type": "code",
   "execution_count": null,
   "metadata": {
    "execution": {
     "iopub.execute_input": "2021-06-21T01:25:22.883643Z",
     "iopub.status.busy": "2021-06-21T01:25:22.883030Z",
     "iopub.status.idle": "2021-06-21T01:25:23.032359Z",
     "shell.execute_reply": "2021-06-21T01:25:23.031228Z"
    },
    "papermill": {
     "duration": 6.835672,
     "end_time": "2021-06-21T01:25:23.032504",
     "exception": false,
     "start_time": "2021-06-21T01:25:16.196832",
     "status": "completed"
    },
    "tags": []
   },
   "outputs": [],
   "source": [
    "model.load_weights('../working/best_model.hdf5')\n",
    "test_predict_nn_bonus = model.predict([X_test, X_test.productionDate.values])\n",
    "print(f\"TEST mape: {(mape(y_test, test_predict_nn_bonus[:,0]))*100:0.2f}%\")"
   ]
  },
  {
   "cell_type": "code",
   "execution_count": null,
   "metadata": {
    "papermill": {
     "duration": 7.039969,
     "end_time": "2021-06-21T01:25:37.097569",
     "exception": false,
     "start_time": "2021-06-21T01:25:30.057600",
     "status": "completed"
    },
    "tags": []
   },
   "outputs": [],
   "source": []
  },
  {
   "cell_type": "code",
   "execution_count": null,
   "metadata": {
    "papermill": {
     "duration": 7.08458,
     "end_time": "2021-06-21T01:25:51.417825",
     "exception": false,
     "start_time": "2021-06-21T01:25:44.333245",
     "status": "completed"
    },
    "tags": []
   },
   "outputs": [],
   "source": []
  }
 ],
 "metadata": {
  "kernelspec": {
   "display_name": "Python 3",
   "language": "python",
   "name": "python3"
  },
  "language_info": {
   "codemirror_mode": {
    "name": "ipython",
    "version": 3
   },
   "file_extension": ".py",
   "mimetype": "text/x-python",
   "name": "python",
   "nbconvert_exporter": "python",
   "pygments_lexer": "ipython3",
   "version": "3.8.5"
  },
  "papermill": {
   "duration": 15201.178362,
   "end_time": "2021-06-21T01:25:59.687855",
   "environment_variables": {},
   "exception": null,
   "input_path": "__notebook__.ipynb",
   "output_path": "__notebook__.ipynb",
   "parameters": {},
   "start_time": "2021-06-20T21:12:38.509493",
   "version": "2.1.0"
  },
  "toc": {
   "base_numbering": 1,
   "nav_menu": {},
   "number_sections": true,
   "sideBar": true,
   "skip_h1_title": false,
   "title_cell": "Table of Contents",
   "title_sidebar": "Contents",
   "toc_cell": false,
   "toc_position": {},
   "toc_section_display": true,
   "toc_window_display": false
  },
  "varInspector": {
   "cols": {
    "lenName": 16,
    "lenType": 16,
    "lenVar": 40
   },
   "kernels_config": {
    "python": {
     "delete_cmd_postfix": "",
     "delete_cmd_prefix": "del ",
     "library": "var_list.py",
     "varRefreshCmd": "print(var_dic_list())"
    },
    "r": {
     "delete_cmd_postfix": ") ",
     "delete_cmd_prefix": "rm(",
     "library": "var_list.r",
     "varRefreshCmd": "cat(var_dic_list()) "
    }
   },
   "types_to_exclude": [
    "module",
    "function",
    "builtin_function_or_method",
    "instance",
    "_Feature"
   ],
   "window_display": false
  }
 },
 "nbformat": 4,
 "nbformat_minor": 4
}
