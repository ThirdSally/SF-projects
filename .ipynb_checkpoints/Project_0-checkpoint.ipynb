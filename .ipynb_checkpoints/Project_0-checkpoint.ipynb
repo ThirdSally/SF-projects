{
 "cells": [
  {
   "cell_type": "markdown",
   "metadata": {},
   "source": [
    "## Задача: компьютер загадывает целое число от 1 до 100, нужно написать программу, которая угадывает его (за как можно меньшее число попыток)\n",
    "\n",
    "### Решение:"
   ]
  },
  {
   "cell_type": "code",
   "execution_count": 2,
   "metadata": {},
   "outputs": [
    {
     "name": "stdout",
     "output_type": "stream",
     "text": [
      "Ваш алгоритм угадывает число в среднем за 4 попыток\n"
     ]
    },
    {
     "data": {
      "text/plain": [
       "4"
      ]
     },
     "execution_count": 2,
     "metadata": {},
     "output_type": "execute_result"
    }
   ],
   "source": [
    "import numpy as np\n",
    "def game_core_v3(number):\n",
    "    '''Сначала устанавливаем любое random число в диапазоне от 1 до 100, затем меняем его \n",
    "    в зависимости от того, в какой части диапазона находится загаданное число.\n",
    "       Функция принимает загаданное число и возвращает число попыток'''\n",
    "    start_range = 1 #начальное число заданного диапазона\n",
    "    end_range = 100 #конечное число заданного диапазона\n",
    "    predict = np.random.randint(start_range, end_range+1)\n",
    "    attempt = 0 #счетчик попыток\n",
    "    \n",
    "    while number != predict:\n",
    "        attempt += 1\n",
    "        mid_range = (start_range + end_range)//2 #обозначаем середину диапазона для его последующего сокращения\n",
    "        if number > mid_range: #проверяем, в какой части диапазона находится загаданное число\n",
    "            start_range = mid_range #передвигаем начало диапазона в обозначенную середину\n",
    "            predict = start_range + 1 \n",
    "        else:\n",
    "            end_range = mid_range #передвигаем конец диапазона в обозначенную середину\n",
    "            predict = end_range\n",
    "            \n",
    "    return attempt\n",
    "\n",
    "\n",
    "def score_game(game_core_v3):\n",
    "    '''Запускаем игру 1000 раз, чтобы узнать, как быстро игра угадывает число'''\n",
    "    count_ls = []\n",
    "    np.random.seed(1)  # фиксируем RANDOM SEED, чтобы ваш эксперимент был воспроизводим!\n",
    "    random_array = np.random.randint(1,101, size=(1000))\n",
    "    \n",
    "    for number in random_array:\n",
    "        count_ls.append(game_core_v3(number))\n",
    "    score = int(np.mean(count_ls))\n",
    "    print(f\"Ваш алгоритм угадывает число в среднем за {score} попыток\")\n",
    "    \n",
    "    return(score)\n",
    "\n",
    "\n",
    "score_game(game_core_v3)"
   ]
  }
 ],
 "metadata": {
  "kernelspec": {
   "display_name": "Python 3",
   "language": "python",
   "name": "python3"
  },
  "language_info": {
   "codemirror_mode": {
    "name": "ipython",
    "version": 3
   },
   "file_extension": ".py",
   "mimetype": "text/x-python",
   "name": "python",
   "nbconvert_exporter": "python",
   "pygments_lexer": "ipython3",
   "version": "3.7.6"
  }
 },
 "nbformat": 4,
 "nbformat_minor": 4
}
